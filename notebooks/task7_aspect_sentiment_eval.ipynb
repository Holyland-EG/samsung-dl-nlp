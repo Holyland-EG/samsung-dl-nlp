{
 "cells": [
  {
   "cell_type": "markdown",
   "metadata": {},
   "source": [
    "# Аспектный анализ тональности текстов"
   ]
  },
  {
   "cell_type": "markdown",
   "metadata": {},
   "source": [
    "* [1] https://github.com/nlpub/pymystem3\n",
    "* [2] SentiRuEval2015\n",
    "* [3] https://rusvectores.org/ru/models/"
   ]
  },
  {
   "cell_type": "code",
   "execution_count": 1,
   "metadata": {},
   "outputs": [],
   "source": [
    "# Если Вы запускаете ноутбук на colab,\n",
    "# выполните следующие строчки, чтобы подгрузить библиотеку dlnlputils:\n",
    "\n",
    "# !git clone https://github.com/Samsung-IT-Academy/stepik-dl-nlp.git\n",
    "import sys; sys.path.append('/Users/evagolubenko/Documents/try_python/sumsung-dl-nlp_(stepik)/')"
   ]
  },
  {
   "cell_type": "code",
   "execution_count": 2,
   "metadata": {},
   "outputs": [
    {
     "data": {
      "text/plain": [
       "<torch._C.Generator at 0x10a2066b0>"
      ]
     },
     "execution_count": 2,
     "metadata": {},
     "output_type": "execute_result"
    }
   ],
   "source": [
    "import torch\n",
    "import torch.nn as nn\n",
    "import torch.nn.functional as F\n",
    "import torch.optim as optim\n",
    "\n",
    "import random\n",
    "import numpy as np\n",
    "import matplotlib.pyplot as plt\n",
    "%matplotlib inline\n",
    "\n",
    "torch.manual_seed(1)"
   ]
  },
  {
   "cell_type": "markdown",
   "metadata": {},
   "source": [
    "## Оригинальная разметка"
   ]
  },
  {
   "cell_type": "code",
   "execution_count": 7,
   "metadata": {},
   "outputs": [],
   "source": [
    "# Если Вы запускаете ноутбук на colab, добавьте в начало пути /content/stepik-dl-nlp\n",
    "xml_sentiments = '/Users/evagolubenko/Documents/try_python/sumsung-dl-nlp_(stepik)/datasets/sentirueval2015/SentiRuEval_car_markup_train.xml'"
   ]
  },
  {
   "cell_type": "code",
   "execution_count": 8,
   "metadata": {},
   "outputs": [],
   "source": [
    "from dlnlputils.sentiment_utils import parse_xml_sentiment, parse_xml_aspect, show_markup"
   ]
  },
  {
   "cell_type": "markdown",
   "metadata": {},
   "source": [
    "тексты с разметкой аспектов и тональностей: "
   ]
  },
  {
   "cell_type": "code",
   "execution_count": 9,
   "metadata": {},
   "outputs": [],
   "source": [
    "texts_w_sentiment_spans = parse_xml_sentiment(xml_sentiments)\n",
    "texts_w_aspect_spans    = parse_xml_aspect(xml_sentiments)"
   ]
  },
  {
   "cell_type": "code",
   "execution_count": 10,
   "metadata": {},
   "outputs": [
    {
     "name": "stdout",
     "output_type": "stream",
     "text": [
      "Загружено 217 текстов с разметкой тональности\n",
      "\n"
     ]
    }
   ],
   "source": [
    "amount = len(texts_w_sentiment_spans)\n",
    "\n",
    "print('Загружено {} текстов с разметкой тональности\\n'.format(amount))"
   ]
  },
  {
   "cell_type": "markdown",
   "metadata": {},
   "source": [
    "##### выберем 2 текста, на которых будем рассматривать все примеры:"
   ]
  },
  {
   "cell_type": "code",
   "execution_count": 11,
   "metadata": {},
   "outputs": [],
   "source": [
    "random_picks = [random.randint(0,amount-1) for _ in range(0,2)]"
   ]
  },
  {
   "cell_type": "markdown",
   "metadata": {},
   "source": [
    "####  тональность (sentiment)"
   ]
  },
  {
   "cell_type": "code",
   "execution_count": 12,
   "metadata": {
    "scrolled": true
   },
   "outputs": [
    {
     "name": "stdout",
     "output_type": "stream",
     "text": [
      "Текст №: 54\n"
     ]
    },
    {
     "data": {
      "text/html": [
       "<div class=\"tex2jax_ignore\" style=\"white-space: pre-wrap\">Приобрели данное <span style=\"padding: 2px; border-radius: 4px; border: 1px solid #ffe0b2; background: #fff3e0\">авто<span style=\"vertical-align: middle; margin-left: 2px; font-size: 0.7em; color: #ffb74d;\">neutral</span></span> полгода назад. 1974 года, но <span style=\"padding: 2px; border-radius: 4px; border: 1px solid #c8e6c9; background: #e8f5e9\">авто<span style=\"vertical-align: middle; margin-left: 2px; font-size: 0.7em; color: #66bb6a;\">positive</span></span> в прекрасном состоянии. Сразу видно, что <span style=\"padding: 2px; border-radius: 4px; border: 1px solid #c8e6c9; background: #e8f5e9\">качество сборки<span style=\"vertical-align: middle; margin-left: 2px; font-size: 0.7em; color: #66bb6a;\">positive</span></span> идеальное. <span style=\"padding: 2px; border-radius: 4px; border: 1px solid #c8e6c9; background: #e8f5e9\">Машина<span style=\"vertical-align: middle; margin-left: 2px; font-size: 0.7em; color: #66bb6a;\">positive</span></span> на века. <span style=\"padding: 2px; border-radius: 4px; border: 1px solid #ffcdd2; background: #ffebee\">Скорость<span style=\"vertical-align: middle; margin-left: 2px; font-size: 0.7em; color: #e57373;\">negative</span></span> не его стихия. Не совсем хорошая <span style=\"padding: 2px; border-radius: 4px; border: 1px solid #ffcdd2; background: #ffebee\">поворотливость<span style=\"vertical-align: middle; margin-left: 2px; font-size: 0.7em; color: #e57373;\">negative</span></span>. <span style=\"padding: 2px; border-radius: 4px; border: 1px solid #ffcdd2; background: #ffebee\">На трассе<span style=\"vertical-align: middle; margin-left: 2px; font-size: 0.7em; color: #e57373;\">negative</span></span> особо не покатаешься, трудно <span style=\"padding: 2px; border-radius: 4px; border: 1px solid #ffcdd2; background: #ffebee\">обгонять<span style=\"vertical-align: middle; margin-left: 2px; font-size: 0.7em; color: #e57373;\">negative</span></span>. <span style=\"padding: 2px; border-radius: 4px; border: 1px solid #c8e6c9; background: #e8f5e9\">Расход топлива<span style=\"vertical-align: middle; margin-left: 2px; font-size: 0.7em; color: #66bb6a;\">positive</span></span> довольно умеренный. Каков хозяин, такое и <span style=\"padding: 2px; border-radius: 4px; border: 1px solid #ffe0b2; background: #fff3e0\">авто<span style=\"vertical-align: middle; margin-left: 2px; font-size: 0.7em; color: #ffb74d;\">neutral</span></span>. Хоть <span style=\"padding: 2px; border-radius: 4px; border: 1px solid #c8e6c9; background: #e8f5e9\">автомобилю<span style=\"vertical-align: middle; margin-left: 2px; font-size: 0.7em; color: #66bb6a;\">positive</span></span> и 40 лет, но <span style=\"padding: 2px; border-radius: 4px; border: 1px solid #c8e6c9; background: #e8f5e9\">работает<span style=\"vertical-align: middle; margin-left: 2px; font-size: 0.7em; color: #66bb6a;\">positive</span></span> неплохо. В зимнее время лучше использовать <span style=\"padding: 2px; border-radius: 4px; border: 1px solid #ffcdd2; background: #ffebee\">предпусковой двигатель<span style=\"vertical-align: middle; margin-left: 2px; font-size: 0.7em; color: #e57373;\">negative</span></span>, <span style=\"padding: 2px; border-radius: 4px; border: 1px solid #ffcdd2; background: #ffebee\">иначе не поедет<span style=\"vertical-align: middle; margin-left: 2px; font-size: 0.7em; color: #e57373;\">negative</span></span>. Пяти <span style=\"padding: 2px; border-radius: 4px; border: 1px solid #ffe0b2; background: #fff3e0\">посадочных мест<span style=\"vertical-align: middle; margin-left: 2px; font-size: 0.7em; color: #ffb74d;\">neutral</span></span> вполне хватает. Общее впечатление : <span style=\"padding: 2px; border-radius: 4px; border: 1px solid #c8e6c9; background: #e8f5e9\">Живучая<span style=\"vertical-align: middle; margin-left: 2px; font-size: 0.7em; color: #66bb6a;\">positive</span></span> лошадка</div>"
      ],
      "text/plain": [
       "BoxMarkup('Приобрели данное авто полгода назад. 1974 года, но авто в прекрасном состоянии. Сразу видно, что качество сборки идеальное. Машина на века. Скорость не его стихия. Не совсем хорошая поворотливость. На трассе особо не покатаешься, трудно обгонять. Расход топлива довольно умеренный. Каков хозяин, такое и авто. Хоть автомобилю и 40 лет, но работает неплохо. В зимнее время лучше использовать предпусковой двигатель, иначе не поедет. Пяти посадочных мест вполне хватает. Общее впечатление : Живучая лошадка',\n",
       "          [Span(17, 21, 'neutral'),\n",
       "           Span(51, 55, 'positive'),\n",
       "           Span(97, 112, 'positive'),\n",
       "           Span(124, 130, 'positive'),\n",
       "           Span(140, 148, 'negative'),\n",
       "           Span(182, 196, 'negative'),\n",
       "           Span(198, 207, 'negative'),\n",
       "           Span(237, 245, 'negative'),\n",
       "           Span(247, 261, 'positive'),\n",
       "           Span(304, 308, 'neutral'),\n",
       "           Span(315, 325, 'positive'),\n",
       "           Span(339, 347, 'positive'),\n",
       "           Span(391, 413, 'negative'),\n",
       "           Span(415, 430, 'negative'),\n",
       "           Span(437, 452, 'neutral'),\n",
       "           Span(489, 496, 'positive')])"
      ]
     },
     "metadata": {},
     "output_type": "display_data"
    },
    {
     "name": "stdout",
     "output_type": "stream",
     "text": [
      "Текст №: 93\n"
     ]
    },
    {
     "data": {
      "text/html": [
       "<div class=\"tex2jax_ignore\" style=\"white-space: pre-wrap\"><span style=\"padding: 2px; border-radius: 4px; border: 1px solid #ffcdd2; background: #ffebee\">Дэу Эсперо<span style=\"vertical-align: middle; margin-left: 2px; font-size: 0.7em; color: #e57373;\">negative</span></span> наверное самая <span style=\"padding: 2px; border-radius: 4px; border: 1px solid #ffcdd2; background: #ffebee\">капризная<span style=\"vertical-align: middle; margin-left: 2px; font-size: 0.7em; color: #e57373;\">negative</span></span> <span style=\"padding: 2px; border-radius: 4px; border: 1px solid #ffcdd2; background: #ffebee\">модель<span style=\"vertical-align: middle; margin-left: 2px; font-size: 0.7em; color: #e57373;\">negative</span></span> из всего ряда <span style=\"padding: 2px; border-radius: 4px; border: 1px solid #ffe0b2; background: #fff3e0\">Дэу<span style=\"vertical-align: middle; margin-left: 2px; font-size: 0.7em; color: #ffb74d;\">neutral</span></span>. Почему <span style=\"padding: 2px; border-radius: 4px; border: 1px solid #ffcdd2; background: #ffebee\">капризная<span style=\"vertical-align: middle; margin-left: 2px; font-size: 0.7em; color: #e57373;\">negative</span></span>, да потому-что изначально у этой модели <span style=\"padding: 2px; border-radius: 4px; border: 1px solid #ffcdd2; background: #ffebee\">электроника<span style=\"vertical-align: middle; margin-left: 2px; font-size: 0.7em; color: #e57373;\">negative</span></span> <span style=\"padding: 2px; border-radius: 4px; border: 1px solid #ffcdd2; background: #ffebee\">барахлит<span style=\"vertical-align: middle; margin-left: 2px; font-size: 0.7em; color: #e57373;\">negative</span></span>, <span style=\"padding: 2px; border-radius: 4px; border: 1px solid #ffcdd2; background: #ffebee\">двигателя<span style=\"vertical-align: middle; margin-left: 2px; font-size: 0.7em; color: #e57373;\">negative</span></span> частенько дают \"клина\", а <span style=\"padding: 2px; border-radius: 4px; border: 1px solid #ffcdd2; background: #ffebee\">кузовное железо<span style=\"vertical-align: middle; margin-left: 2px; font-size: 0.7em; color: #e57373;\">negative</span></span> дефицит, да и к тому-же быстро <span style=\"padding: 2px; border-radius: 4px; border: 1px solid #ffcdd2; background: #ffebee\">ржавеет<span style=\"vertical-align: middle; margin-left: 2px; font-size: 0.7em; color: #e57373;\">negative</span></span>, практически не по годам, а по дням. <span style=\"padding: 2px; border-radius: 4px; border: 1px solid #c8e6c9; background: #e8f5e9\">Салон<span style=\"vertical-align: middle; margin-left: 2px; font-size: 0.7em; color: #66bb6a;\">positive</span></span> <span style=\"padding: 2px; border-radius: 4px; border: 1px solid #c8e6c9; background: #e8f5e9\">просторный<span style=\"vertical-align: middle; margin-left: 2px; font-size: 0.7em; color: #66bb6a;\">positive</span></span>, <span style=\"padding: 2px; border-radius: 4px; border: 1px solid #c8e6c9; background: #e8f5e9\">обзор<span style=\"vertical-align: middle; margin-left: 2px; font-size: 0.7em; color: #66bb6a;\">positive</span></span> хороший, <span style=\"padding: 2px; border-radius: 4px; border: 1px solid #ffe0b2; background: #fff3e0\">клиренс<span style=\"vertical-align: middle; margin-left: 2px; font-size: 0.7em; color: #ffb74d;\">neutral</span></span> средний, <span style=\"padding: 2px; border-radius: 4px; border: 1px solid #c8e6c9; background: #e8f5e9\">багажник<span style=\"vertical-align: middle; margin-left: 2px; font-size: 0.7em; color: #66bb6a;\">positive</span></span> большой, всё под руками, вот наверное весь плюс <span style=\"padding: 2px; border-radius: 4px; border: 1px solid #ffcdd2; background: #ffebee\">модели<span style=\"vertical-align: middle; margin-left: 2px; font-size: 0.7em; color: #e57373;\">negative</span></span>. Для тех, кто решил взять в качестве первого <span style=\"padding: 2px; border-radius: 4px; border: 1px solid #ffcdd2; background: #ffebee\">авто<span style=\"vertical-align: middle; margin-left: 2px; font-size: 0.7em; color: #e57373;\">both</span></span>, он в принципе подойдёт, но готовьтесь вкладывать и <span style=\"padding: 2px; border-radius: 4px; border: 1px solid #ffcdd2; background: #ffebee\">вкладывать в авто<span style=\"vertical-align: middle; margin-left: 2px; font-size: 0.7em; color: #e57373;\">negative</span></span>, так-как в хорошем состоянии <span style=\"padding: 2px; border-radius: 4px; border: 1px solid #ffe0b2; background: #fff3e0\">авто<span style=\"vertical-align: middle; margin-left: 2px; font-size: 0.7em; color: #ffb74d;\">neutral</span></span> единицы и авто-разборка Ваш друг на долго, да и <span style=\"padding: 2px; border-radius: 4px; border: 1px solid #ffcdd2; background: #ffebee\">запчасти<span style=\"vertical-align: middle; margin-left: 2px; font-size: 0.7em; color: #e57373;\">negative</span></span> <span style=\"padding: 2px; border-radius: 4px; border: 1px solid #ffcdd2; background: #ffebee\">не сказать, что дёшево<span style=\"vertical-align: middle; margin-left: 2px; font-size: 0.7em; color: #e57373;\">negative</span></span>, особенно <span style=\"padding: 2px; border-radius: 4px; border: 1px solid #ffcdd2; background: #ffebee\">кузовное железо<span style=\"vertical-align: middle; margin-left: 2px; font-size: 0.7em; color: #e57373;\">negative</span></span>, его в отличном состоянии практически не найти. Выход есть:<span style=\"padding: 2px; border-radius: 4px; border: 1px solid #ffcdd2; background: #ffebee\">Китайская кузовщина<span style=\"vertical-align: middle; margin-left: 2px; font-size: 0.7em; color: #e57373;\">negative</span></span>, рихтуется отлично-\"фольга\", но и <span style=\"padding: 2px; border-radius: 4px; border: 1px solid #ffcdd2; background: #ffebee\">гнётся от руки<span style=\"vertical-align: middle; margin-left: 2px; font-size: 0.7em; color: #e57373;\">negative</span></span>. \"Муха села и айда!\" <span style=\"padding: 2px; border-radius: 4px; border: 1px solid #ffcdd2; background: #ffebee\">Сиденья<span style=\"vertical-align: middle; margin-left: 2px; font-size: 0.7em; color: #e57373;\">both</span></span> <span style=\"padding: 2px; border-radius: 4px; border: 1px solid #c8e6c9; background: #e8f5e9\">удобные<span style=\"vertical-align: middle; margin-left: 2px; font-size: 0.7em; color: #66bb6a;\">positive</span></span> вполне, но лучше сразу прикупить чехлы, так-как <span style=\"padding: 2px; border-radius: 4px; border: 1px solid #ffcdd2; background: #ffebee\">пачкаются<span style=\"vertical-align: middle; margin-left: 2px; font-size: 0.7em; color: #e57373;\">negative</span></span> мгновенно. <span style=\"padding: 2px; border-radius: 4px; border: 1px solid #ffcdd2; background: #ffebee\">Двигателя<span style=\"vertical-align: middle; margin-left: 2px; font-size: 0.7em; color: #e57373;\">negative</span></span> конечно имеют нарекания не только у владельцев, но и у слесарей, которые их ремонтируют. <span style=\"padding: 2px; border-radius: 4px; border: 1px solid #c8e6c9; background: #e8f5e9\">МКПП<span style=\"vertical-align: middle; margin-left: 2px; font-size: 0.7em; color: #66bb6a;\">positive</span></span> живучие в меру, если их не рвать. <span style=\"padding: 2px; border-radius: 4px; border: 1px solid #ffcdd2; background: #ffebee\">Подвеска<span style=\"vertical-align: middle; margin-left: 2px; font-size: 0.7em; color: #e57373;\">negative</span></span> среднего качества, но за пару сезонов можно \"просадить\" по нашим дорогам. <span style=\"padding: 2px; border-radius: 4px; border: 1px solid #c8e6c9; background: #e8f5e9\">Электрика<span style=\"vertical-align: middle; margin-left: 2px; font-size: 0.7em; color: #66bb6a;\">positive</span></span> просто супер!-автоэлектрики не охотно любят связываться с данной <span style=\"padding: 2px; border-radius: 4px; border: 1px solid #ffcdd2; background: #ffebee\">моделью<span style=\"vertical-align: middle; margin-left: 2px; font-size: 0.7em; color: #e57373;\">negative</span></span>, а если берут на ремонт, то частенько плюются. В общем <span style=\"padding: 2px; border-radius: 4px; border: 1px solid #ffcdd2; background: #ffebee\">машинка<span style=\"vertical-align: middle; margin-left: 2px; font-size: 0.7em; color: #e57373;\">both</span></span> не плохая, если в одних руках и бережно эксплуатируется, но на рынке в хорошем состоянии трудно найти, нежели в отличном или идеальном, в основном уже <span style=\"padding: 2px; border-radius: 4px; border: 1px solid #ffcdd2; background: #ffebee\">чермет на колесах<span style=\"vertical-align: middle; margin-left: 2px; font-size: 0.7em; color: #e57373;\">negative</span></span>. </div>"
      ],
      "text/plain": [
       "BoxMarkup('Дэу Эсперо наверное самая капризная модель из всего ряда Дэу. Почему капризная, да потому-что изначально у этой модели электроника барахлит, двигателя частенько дают \"клина\", а кузовное железо дефицит, да и к тому-же быстро ржавеет, практически не по годам, а по дням. Салон просторный, обзор хороший, клиренс средний, багажник большой, всё под руками, вот наверное весь плюс модели. Для тех, кто решил взять в качестве первого авто, он в принципе подойдёт, но готовьтесь вкладывать и вкладывать в авто, так-как в хорошем состоянии авто единицы и авто-разборка Ваш друг на долго, да и запчасти не сказать, что дёшево, особенно кузовное железо, его в отличном состоянии практически не найти. Выход есть:Китайская кузовщина, рихтуется отлично-\"фольга\", но и гнётся от руки. \"Муха села и айда!\" Сиденья удобные вполне, но лучше сразу прикупить чехлы, так-как пачкаются мгновенно. Двигателя конечно имеют нарекания не только у владельцев, но и у слесарей, которые их ремонтируют. МКПП живучие в меру, если их не рвать. Подвеска среднего качества, но за пару сезонов можно \"просадить\" по нашим дорогам. Электрика просто супер!-автоэлектрики не охотно любят связываться с данной моделью, а если берут на ремонт, то частенько плюются. В общем машинка не плохая, если в одних руках и бережно эксплуатируется, но на рынке в хорошем состоянии трудно найти, нежели в отличном или идеальном, в основном уже чермет на колесах. ',\n",
       "          [Span(0, 10, 'negative'),\n",
       "           Span(26, 35, 'negative'),\n",
       "           Span(36, 42, 'negative'),\n",
       "           Span(57, 60, 'neutral'),\n",
       "           Span(69, 78, 'negative'),\n",
       "           Span(119, 130, 'negative'),\n",
       "           Span(131, 139, 'negative'),\n",
       "           Span(141, 150, 'negative'),\n",
       "           Span(177, 192, 'negative'),\n",
       "           Span(224, 231, 'negative'),\n",
       "           Span(269, 274, 'positive'),\n",
       "           Span(275, 285, 'positive'),\n",
       "           Span(287, 292, 'positive'),\n",
       "           Span(302, 309, 'neutral'),\n",
       "           Span(319, 327, 'positive'),\n",
       "           Span(376, 382, 'negative'),\n",
       "           Span(428, 432, 'both'),\n",
       "           Span(485, 502, 'negative'),\n",
       "           Span(532, 536, 'neutral'),\n",
       "           Span(585, 593, 'negative'),\n",
       "           Span(594, 616, 'negative'),\n",
       "           Span(627, 642, 'negative'),\n",
       "           Span(702, 721, 'negative'),\n",
       "           Span(756, 770, 'negative'),\n",
       "           Span(792, 799, 'both'),\n",
       "           Span(800, 807, 'positive'),\n",
       "           Span(856, 865, 'negative'),\n",
       "           Span(877, 886, 'negative'),\n",
       "           Span(976, 980, 'positive'),\n",
       "           Span(1015, 1023, 'negative'),\n",
       "           Span(1098, 1107, 'positive'),\n",
       "           Span(1173, 1180, 'negative'),\n",
       "           Span(1236, 1243, 'both'),\n",
       "           Span(1395, 1412, 'negative')])"
      ]
     },
     "metadata": {},
     "output_type": "display_data"
    }
   ],
   "source": [
    "for rand_i in random_picks:\n",
    "    text, spans = texts_w_sentiment_spans[rand_i]\n",
    "    \n",
    "    print('Текст №:',rand_i)\n",
    "    show_markup(text,spans)"
   ]
  },
  {
   "cell_type": "markdown",
   "metadata": {},
   "source": [
    "####  Аспекты (aspects)"
   ]
  },
  {
   "cell_type": "code",
   "execution_count": 13,
   "metadata": {
    "scrolled": true
   },
   "outputs": [
    {
     "name": "stdout",
     "output_type": "stream",
     "text": [
      "Текст №: 54\n"
     ]
    },
    {
     "data": {
      "text/html": [
       "<div class=\"tex2jax_ignore\" style=\"white-space: pre-wrap\">Приобрели данное <span style=\"padding: 2px; border-radius: 4px; border: 1px solid #ffcdd2; background: #ffebee\">авто<span style=\"vertical-align: middle; margin-left: 2px; font-size: 0.7em; color: #e57373;\">Whole</span></span> полгода назад. 1974 года, но <span style=\"padding: 2px; border-radius: 4px; border: 1px solid #c8e6c9; background: #e8f5e9\">авто<span style=\"vertical-align: middle; margin-left: 2px; font-size: 0.7em; color: #66bb6a;\">Reliability</span></span> в прекрасном состоянии. Сразу видно, что <span style=\"padding: 2px; border-radius: 4px; border: 1px solid #c8e6c9; background: #e8f5e9\">качество сборки<span style=\"vertical-align: middle; margin-left: 2px; font-size: 0.7em; color: #66bb6a;\">Reliability</span></span> идеальное. <span style=\"padding: 2px; border-radius: 4px; border: 1px solid #c8e6c9; background: #e8f5e9\">Машина<span style=\"vertical-align: middle; margin-left: 2px; font-size: 0.7em; color: #66bb6a;\">Reliability</span></span> на века. <span style=\"padding: 2px; border-radius: 4px; border: 1px solid #bbdefb; background: #e3f2fd\">Скорость<span style=\"vertical-align: middle; margin-left: 2px; font-size: 0.7em; color: #64b5f6;\">Driveability</span></span> не его стихия. Не совсем хорошая <span style=\"padding: 2px; border-radius: 4px; border: 1px solid #bbdefb; background: #e3f2fd\">поворотливость<span style=\"vertical-align: middle; margin-left: 2px; font-size: 0.7em; color: #64b5f6;\">Driveability</span></span>. <span style=\"padding: 2px; border-radius: 4px; border: 1px solid #bbdefb; background: #e3f2fd\">На трассе<span style=\"vertical-align: middle; margin-left: 2px; font-size: 0.7em; color: #64b5f6;\">Driveability</span></span> особо не покатаешься, трудно <span style=\"padding: 2px; border-radius: 4px; border: 1px solid #bbdefb; background: #e3f2fd\">обгонять<span style=\"vertical-align: middle; margin-left: 2px; font-size: 0.7em; color: #64b5f6;\">Driveability</span></span>. <span style=\"padding: 2px; border-radius: 4px; border: 1px solid #bbdefb; background: #e3f2fd\">Расход топлива<span style=\"vertical-align: middle; margin-left: 2px; font-size: 0.7em; color: #64b5f6;\">Driveability</span></span> довольно умеренный. Каков хозяин, такое и <span style=\"padding: 2px; border-radius: 4px; border: 1px solid #ffcdd2; background: #ffebee\">авто<span style=\"vertical-align: middle; margin-left: 2px; font-size: 0.7em; color: #e57373;\">Whole</span></span>. Хоть <span style=\"padding: 2px; border-radius: 4px; border: 1px solid #c8e6c9; background: #e8f5e9\">автомобилю<span style=\"vertical-align: middle; margin-left: 2px; font-size: 0.7em; color: #66bb6a;\">Reliability</span></span> и 40 лет, но <span style=\"padding: 2px; border-radius: 4px; border: 1px solid #c8e6c9; background: #e8f5e9\">работает<span style=\"vertical-align: middle; margin-left: 2px; font-size: 0.7em; color: #66bb6a;\">Reliability</span></span> неплохо. В зимнее время лучше использовать <span style=\"padding: 2px; border-radius: 4px; border: 1px solid #bbdefb; background: #e3f2fd\">предпусковой двигатель<span style=\"vertical-align: middle; margin-left: 2px; font-size: 0.7em; color: #64b5f6;\">Driveability</span></span>, <span style=\"padding: 2px; border-radius: 4px; border: 1px solid #bbdefb; background: #e3f2fd\">иначе не поедет<span style=\"vertical-align: middle; margin-left: 2px; font-size: 0.7em; color: #64b5f6;\">Driveability</span></span>. Пяти <span style=\"padding: 2px; border-radius: 4px; border: 1px solid #ffe0b2; background: #fff3e0\">посадочных мест<span style=\"vertical-align: middle; margin-left: 2px; font-size: 0.7em; color: #ffb74d;\">Comfort</span></span> вполне хватает. Общее впечатление : <span style=\"padding: 2px; border-radius: 4px; border: 1px solid #c8e6c9; background: #e8f5e9\">Живучая<span style=\"vertical-align: middle; margin-left: 2px; font-size: 0.7em; color: #66bb6a;\">Reliability</span></span> лошадка</div>"
      ],
      "text/plain": [
       "BoxMarkup('Приобрели данное авто полгода назад. 1974 года, но авто в прекрасном состоянии. Сразу видно, что качество сборки идеальное. Машина на века. Скорость не его стихия. Не совсем хорошая поворотливость. На трассе особо не покатаешься, трудно обгонять. Расход топлива довольно умеренный. Каков хозяин, такое и авто. Хоть автомобилю и 40 лет, но работает неплохо. В зимнее время лучше использовать предпусковой двигатель, иначе не поедет. Пяти посадочных мест вполне хватает. Общее впечатление : Живучая лошадка',\n",
       "          [Span(17, 21, 'Whole'),\n",
       "           Span(51, 55, 'Reliability'),\n",
       "           Span(97, 112, 'Reliability'),\n",
       "           Span(124, 130, 'Reliability'),\n",
       "           Span(140, 148, 'Driveability'),\n",
       "           Span(182, 196, 'Driveability'),\n",
       "           Span(198, 207, 'Driveability'),\n",
       "           Span(237, 245, 'Driveability'),\n",
       "           Span(247, 261, 'Driveability'),\n",
       "           Span(304, 308, 'Whole'),\n",
       "           Span(315, 325, 'Reliability'),\n",
       "           Span(339, 347, 'Reliability'),\n",
       "           Span(391, 413, 'Driveability'),\n",
       "           Span(415, 430, 'Driveability'),\n",
       "           Span(437, 452, 'Comfort'),\n",
       "           Span(489, 496, 'Reliability')])"
      ]
     },
     "metadata": {},
     "output_type": "display_data"
    },
    {
     "name": "stdout",
     "output_type": "stream",
     "text": [
      "Текст №: 93\n"
     ]
    },
    {
     "data": {
      "text/html": [
       "<div class=\"tex2jax_ignore\" style=\"white-space: pre-wrap\"><span style=\"padding: 2px; border-radius: 4px; border: 1px solid #c8e6c9; background: #e8f5e9\">Дэу Эсперо<span style=\"vertical-align: middle; margin-left: 2px; font-size: 0.7em; color: #66bb6a;\">Reliability</span></span> наверное самая <span style=\"padding: 2px; border-radius: 4px; border: 1px solid #c8e6c9; background: #e8f5e9\">капризная<span style=\"vertical-align: middle; margin-left: 2px; font-size: 0.7em; color: #66bb6a;\">Reliability</span></span> <span style=\"padding: 2px; border-radius: 4px; border: 1px solid #c8e6c9; background: #e8f5e9\">модель<span style=\"vertical-align: middle; margin-left: 2px; font-size: 0.7em; color: #66bb6a;\">Reliability</span></span> из всего ряда <span style=\"padding: 2px; border-radius: 4px; border: 1px solid #c8e6c9; background: #e8f5e9\">Дэу<span style=\"vertical-align: middle; margin-left: 2px; font-size: 0.7em; color: #66bb6a;\">Reliability</span></span>. Почему <span style=\"padding: 2px; border-radius: 4px; border: 1px solid #c8e6c9; background: #e8f5e9\">капризная<span style=\"vertical-align: middle; margin-left: 2px; font-size: 0.7em; color: #66bb6a;\">Reliability</span></span>, да потому-что изначально у этой модели <span style=\"padding: 2px; border-radius: 4px; border: 1px solid #c8e6c9; background: #e8f5e9\">электроника<span style=\"vertical-align: middle; margin-left: 2px; font-size: 0.7em; color: #66bb6a;\">Reliability</span></span> <span style=\"padding: 2px; border-radius: 4px; border: 1px solid #c8e6c9; background: #e8f5e9\">барахлит<span style=\"vertical-align: middle; margin-left: 2px; font-size: 0.7em; color: #66bb6a;\">Reliability</span></span>, <span style=\"padding: 2px; border-radius: 4px; border: 1px solid #c8e6c9; background: #e8f5e9\">двигателя<span style=\"vertical-align: middle; margin-left: 2px; font-size: 0.7em; color: #66bb6a;\">Reliability</span></span> частенько дают \"клина\", а <span style=\"padding: 2px; border-radius: 4px; border: 1px solid #c8e6c9; background: #e8f5e9\">кузовное железо<span style=\"vertical-align: middle; margin-left: 2px; font-size: 0.7em; color: #66bb6a;\">Reliability</span></span> дефицит, да и к тому-же быстро <span style=\"padding: 2px; border-radius: 4px; border: 1px solid #c8e6c9; background: #e8f5e9\">ржавеет<span style=\"vertical-align: middle; margin-left: 2px; font-size: 0.7em; color: #66bb6a;\">Reliability</span></span>, практически не по годам, а по дням. <span style=\"padding: 2px; border-radius: 4px; border: 1px solid #ffe0b2; background: #fff3e0\">Салон<span style=\"vertical-align: middle; margin-left: 2px; font-size: 0.7em; color: #ffb74d;\">Comfort</span></span> <span style=\"padding: 2px; border-radius: 4px; border: 1px solid #ffe0b2; background: #fff3e0\">просторный<span style=\"vertical-align: middle; margin-left: 2px; font-size: 0.7em; color: #ffb74d;\">Comfort</span></span>, <span style=\"padding: 2px; border-radius: 4px; border: 1px solid #d1c4e9; background: #ede7f6\">обзор<span style=\"vertical-align: middle; margin-left: 2px; font-size: 0.7em; color: #9575cd;\">Safety</span></span> хороший, <span style=\"padding: 2px; border-radius: 4px; border: 1px solid #bbdefb; background: #e3f2fd\">клиренс<span style=\"vertical-align: middle; margin-left: 2px; font-size: 0.7em; color: #64b5f6;\">Driveability</span></span> средний, <span style=\"padding: 2px; border-radius: 4px; border: 1px solid #ffe0b2; background: #fff3e0\">багажник<span style=\"vertical-align: middle; margin-left: 2px; font-size: 0.7em; color: #ffb74d;\">Comfort</span></span> большой, всё под руками, вот наверное весь плюс <span style=\"padding: 2px; border-radius: 4px; border: 1px solid #ffcdd2; background: #ffebee\">модели<span style=\"vertical-align: middle; margin-left: 2px; font-size: 0.7em; color: #e57373;\">Whole</span></span>. Для тех, кто решил взять в качестве первого <span style=\"padding: 2px; border-radius: 4px; border: 1px solid #ffcdd2; background: #ffebee\">авто<span style=\"vertical-align: middle; margin-left: 2px; font-size: 0.7em; color: #e57373;\">Whole</span></span>, он в принципе подойдёт, но готовьтесь вкладывать и <span style=\"padding: 2px; border-radius: 4px; border: 1px solid #ffcdd2; background: #ffebee\">вкладывать в авто<span style=\"vertical-align: middle; margin-left: 2px; font-size: 0.7em; color: #e57373;\">Costs</span></span>, так-как в хорошем состоянии <span style=\"padding: 2px; border-radius: 4px; border: 1px solid #ffcdd2; background: #ffebee\">авто<span style=\"vertical-align: middle; margin-left: 2px; font-size: 0.7em; color: #e57373;\">Whole</span></span> единицы и авто-разборка Ваш друг на долго, да и <span style=\"padding: 2px; border-radius: 4px; border: 1px solid #ffcdd2; background: #ffebee\">запчасти<span style=\"vertical-align: middle; margin-left: 2px; font-size: 0.7em; color: #e57373;\">Costs</span></span> <span style=\"padding: 2px; border-radius: 4px; border: 1px solid #ffcdd2; background: #ffebee\">не сказать, что дёшево<span style=\"vertical-align: middle; margin-left: 2px; font-size: 0.7em; color: #e57373;\">Costs</span></span>, особенно <span style=\"padding: 2px; border-radius: 4px; border: 1px solid #ffcdd2; background: #ffebee\">кузовное железо<span style=\"vertical-align: middle; margin-left: 2px; font-size: 0.7em; color: #e57373;\">Costs</span></span>, его в отличном состоянии практически не найти. Выход есть:<span style=\"padding: 2px; border-radius: 4px; border: 1px solid #d1c4e9; background: #ede7f6\">Китайская кузовщина<span style=\"vertical-align: middle; margin-left: 2px; font-size: 0.7em; color: #9575cd;\">Safety</span></span>, рихтуется отлично-\"фольга\", но и <span style=\"padding: 2px; border-radius: 4px; border: 1px solid #c8e6c9; background: #e8f5e9\">гнётся от руки<span style=\"vertical-align: middle; margin-left: 2px; font-size: 0.7em; color: #66bb6a;\">Reliability</span></span>. \"Муха села и айда!\" <span style=\"padding: 2px; border-radius: 4px; border: 1px solid #ffe0b2; background: #fff3e0\">Сиденья<span style=\"vertical-align: middle; margin-left: 2px; font-size: 0.7em; color: #ffb74d;\">Comfort</span></span> <span style=\"padding: 2px; border-radius: 4px; border: 1px solid #ffe0b2; background: #fff3e0\">удобные<span style=\"vertical-align: middle; margin-left: 2px; font-size: 0.7em; color: #ffb74d;\">Comfort</span></span> вполне, но лучше сразу прикупить чехлы, так-как <span style=\"padding: 2px; border-radius: 4px; border: 1px solid #ffe0b2; background: #fff3e0\">пачкаются<span style=\"vertical-align: middle; margin-left: 2px; font-size: 0.7em; color: #ffb74d;\">Comfort</span></span> мгновенно. <span style=\"padding: 2px; border-radius: 4px; border: 1px solid #c8e6c9; background: #e8f5e9\">Двигателя<span style=\"vertical-align: middle; margin-left: 2px; font-size: 0.7em; color: #66bb6a;\">Reliability</span></span> конечно имеют нарекания не только у владельцев, но и у слесарей, которые их ремонтируют. <span style=\"padding: 2px; border-radius: 4px; border: 1px solid #c8e6c9; background: #e8f5e9\">МКПП<span style=\"vertical-align: middle; margin-left: 2px; font-size: 0.7em; color: #66bb6a;\">Reliability</span></span> живучие в меру, если их не рвать. <span style=\"padding: 2px; border-radius: 4px; border: 1px solid #c8e6c9; background: #e8f5e9\">Подвеска<span style=\"vertical-align: middle; margin-left: 2px; font-size: 0.7em; color: #66bb6a;\">Reliability</span></span> среднего качества, но за пару сезонов можно \"просадить\" по нашим дорогам. <span style=\"padding: 2px; border-radius: 4px; border: 1px solid #c8e6c9; background: #e8f5e9\">Электрика<span style=\"vertical-align: middle; margin-left: 2px; font-size: 0.7em; color: #66bb6a;\">Reliability</span></span> просто супер!-автоэлектрики не охотно любят связываться с данной <span style=\"padding: 2px; border-radius: 4px; border: 1px solid #c8e6c9; background: #e8f5e9\">моделью<span style=\"vertical-align: middle; margin-left: 2px; font-size: 0.7em; color: #66bb6a;\">Reliability</span></span>, а если берут на ремонт, то частенько плюются. В общем <span style=\"padding: 2px; border-radius: 4px; border: 1px solid #ffcdd2; background: #ffebee\">машинка<span style=\"vertical-align: middle; margin-left: 2px; font-size: 0.7em; color: #e57373;\">Whole</span></span> не плохая, если в одних руках и бережно эксплуатируется, но на рынке в хорошем состоянии трудно найти, нежели в отличном или идеальном, в основном уже <span style=\"padding: 2px; border-radius: 4px; border: 1px solid #ffcdd2; background: #ffebee\">чермет на колесах<span style=\"vertical-align: middle; margin-left: 2px; font-size: 0.7em; color: #e57373;\">Whole</span></span>. </div>"
      ],
      "text/plain": [
       "BoxMarkup('Дэу Эсперо наверное самая капризная модель из всего ряда Дэу. Почему капризная, да потому-что изначально у этой модели электроника барахлит, двигателя частенько дают \"клина\", а кузовное железо дефицит, да и к тому-же быстро ржавеет, практически не по годам, а по дням. Салон просторный, обзор хороший, клиренс средний, багажник большой, всё под руками, вот наверное весь плюс модели. Для тех, кто решил взять в качестве первого авто, он в принципе подойдёт, но готовьтесь вкладывать и вкладывать в авто, так-как в хорошем состоянии авто единицы и авто-разборка Ваш друг на долго, да и запчасти не сказать, что дёшево, особенно кузовное железо, его в отличном состоянии практически не найти. Выход есть:Китайская кузовщина, рихтуется отлично-\"фольга\", но и гнётся от руки. \"Муха села и айда!\" Сиденья удобные вполне, но лучше сразу прикупить чехлы, так-как пачкаются мгновенно. Двигателя конечно имеют нарекания не только у владельцев, но и у слесарей, которые их ремонтируют. МКПП живучие в меру, если их не рвать. Подвеска среднего качества, но за пару сезонов можно \"просадить\" по нашим дорогам. Электрика просто супер!-автоэлектрики не охотно любят связываться с данной моделью, а если берут на ремонт, то частенько плюются. В общем машинка не плохая, если в одних руках и бережно эксплуатируется, но на рынке в хорошем состоянии трудно найти, нежели в отличном или идеальном, в основном уже чермет на колесах. ',\n",
       "          [Span(0, 10, 'Reliability'),\n",
       "           Span(26, 35, 'Reliability'),\n",
       "           Span(36, 42, 'Reliability'),\n",
       "           Span(57, 60, 'Reliability'),\n",
       "           Span(69, 78, 'Reliability'),\n",
       "           Span(119, 130, 'Reliability'),\n",
       "           Span(131, 139, 'Reliability'),\n",
       "           Span(141, 150, 'Reliability'),\n",
       "           Span(177, 192, 'Reliability'),\n",
       "           Span(224, 231, 'Reliability'),\n",
       "           Span(269, 274, 'Comfort'),\n",
       "           Span(275, 285, 'Comfort'),\n",
       "           Span(287, 292, 'Safety'),\n",
       "           Span(302, 309, 'Driveability'),\n",
       "           Span(319, 327, 'Comfort'),\n",
       "           Span(376, 382, 'Whole'),\n",
       "           Span(428, 432, 'Whole'),\n",
       "           Span(485, 502, 'Costs'),\n",
       "           Span(532, 536, 'Whole'),\n",
       "           Span(585, 593, 'Costs'),\n",
       "           Span(594, 616, 'Costs'),\n",
       "           Span(627, 642, 'Costs'),\n",
       "           Span(702, 721, 'Safety'),\n",
       "           Span(756, 770, 'Reliability'),\n",
       "           Span(792, 799, 'Comfort'),\n",
       "           Span(800, 807, 'Comfort'),\n",
       "           Span(856, 865, 'Comfort'),\n",
       "           Span(877, 886, 'Reliability'),\n",
       "           Span(976, 980, 'Reliability'),\n",
       "           Span(1015, 1023, 'Reliability'),\n",
       "           Span(1098, 1107, 'Reliability'),\n",
       "           Span(1173, 1180, 'Reliability'),\n",
       "           Span(1236, 1243, 'Whole'),\n",
       "           Span(1395, 1412, 'Whole')])"
      ]
     },
     "metadata": {},
     "output_type": "display_data"
    }
   ],
   "source": [
    "for rand_i in random_picks:\n",
    "    text,spans = texts_w_aspect_spans[rand_i]\n",
    "    \n",
    "    print('Текст №:',rand_i)\n",
    "    show_markup(text,spans)"
   ]
  },
  {
   "cell_type": "markdown",
   "metadata": {},
   "source": [
    "## BIO-тэги для обучения модели"
   ]
  },
  {
   "cell_type": "code",
   "execution_count": 14,
   "metadata": {},
   "outputs": [],
   "source": [
    "from dlnlputils.sentiment_utils import fill_gaps, extract_BIO_tagged_tokens"
   ]
  },
  {
   "cell_type": "code",
   "execution_count": 15,
   "metadata": {},
   "outputs": [
    {
     "name": "stdout",
     "output_type": "stream",
     "text": [
      "Полное покрытие разметкой текста №: 54\n"
     ]
    },
    {
     "data": {
      "text/html": [
       "<div class=\"tex2jax_ignore\" style=\"white-space: pre-wrap\"><span style=\"padding: 2px; border-radius: 4px; border: 1px solid #d7ccc8; background: #efebe9\">Приобрели данное <span style=\"vertical-align: middle; margin-left: 2px; font-size: 0.7em; color: #a1887f;\">Other</span></span><span style=\"padding: 2px; border-radius: 4px; border: 1px solid #ffcdd2; background: #ffebee\">авто<span style=\"vertical-align: middle; margin-left: 2px; font-size: 0.7em; color: #e57373;\">Whole</span></span><span style=\"padding: 2px; border-radius: 4px; border: 1px solid #d7ccc8; background: #efebe9\"> полгода назад. 1974 года, но <span style=\"vertical-align: middle; margin-left: 2px; font-size: 0.7em; color: #a1887f;\">Other</span></span><span style=\"padding: 2px; border-radius: 4px; border: 1px solid #c8e6c9; background: #e8f5e9\">авто<span style=\"vertical-align: middle; margin-left: 2px; font-size: 0.7em; color: #66bb6a;\">Reliability</span></span><span style=\"padding: 2px; border-radius: 4px; border: 1px solid #d7ccc8; background: #efebe9\"> в прекрасном состоянии. Сразу видно, что <span style=\"vertical-align: middle; margin-left: 2px; font-size: 0.7em; color: #a1887f;\">Other</span></span><span style=\"padding: 2px; border-radius: 4px; border: 1px solid #c8e6c9; background: #e8f5e9\">качество сборки<span style=\"vertical-align: middle; margin-left: 2px; font-size: 0.7em; color: #66bb6a;\">Reliability</span></span><span style=\"padding: 2px; border-radius: 4px; border: 1px solid #d7ccc8; background: #efebe9\"> идеальное. <span style=\"vertical-align: middle; margin-left: 2px; font-size: 0.7em; color: #a1887f;\">Other</span></span><span style=\"padding: 2px; border-radius: 4px; border: 1px solid #c8e6c9; background: #e8f5e9\">Машина<span style=\"vertical-align: middle; margin-left: 2px; font-size: 0.7em; color: #66bb6a;\">Reliability</span></span><span style=\"padding: 2px; border-radius: 4px; border: 1px solid #d7ccc8; background: #efebe9\"> на века. <span style=\"vertical-align: middle; margin-left: 2px; font-size: 0.7em; color: #a1887f;\">Other</span></span><span style=\"padding: 2px; border-radius: 4px; border: 1px solid #bbdefb; background: #e3f2fd\">Скорость<span style=\"vertical-align: middle; margin-left: 2px; font-size: 0.7em; color: #64b5f6;\">Driveability</span></span><span style=\"padding: 2px; border-radius: 4px; border: 1px solid #d7ccc8; background: #efebe9\"> не его стихия. Не совсем хорошая <span style=\"vertical-align: middle; margin-left: 2px; font-size: 0.7em; color: #a1887f;\">Other</span></span><span style=\"padding: 2px; border-radius: 4px; border: 1px solid #bbdefb; background: #e3f2fd\">поворотливость<span style=\"vertical-align: middle; margin-left: 2px; font-size: 0.7em; color: #64b5f6;\">Driveability</span></span><span style=\"padding: 2px; border-radius: 4px; border: 1px solid #d7ccc8; background: #efebe9\">. <span style=\"vertical-align: middle; margin-left: 2px; font-size: 0.7em; color: #a1887f;\">Other</span></span><span style=\"padding: 2px; border-radius: 4px; border: 1px solid #bbdefb; background: #e3f2fd\">На трассе<span style=\"vertical-align: middle; margin-left: 2px; font-size: 0.7em; color: #64b5f6;\">Driveability</span></span><span style=\"padding: 2px; border-radius: 4px; border: 1px solid #d7ccc8; background: #efebe9\"> особо не покатаешься, трудно <span style=\"vertical-align: middle; margin-left: 2px; font-size: 0.7em; color: #a1887f;\">Other</span></span><span style=\"padding: 2px; border-radius: 4px; border: 1px solid #bbdefb; background: #e3f2fd\">обгонять<span style=\"vertical-align: middle; margin-left: 2px; font-size: 0.7em; color: #64b5f6;\">Driveability</span></span><span style=\"padding: 2px; border-radius: 4px; border: 1px solid #d7ccc8; background: #efebe9\">. <span style=\"vertical-align: middle; margin-left: 2px; font-size: 0.7em; color: #a1887f;\">Other</span></span><span style=\"padding: 2px; border-radius: 4px; border: 1px solid #bbdefb; background: #e3f2fd\">Расход топлива<span style=\"vertical-align: middle; margin-left: 2px; font-size: 0.7em; color: #64b5f6;\">Driveability</span></span><span style=\"padding: 2px; border-radius: 4px; border: 1px solid #d7ccc8; background: #efebe9\"> довольно умеренный. Каков хозяин, такое и <span style=\"vertical-align: middle; margin-left: 2px; font-size: 0.7em; color: #a1887f;\">Other</span></span><span style=\"padding: 2px; border-radius: 4px; border: 1px solid #ffcdd2; background: #ffebee\">авто<span style=\"vertical-align: middle; margin-left: 2px; font-size: 0.7em; color: #e57373;\">Whole</span></span><span style=\"padding: 2px; border-radius: 4px; border: 1px solid #d7ccc8; background: #efebe9\">. Хоть <span style=\"vertical-align: middle; margin-left: 2px; font-size: 0.7em; color: #a1887f;\">Other</span></span><span style=\"padding: 2px; border-radius: 4px; border: 1px solid #c8e6c9; background: #e8f5e9\">автомобилю<span style=\"vertical-align: middle; margin-left: 2px; font-size: 0.7em; color: #66bb6a;\">Reliability</span></span><span style=\"padding: 2px; border-radius: 4px; border: 1px solid #d7ccc8; background: #efebe9\"> и 40 лет, но <span style=\"vertical-align: middle; margin-left: 2px; font-size: 0.7em; color: #a1887f;\">Other</span></span><span style=\"padding: 2px; border-radius: 4px; border: 1px solid #c8e6c9; background: #e8f5e9\">работает<span style=\"vertical-align: middle; margin-left: 2px; font-size: 0.7em; color: #66bb6a;\">Reliability</span></span><span style=\"padding: 2px; border-radius: 4px; border: 1px solid #d7ccc8; background: #efebe9\"> неплохо. В зимнее время лучше использовать <span style=\"vertical-align: middle; margin-left: 2px; font-size: 0.7em; color: #a1887f;\">Other</span></span><span style=\"padding: 2px; border-radius: 4px; border: 1px solid #bbdefb; background: #e3f2fd\">предпусковой двигатель<span style=\"vertical-align: middle; margin-left: 2px; font-size: 0.7em; color: #64b5f6;\">Driveability</span></span><span style=\"padding: 2px; border-radius: 4px; border: 1px solid #d7ccc8; background: #efebe9\">, <span style=\"vertical-align: middle; margin-left: 2px; font-size: 0.7em; color: #a1887f;\">Other</span></span><span style=\"padding: 2px; border-radius: 4px; border: 1px solid #bbdefb; background: #e3f2fd\">иначе не поедет<span style=\"vertical-align: middle; margin-left: 2px; font-size: 0.7em; color: #64b5f6;\">Driveability</span></span><span style=\"padding: 2px; border-radius: 4px; border: 1px solid #d7ccc8; background: #efebe9\">. Пяти <span style=\"vertical-align: middle; margin-left: 2px; font-size: 0.7em; color: #a1887f;\">Other</span></span><span style=\"padding: 2px; border-radius: 4px; border: 1px solid #ffe0b2; background: #fff3e0\">посадочных мест<span style=\"vertical-align: middle; margin-left: 2px; font-size: 0.7em; color: #ffb74d;\">Comfort</span></span><span style=\"padding: 2px; border-radius: 4px; border: 1px solid #d7ccc8; background: #efebe9\"> вполне хватает. Общее впечатление : <span style=\"vertical-align: middle; margin-left: 2px; font-size: 0.7em; color: #a1887f;\">Other</span></span><span style=\"padding: 2px; border-radius: 4px; border: 1px solid #c8e6c9; background: #e8f5e9\">Живучая<span style=\"vertical-align: middle; margin-left: 2px; font-size: 0.7em; color: #66bb6a;\">Reliability</span></span><span style=\"padding: 2px; border-radius: 4px; border: 1px solid #d7ccc8; background: #efebe9\"> лошадка<span style=\"vertical-align: middle; margin-left: 2px; font-size: 0.7em; color: #a1887f;\">Other</span></span></div>"
      ],
      "text/plain": [
       "BoxMarkup('Приобрели данное авто полгода назад. 1974 года, но авто в прекрасном состоянии. Сразу видно, что качество сборки идеальное. Машина на века. Скорость не его стихия. Не совсем хорошая поворотливость. На трассе особо не покатаешься, трудно обгонять. Расход топлива довольно умеренный. Каков хозяин, такое и авто. Хоть автомобилю и 40 лет, но работает неплохо. В зимнее время лучше использовать предпусковой двигатель, иначе не поедет. Пяти посадочных мест вполне хватает. Общее впечатление : Живучая лошадка',\n",
       "          [Span(0, 17, 'Other'),\n",
       "           Span(17, 21, 'Whole'),\n",
       "           Span(21, 51, 'Other'),\n",
       "           Span(51, 55, 'Reliability'),\n",
       "           Span(55, 97, 'Other'),\n",
       "           Span(97, 112, 'Reliability'),\n",
       "           Span(112, 124, 'Other'),\n",
       "           Span(124, 130, 'Reliability'),\n",
       "           Span(130, 140, 'Other'),\n",
       "           Span(140, 148, 'Driveability'),\n",
       "           Span(148, 182, 'Other'),\n",
       "           Span(182, 196, 'Driveability'),\n",
       "           Span(196, 198, 'Other'),\n",
       "           Span(198, 207, 'Driveability'),\n",
       "           Span(207, 237, 'Other'),\n",
       "           Span(237, 245, 'Driveability'),\n",
       "           Span(245, 247, 'Other'),\n",
       "           Span(247, 261, 'Driveability'),\n",
       "           Span(261, 304, 'Other'),\n",
       "           Span(304, 308, 'Whole'),\n",
       "           Span(308, 315, 'Other'),\n",
       "           Span(315, 325, 'Reliability'),\n",
       "           Span(325, 339, 'Other'),\n",
       "           Span(339, 347, 'Reliability'),\n",
       "           Span(347, 391, 'Other'),\n",
       "           Span(391, 413, 'Driveability'),\n",
       "           Span(413, 415, 'Other'),\n",
       "           Span(415, 430, 'Driveability'),\n",
       "           Span(430, 437, 'Other'),\n",
       "           Span(437, 452, 'Comfort'),\n",
       "           Span(452, 489, 'Other'),\n",
       "           Span(489, 496, 'Reliability'),\n",
       "           Span(496, 504, 'Other')])"
      ]
     },
     "metadata": {},
     "output_type": "display_data"
    },
    {
     "name": "stdout",
     "output_type": "stream",
     "text": [
      "Полное покрытие разметкой текста №: 93\n"
     ]
    },
    {
     "data": {
      "text/html": [
       "<div class=\"tex2jax_ignore\" style=\"white-space: pre-wrap\"><span style=\"padding: 2px; border-radius: 4px; border: 1px solid #c8e6c9; background: #e8f5e9\">Дэу Эсперо<span style=\"vertical-align: middle; margin-left: 2px; font-size: 0.7em; color: #66bb6a;\">Reliability</span></span><span style=\"padding: 2px; border-radius: 4px; border: 1px solid #d7ccc8; background: #efebe9\"> наверное самая <span style=\"vertical-align: middle; margin-left: 2px; font-size: 0.7em; color: #a1887f;\">Other</span></span><span style=\"padding: 2px; border-radius: 4px; border: 1px solid #c8e6c9; background: #e8f5e9\">капризная<span style=\"vertical-align: middle; margin-left: 2px; font-size: 0.7em; color: #66bb6a;\">Reliability</span></span><span style=\"padding: 2px; border-radius: 4px; border: 1px solid #d7ccc8; background: #efebe9\"> <span style=\"vertical-align: middle; margin-left: 2px; font-size: 0.7em; color: #a1887f;\">Other</span></span><span style=\"padding: 2px; border-radius: 4px; border: 1px solid #c8e6c9; background: #e8f5e9\">модель<span style=\"vertical-align: middle; margin-left: 2px; font-size: 0.7em; color: #66bb6a;\">Reliability</span></span><span style=\"padding: 2px; border-radius: 4px; border: 1px solid #d7ccc8; background: #efebe9\"> из всего ряда <span style=\"vertical-align: middle; margin-left: 2px; font-size: 0.7em; color: #a1887f;\">Other</span></span><span style=\"padding: 2px; border-radius: 4px; border: 1px solid #c8e6c9; background: #e8f5e9\">Дэу<span style=\"vertical-align: middle; margin-left: 2px; font-size: 0.7em; color: #66bb6a;\">Reliability</span></span><span style=\"padding: 2px; border-radius: 4px; border: 1px solid #d7ccc8; background: #efebe9\">. Почему <span style=\"vertical-align: middle; margin-left: 2px; font-size: 0.7em; color: #a1887f;\">Other</span></span><span style=\"padding: 2px; border-radius: 4px; border: 1px solid #c8e6c9; background: #e8f5e9\">капризная<span style=\"vertical-align: middle; margin-left: 2px; font-size: 0.7em; color: #66bb6a;\">Reliability</span></span><span style=\"padding: 2px; border-radius: 4px; border: 1px solid #d7ccc8; background: #efebe9\">, да потому-что изначально у этой модели <span style=\"vertical-align: middle; margin-left: 2px; font-size: 0.7em; color: #a1887f;\">Other</span></span><span style=\"padding: 2px; border-radius: 4px; border: 1px solid #c8e6c9; background: #e8f5e9\">электроника<span style=\"vertical-align: middle; margin-left: 2px; font-size: 0.7em; color: #66bb6a;\">Reliability</span></span><span style=\"padding: 2px; border-radius: 4px; border: 1px solid #d7ccc8; background: #efebe9\"> <span style=\"vertical-align: middle; margin-left: 2px; font-size: 0.7em; color: #a1887f;\">Other</span></span><span style=\"padding: 2px; border-radius: 4px; border: 1px solid #c8e6c9; background: #e8f5e9\">барахлит<span style=\"vertical-align: middle; margin-left: 2px; font-size: 0.7em; color: #66bb6a;\">Reliability</span></span><span style=\"padding: 2px; border-radius: 4px; border: 1px solid #d7ccc8; background: #efebe9\">, <span style=\"vertical-align: middle; margin-left: 2px; font-size: 0.7em; color: #a1887f;\">Other</span></span><span style=\"padding: 2px; border-radius: 4px; border: 1px solid #c8e6c9; background: #e8f5e9\">двигателя<span style=\"vertical-align: middle; margin-left: 2px; font-size: 0.7em; color: #66bb6a;\">Reliability</span></span><span style=\"padding: 2px; border-radius: 4px; border: 1px solid #d7ccc8; background: #efebe9\"> частенько дают \"клина\", а <span style=\"vertical-align: middle; margin-left: 2px; font-size: 0.7em; color: #a1887f;\">Other</span></span><span style=\"padding: 2px; border-radius: 4px; border: 1px solid #c8e6c9; background: #e8f5e9\">кузовное железо<span style=\"vertical-align: middle; margin-left: 2px; font-size: 0.7em; color: #66bb6a;\">Reliability</span></span><span style=\"padding: 2px; border-radius: 4px; border: 1px solid #d7ccc8; background: #efebe9\"> дефицит, да и к тому-же быстро <span style=\"vertical-align: middle; margin-left: 2px; font-size: 0.7em; color: #a1887f;\">Other</span></span><span style=\"padding: 2px; border-radius: 4px; border: 1px solid #c8e6c9; background: #e8f5e9\">ржавеет<span style=\"vertical-align: middle; margin-left: 2px; font-size: 0.7em; color: #66bb6a;\">Reliability</span></span><span style=\"padding: 2px; border-radius: 4px; border: 1px solid #d7ccc8; background: #efebe9\">, практически не по годам, а по дням. <span style=\"vertical-align: middle; margin-left: 2px; font-size: 0.7em; color: #a1887f;\">Other</span></span><span style=\"padding: 2px; border-radius: 4px; border: 1px solid #ffe0b2; background: #fff3e0\">Салон<span style=\"vertical-align: middle; margin-left: 2px; font-size: 0.7em; color: #ffb74d;\">Comfort</span></span><span style=\"padding: 2px; border-radius: 4px; border: 1px solid #d7ccc8; background: #efebe9\"> <span style=\"vertical-align: middle; margin-left: 2px; font-size: 0.7em; color: #a1887f;\">Other</span></span><span style=\"padding: 2px; border-radius: 4px; border: 1px solid #ffe0b2; background: #fff3e0\">просторный<span style=\"vertical-align: middle; margin-left: 2px; font-size: 0.7em; color: #ffb74d;\">Comfort</span></span><span style=\"padding: 2px; border-radius: 4px; border: 1px solid #d7ccc8; background: #efebe9\">, <span style=\"vertical-align: middle; margin-left: 2px; font-size: 0.7em; color: #a1887f;\">Other</span></span><span style=\"padding: 2px; border-radius: 4px; border: 1px solid #d1c4e9; background: #ede7f6\">обзор<span style=\"vertical-align: middle; margin-left: 2px; font-size: 0.7em; color: #9575cd;\">Safety</span></span><span style=\"padding: 2px; border-radius: 4px; border: 1px solid #d7ccc8; background: #efebe9\"> хороший, <span style=\"vertical-align: middle; margin-left: 2px; font-size: 0.7em; color: #a1887f;\">Other</span></span><span style=\"padding: 2px; border-radius: 4px; border: 1px solid #bbdefb; background: #e3f2fd\">клиренс<span style=\"vertical-align: middle; margin-left: 2px; font-size: 0.7em; color: #64b5f6;\">Driveability</span></span><span style=\"padding: 2px; border-radius: 4px; border: 1px solid #d7ccc8; background: #efebe9\"> средний, <span style=\"vertical-align: middle; margin-left: 2px; font-size: 0.7em; color: #a1887f;\">Other</span></span><span style=\"padding: 2px; border-radius: 4px; border: 1px solid #ffe0b2; background: #fff3e0\">багажник<span style=\"vertical-align: middle; margin-left: 2px; font-size: 0.7em; color: #ffb74d;\">Comfort</span></span><span style=\"padding: 2px; border-radius: 4px; border: 1px solid #d7ccc8; background: #efebe9\"> большой, всё под руками, вот наверное весь плюс <span style=\"vertical-align: middle; margin-left: 2px; font-size: 0.7em; color: #a1887f;\">Other</span></span><span style=\"padding: 2px; border-radius: 4px; border: 1px solid #ffcdd2; background: #ffebee\">модели<span style=\"vertical-align: middle; margin-left: 2px; font-size: 0.7em; color: #e57373;\">Whole</span></span><span style=\"padding: 2px; border-radius: 4px; border: 1px solid #d7ccc8; background: #efebe9\">. Для тех, кто решил взять в качестве первого <span style=\"vertical-align: middle; margin-left: 2px; font-size: 0.7em; color: #a1887f;\">Other</span></span><span style=\"padding: 2px; border-radius: 4px; border: 1px solid #ffcdd2; background: #ffebee\">авто<span style=\"vertical-align: middle; margin-left: 2px; font-size: 0.7em; color: #e57373;\">Whole</span></span><span style=\"padding: 2px; border-radius: 4px; border: 1px solid #d7ccc8; background: #efebe9\">, он в принципе подойдёт, но готовьтесь вкладывать и <span style=\"vertical-align: middle; margin-left: 2px; font-size: 0.7em; color: #a1887f;\">Other</span></span><span style=\"padding: 2px; border-radius: 4px; border: 1px solid #ffcdd2; background: #ffebee\">вкладывать в авто<span style=\"vertical-align: middle; margin-left: 2px; font-size: 0.7em; color: #e57373;\">Costs</span></span><span style=\"padding: 2px; border-radius: 4px; border: 1px solid #d7ccc8; background: #efebe9\">, так-как в хорошем состоянии <span style=\"vertical-align: middle; margin-left: 2px; font-size: 0.7em; color: #a1887f;\">Other</span></span><span style=\"padding: 2px; border-radius: 4px; border: 1px solid #ffcdd2; background: #ffebee\">авто<span style=\"vertical-align: middle; margin-left: 2px; font-size: 0.7em; color: #e57373;\">Whole</span></span><span style=\"padding: 2px; border-radius: 4px; border: 1px solid #d7ccc8; background: #efebe9\"> единицы и авто-разборка Ваш друг на долго, да и <span style=\"vertical-align: middle; margin-left: 2px; font-size: 0.7em; color: #a1887f;\">Other</span></span><span style=\"padding: 2px; border-radius: 4px; border: 1px solid #ffcdd2; background: #ffebee\">запчасти<span style=\"vertical-align: middle; margin-left: 2px; font-size: 0.7em; color: #e57373;\">Costs</span></span><span style=\"padding: 2px; border-radius: 4px; border: 1px solid #d7ccc8; background: #efebe9\"> <span style=\"vertical-align: middle; margin-left: 2px; font-size: 0.7em; color: #a1887f;\">Other</span></span><span style=\"padding: 2px; border-radius: 4px; border: 1px solid #ffcdd2; background: #ffebee\">не сказать, что дёшево<span style=\"vertical-align: middle; margin-left: 2px; font-size: 0.7em; color: #e57373;\">Costs</span></span><span style=\"padding: 2px; border-radius: 4px; border: 1px solid #d7ccc8; background: #efebe9\">, особенно <span style=\"vertical-align: middle; margin-left: 2px; font-size: 0.7em; color: #a1887f;\">Other</span></span><span style=\"padding: 2px; border-radius: 4px; border: 1px solid #ffcdd2; background: #ffebee\">кузовное железо<span style=\"vertical-align: middle; margin-left: 2px; font-size: 0.7em; color: #e57373;\">Costs</span></span><span style=\"padding: 2px; border-radius: 4px; border: 1px solid #d7ccc8; background: #efebe9\">, его в отличном состоянии практически не найти. Выход есть:<span style=\"vertical-align: middle; margin-left: 2px; font-size: 0.7em; color: #a1887f;\">Other</span></span><span style=\"padding: 2px; border-radius: 4px; border: 1px solid #d1c4e9; background: #ede7f6\">Китайская кузовщина<span style=\"vertical-align: middle; margin-left: 2px; font-size: 0.7em; color: #9575cd;\">Safety</span></span><span style=\"padding: 2px; border-radius: 4px; border: 1px solid #d7ccc8; background: #efebe9\">, рихтуется отлично-\"фольга\", но и <span style=\"vertical-align: middle; margin-left: 2px; font-size: 0.7em; color: #a1887f;\">Other</span></span><span style=\"padding: 2px; border-radius: 4px; border: 1px solid #c8e6c9; background: #e8f5e9\">гнётся от руки<span style=\"vertical-align: middle; margin-left: 2px; font-size: 0.7em; color: #66bb6a;\">Reliability</span></span><span style=\"padding: 2px; border-radius: 4px; border: 1px solid #d7ccc8; background: #efebe9\">. \"Муха села и айда!\" <span style=\"vertical-align: middle; margin-left: 2px; font-size: 0.7em; color: #a1887f;\">Other</span></span><span style=\"padding: 2px; border-radius: 4px; border: 1px solid #ffe0b2; background: #fff3e0\">Сиденья<span style=\"vertical-align: middle; margin-left: 2px; font-size: 0.7em; color: #ffb74d;\">Comfort</span></span><span style=\"padding: 2px; border-radius: 4px; border: 1px solid #d7ccc8; background: #efebe9\"> <span style=\"vertical-align: middle; margin-left: 2px; font-size: 0.7em; color: #a1887f;\">Other</span></span><span style=\"padding: 2px; border-radius: 4px; border: 1px solid #ffe0b2; background: #fff3e0\">удобные<span style=\"vertical-align: middle; margin-left: 2px; font-size: 0.7em; color: #ffb74d;\">Comfort</span></span><span style=\"padding: 2px; border-radius: 4px; border: 1px solid #d7ccc8; background: #efebe9\"> вполне, но лучше сразу прикупить чехлы, так-как <span style=\"vertical-align: middle; margin-left: 2px; font-size: 0.7em; color: #a1887f;\">Other</span></span><span style=\"padding: 2px; border-radius: 4px; border: 1px solid #ffe0b2; background: #fff3e0\">пачкаются<span style=\"vertical-align: middle; margin-left: 2px; font-size: 0.7em; color: #ffb74d;\">Comfort</span></span><span style=\"padding: 2px; border-radius: 4px; border: 1px solid #d7ccc8; background: #efebe9\"> мгновенно. <span style=\"vertical-align: middle; margin-left: 2px; font-size: 0.7em; color: #a1887f;\">Other</span></span><span style=\"padding: 2px; border-radius: 4px; border: 1px solid #c8e6c9; background: #e8f5e9\">Двигателя<span style=\"vertical-align: middle; margin-left: 2px; font-size: 0.7em; color: #66bb6a;\">Reliability</span></span><span style=\"padding: 2px; border-radius: 4px; border: 1px solid #d7ccc8; background: #efebe9\"> конечно имеют нарекания не только у владельцев, но и у слесарей, которые их ремонтируют. <span style=\"vertical-align: middle; margin-left: 2px; font-size: 0.7em; color: #a1887f;\">Other</span></span><span style=\"padding: 2px; border-radius: 4px; border: 1px solid #c8e6c9; background: #e8f5e9\">МКПП<span style=\"vertical-align: middle; margin-left: 2px; font-size: 0.7em; color: #66bb6a;\">Reliability</span></span><span style=\"padding: 2px; border-radius: 4px; border: 1px solid #d7ccc8; background: #efebe9\"> живучие в меру, если их не рвать. <span style=\"vertical-align: middle; margin-left: 2px; font-size: 0.7em; color: #a1887f;\">Other</span></span><span style=\"padding: 2px; border-radius: 4px; border: 1px solid #c8e6c9; background: #e8f5e9\">Подвеска<span style=\"vertical-align: middle; margin-left: 2px; font-size: 0.7em; color: #66bb6a;\">Reliability</span></span><span style=\"padding: 2px; border-radius: 4px; border: 1px solid #d7ccc8; background: #efebe9\"> среднего качества, но за пару сезонов можно \"просадить\" по нашим дорогам. <span style=\"vertical-align: middle; margin-left: 2px; font-size: 0.7em; color: #a1887f;\">Other</span></span><span style=\"padding: 2px; border-radius: 4px; border: 1px solid #c8e6c9; background: #e8f5e9\">Электрика<span style=\"vertical-align: middle; margin-left: 2px; font-size: 0.7em; color: #66bb6a;\">Reliability</span></span><span style=\"padding: 2px; border-radius: 4px; border: 1px solid #d7ccc8; background: #efebe9\"> просто супер!-автоэлектрики не охотно любят связываться с данной <span style=\"vertical-align: middle; margin-left: 2px; font-size: 0.7em; color: #a1887f;\">Other</span></span><span style=\"padding: 2px; border-radius: 4px; border: 1px solid #c8e6c9; background: #e8f5e9\">моделью<span style=\"vertical-align: middle; margin-left: 2px; font-size: 0.7em; color: #66bb6a;\">Reliability</span></span><span style=\"padding: 2px; border-radius: 4px; border: 1px solid #d7ccc8; background: #efebe9\">, а если берут на ремонт, то частенько плюются. В общем <span style=\"vertical-align: middle; margin-left: 2px; font-size: 0.7em; color: #a1887f;\">Other</span></span><span style=\"padding: 2px; border-radius: 4px; border: 1px solid #ffcdd2; background: #ffebee\">машинка<span style=\"vertical-align: middle; margin-left: 2px; font-size: 0.7em; color: #e57373;\">Whole</span></span><span style=\"padding: 2px; border-radius: 4px; border: 1px solid #d7ccc8; background: #efebe9\"> не плохая, если в одних руках и бережно эксплуатируется, но на рынке в хорошем состоянии трудно найти, нежели в отличном или идеальном, в основном уже <span style=\"vertical-align: middle; margin-left: 2px; font-size: 0.7em; color: #a1887f;\">Other</span></span><span style=\"padding: 2px; border-radius: 4px; border: 1px solid #ffcdd2; background: #ffebee\">чермет на колесах<span style=\"vertical-align: middle; margin-left: 2px; font-size: 0.7em; color: #e57373;\">Whole</span></span><span style=\"padding: 2px; border-radius: 4px; border: 1px solid #d7ccc8; background: #efebe9\">. <span style=\"vertical-align: middle; margin-left: 2px; font-size: 0.7em; color: #a1887f;\">Other</span></span></div>"
      ],
      "text/plain": [
       "BoxMarkup('Дэу Эсперо наверное самая капризная модель из всего ряда Дэу. Почему капризная, да потому-что изначально у этой модели электроника барахлит, двигателя частенько дают \"клина\", а кузовное железо дефицит, да и к тому-же быстро ржавеет, практически не по годам, а по дням. Салон просторный, обзор хороший, клиренс средний, багажник большой, всё под руками, вот наверное весь плюс модели. Для тех, кто решил взять в качестве первого авто, он в принципе подойдёт, но готовьтесь вкладывать и вкладывать в авто, так-как в хорошем состоянии авто единицы и авто-разборка Ваш друг на долго, да и запчасти не сказать, что дёшево, особенно кузовное железо, его в отличном состоянии практически не найти. Выход есть:Китайская кузовщина, рихтуется отлично-\"фольга\", но и гнётся от руки. \"Муха села и айда!\" Сиденья удобные вполне, но лучше сразу прикупить чехлы, так-как пачкаются мгновенно. Двигателя конечно имеют нарекания не только у владельцев, но и у слесарей, которые их ремонтируют. МКПП живучие в меру, если их не рвать. Подвеска среднего качества, но за пару сезонов можно \"просадить\" по нашим дорогам. Электрика просто супер!-автоэлектрики не охотно любят связываться с данной моделью, а если берут на ремонт, то частенько плюются. В общем машинка не плохая, если в одних руках и бережно эксплуатируется, но на рынке в хорошем состоянии трудно найти, нежели в отличном или идеальном, в основном уже чермет на колесах. ',\n",
       "          [Span(0, 10, 'Reliability'),\n",
       "           Span(10, 26, 'Other'),\n",
       "           Span(26, 35, 'Reliability'),\n",
       "           Span(35, 36, 'Other'),\n",
       "           Span(36, 42, 'Reliability'),\n",
       "           Span(42, 57, 'Other'),\n",
       "           Span(57, 60, 'Reliability'),\n",
       "           Span(60, 69, 'Other'),\n",
       "           Span(69, 78, 'Reliability'),\n",
       "           Span(78, 119, 'Other'),\n",
       "           Span(119, 130, 'Reliability'),\n",
       "           Span(130, 131, 'Other'),\n",
       "           Span(131, 139, 'Reliability'),\n",
       "           Span(139, 141, 'Other'),\n",
       "           Span(141, 150, 'Reliability'),\n",
       "           Span(150, 177, 'Other'),\n",
       "           Span(177, 192, 'Reliability'),\n",
       "           Span(192, 224, 'Other'),\n",
       "           Span(224, 231, 'Reliability'),\n",
       "           Span(231, 269, 'Other'),\n",
       "           Span(269, 274, 'Comfort'),\n",
       "           Span(274, 275, 'Other'),\n",
       "           Span(275, 285, 'Comfort'),\n",
       "           Span(285, 287, 'Other'),\n",
       "           Span(287, 292, 'Safety'),\n",
       "           Span(292, 302, 'Other'),\n",
       "           Span(302, 309, 'Driveability'),\n",
       "           Span(309, 319, 'Other'),\n",
       "           Span(319, 327, 'Comfort'),\n",
       "           Span(327, 376, 'Other'),\n",
       "           Span(376, 382, 'Whole'),\n",
       "           Span(382, 428, 'Other'),\n",
       "           Span(428, 432, 'Whole'),\n",
       "           Span(432, 485, 'Other'),\n",
       "           Span(485, 502, 'Costs'),\n",
       "           Span(502, 532, 'Other'),\n",
       "           Span(532, 536, 'Whole'),\n",
       "           Span(536, 585, 'Other'),\n",
       "           Span(585, 593, 'Costs'),\n",
       "           Span(593, 594, 'Other'),\n",
       "           Span(594, 616, 'Costs'),\n",
       "           Span(616, 627, 'Other'),\n",
       "           Span(627, 642, 'Costs'),\n",
       "           Span(642, 702, 'Other'),\n",
       "           Span(702, 721, 'Safety'),\n",
       "           Span(721, 756, 'Other'),\n",
       "           Span(756, 770, 'Reliability'),\n",
       "           Span(770, 792, 'Other'),\n",
       "           Span(792, 799, 'Comfort'),\n",
       "           Span(799, 800, 'Other'),\n",
       "           Span(800, 807, 'Comfort'),\n",
       "           Span(807, 856, 'Other'),\n",
       "           Span(856, 865, 'Comfort'),\n",
       "           Span(865, 877, 'Other'),\n",
       "           Span(877, 886, 'Reliability'),\n",
       "           Span(886, 976, 'Other'),\n",
       "           Span(976, 980, 'Reliability'),\n",
       "           Span(980, 1015, 'Other'),\n",
       "           Span(1015, 1023, 'Reliability'),\n",
       "           Span(1023, 1098, 'Other'),\n",
       "           Span(1098, 1107, 'Reliability'),\n",
       "           Span(1107, 1173, 'Other'),\n",
       "           Span(1173, 1180, 'Reliability'),\n",
       "           Span(1180, 1236, 'Other'),\n",
       "           Span(1236, 1243, 'Whole'),\n",
       "           Span(1243, 1395, 'Other'),\n",
       "           Span(1395, 1412, 'Whole'),\n",
       "           Span(1412, 1414, 'Other')])"
      ]
     },
     "metadata": {},
     "output_type": "display_data"
    }
   ],
   "source": [
    "for rand_i in random_picks:\n",
    "    text, aspect_spans = texts_w_aspect_spans[rand_i]\n",
    "    cover_spans       = fill_gaps(text, aspect_spans)\n",
    "    \n",
    "    print('Полное покрытие разметкой текста №:',rand_i) \n",
    "    show_markup(text, cover_spans)"
   ]
  },
  {
   "cell_type": "markdown",
   "metadata": {},
   "source": [
    "### Разбиение текста на предложения, а предложений - на слова."
   ]
  },
  {
   "cell_type": "code",
   "execution_count": 16,
   "metadata": {},
   "outputs": [],
   "source": [
    "from dlnlputils.sentiment_utils import regex_sentence_detector, sentence_spans,sentence_splitter"
   ]
  },
  {
   "cell_type": "code",
   "execution_count": 17,
   "metadata": {},
   "outputs": [],
   "source": [
    "from nltk.tokenize import RegexpTokenizer\n",
    "\n",
    "word_tokenizer = RegexpTokenizer('\\w+|\\$[\\d\\.]+|\\S+')"
   ]
  },
  {
   "cell_type": "code",
   "execution_count": 18,
   "metadata": {},
   "outputs": [
    {
     "name": "stdout",
     "output_type": "stream",
     "text": [
      "Разбиение на предложения и BIO токенизация текста №: 54\n"
     ]
    },
    {
     "data": {
      "text/html": [
       "<div class=\"tex2jax_ignore\" style=\"white-space: pre-wrap\"><span style=\"padding: 2px; border-radius: 4px; border: 1px solid #d7ccc8; background: #efebe9\">Приобрели данное <span style=\"vertical-align: middle; margin-left: 2px; font-size: 0.7em; color: #a1887f;\">Other</span></span><span style=\"padding: 2px; border-radius: 4px; border: 1px solid #ffcdd2; background: #ffebee\">авто<span style=\"vertical-align: middle; margin-left: 2px; font-size: 0.7em; color: #e57373;\">Whole</span></span><span style=\"padding: 2px; border-radius: 4px; border: 1px solid #d7ccc8; background: #efebe9\"> полгода назад.<span style=\"vertical-align: middle; margin-left: 2px; font-size: 0.7em; color: #a1887f;\">Other</span></span></div>"
      ],
      "text/plain": [
       "BoxMarkup('Приобрели данное авто полгода назад.',\n",
       "          [Span(0, 17, 'Other'), Span(17, 21, 'Whole'), Span(21, 36, 'Other')])"
      ]
     },
     "metadata": {},
     "output_type": "display_data"
    },
    {
     "name": "stdout",
     "output_type": "stream",
     "text": [
      "[('Приобрели', 'Other'), ('данное', 'Other'), ('авто', 'B-Whole'), ('полгода', 'Other'), ('назад', 'Other'), ('.', 'Other')] \n",
      "\n"
     ]
    },
    {
     "data": {
      "text/html": [
       "<div class=\"tex2jax_ignore\" style=\"white-space: pre-wrap\"><span style=\"padding: 2px; border-radius: 4px; border: 1px solid #d7ccc8; background: #efebe9\">1974 года, но <span style=\"vertical-align: middle; margin-left: 2px; font-size: 0.7em; color: #a1887f;\">Other</span></span><span style=\"padding: 2px; border-radius: 4px; border: 1px solid #c8e6c9; background: #e8f5e9\">авто<span style=\"vertical-align: middle; margin-left: 2px; font-size: 0.7em; color: #66bb6a;\">Reliability</span></span><span style=\"padding: 2px; border-radius: 4px; border: 1px solid #d7ccc8; background: #efebe9\"> в прекрасном состоянии.<span style=\"vertical-align: middle; margin-left: 2px; font-size: 0.7em; color: #a1887f;\">Other</span></span></div>"
      ],
      "text/plain": [
       "BoxMarkup('1974 года, но авто в прекрасном состоянии.',\n",
       "          [Span(0, 14, 'Other'),\n",
       "           Span(14, 18, 'Reliability'),\n",
       "           Span(18, 42, 'Other')])"
      ]
     },
     "metadata": {},
     "output_type": "display_data"
    },
    {
     "name": "stdout",
     "output_type": "stream",
     "text": [
      "[('1974', 'Other'), ('года', 'Other'), (',', 'Other'), ('но', 'Other'), ('авто', 'B-Reliability'), ('в', 'Other'), ('прекрасном', 'Other'), ('состоянии', 'Other'), ('.', 'Other')] \n",
      "\n"
     ]
    },
    {
     "data": {
      "text/html": [
       "<div class=\"tex2jax_ignore\" style=\"white-space: pre-wrap\"><span style=\"padding: 2px; border-radius: 4px; border: 1px solid #d7ccc8; background: #efebe9\">Сразу видно, что <span style=\"vertical-align: middle; margin-left: 2px; font-size: 0.7em; color: #a1887f;\">Other</span></span><span style=\"padding: 2px; border-radius: 4px; border: 1px solid #c8e6c9; background: #e8f5e9\">качество сборки<span style=\"vertical-align: middle; margin-left: 2px; font-size: 0.7em; color: #66bb6a;\">Reliability</span></span><span style=\"padding: 2px; border-radius: 4px; border: 1px solid #d7ccc8; background: #efebe9\"> идеальное.<span style=\"vertical-align: middle; margin-left: 2px; font-size: 0.7em; color: #a1887f;\">Other</span></span></div>"
      ],
      "text/plain": [
       "BoxMarkup('Сразу видно, что качество сборки идеальное.',\n",
       "          [Span(0, 17, 'Other'),\n",
       "           Span(17, 32, 'Reliability'),\n",
       "           Span(32, 43, 'Other')])"
      ]
     },
     "metadata": {},
     "output_type": "display_data"
    },
    {
     "name": "stdout",
     "output_type": "stream",
     "text": [
      "[('Сразу', 'Other'), ('видно', 'Other'), (',', 'Other'), ('что', 'Other'), ('качество', 'B-Reliability'), ('сборки', 'I-Reliability'), ('идеальное', 'Other'), ('.', 'Other')] \n",
      "\n"
     ]
    },
    {
     "data": {
      "text/html": [
       "<div class=\"tex2jax_ignore\" style=\"white-space: pre-wrap\"><span style=\"padding: 2px; border-radius: 4px; border: 1px solid #c8e6c9; background: #e8f5e9\">Машина<span style=\"vertical-align: middle; margin-left: 2px; font-size: 0.7em; color: #66bb6a;\">Reliability</span></span><span style=\"padding: 2px; border-radius: 4px; border: 1px solid #d7ccc8; background: #efebe9\"> на века.<span style=\"vertical-align: middle; margin-left: 2px; font-size: 0.7em; color: #a1887f;\">Other</span></span></div>"
      ],
      "text/plain": [
       "BoxMarkup('Машина на века.', [Span(0, 6, 'Reliability'), Span(6, 15, 'Other')])"
      ]
     },
     "metadata": {},
     "output_type": "display_data"
    },
    {
     "name": "stdout",
     "output_type": "stream",
     "text": [
      "[('Машина', 'B-Reliability'), ('на', 'Other'), ('века', 'Other'), ('.', 'Other')] \n",
      "\n"
     ]
    },
    {
     "data": {
      "text/html": [
       "<div class=\"tex2jax_ignore\" style=\"white-space: pre-wrap\"><span style=\"padding: 2px; border-radius: 4px; border: 1px solid #bbdefb; background: #e3f2fd\">Скорость<span style=\"vertical-align: middle; margin-left: 2px; font-size: 0.7em; color: #64b5f6;\">Driveability</span></span><span style=\"padding: 2px; border-radius: 4px; border: 1px solid #d7ccc8; background: #efebe9\"> не его стихия.<span style=\"vertical-align: middle; margin-left: 2px; font-size: 0.7em; color: #a1887f;\">Other</span></span></div>"
      ],
      "text/plain": [
       "BoxMarkup('Скорость не его стихия.',\n",
       "          [Span(0, 8, 'Driveability'), Span(8, 23, 'Other')])"
      ]
     },
     "metadata": {},
     "output_type": "display_data"
    },
    {
     "name": "stdout",
     "output_type": "stream",
     "text": [
      "[('Скорость', 'B-Driveability'), ('не', 'Other'), ('его', 'Other'), ('стихия', 'Other'), ('.', 'Other')] \n",
      "\n"
     ]
    },
    {
     "data": {
      "text/html": [
       "<div class=\"tex2jax_ignore\" style=\"white-space: pre-wrap\"><span style=\"padding: 2px; border-radius: 4px; border: 1px solid #d7ccc8; background: #efebe9\">Не совсем хорошая <span style=\"vertical-align: middle; margin-left: 2px; font-size: 0.7em; color: #a1887f;\">Other</span></span><span style=\"padding: 2px; border-radius: 4px; border: 1px solid #bbdefb; background: #e3f2fd\">поворотливость<span style=\"vertical-align: middle; margin-left: 2px; font-size: 0.7em; color: #64b5f6;\">Driveability</span></span>.</div>"
      ],
      "text/plain": [
       "BoxMarkup('Не совсем хорошая поворотливость.',\n",
       "          [Span(0, 18, 'Other'), Span(18, 32, 'Driveability')])"
      ]
     },
     "metadata": {},
     "output_type": "display_data"
    },
    {
     "name": "stdout",
     "output_type": "stream",
     "text": [
      "[('Не', 'Other'), ('совсем', 'Other'), ('хорошая', 'Other'), ('поворотливость', 'B-Driveability')] \n",
      "\n"
     ]
    },
    {
     "data": {
      "text/html": [
       "<div class=\"tex2jax_ignore\" style=\"white-space: pre-wrap\"><span style=\"padding: 2px; border-radius: 4px; border: 1px solid #bbdefb; background: #e3f2fd\">На трассе<span style=\"vertical-align: middle; margin-left: 2px; font-size: 0.7em; color: #64b5f6;\">Driveability</span></span><span style=\"padding: 2px; border-radius: 4px; border: 1px solid #d7ccc8; background: #efebe9\"> особо не покатаешься, трудно <span style=\"vertical-align: middle; margin-left: 2px; font-size: 0.7em; color: #a1887f;\">Other</span></span><span style=\"padding: 2px; border-radius: 4px; border: 1px solid #bbdefb; background: #e3f2fd\">обгонять<span style=\"vertical-align: middle; margin-left: 2px; font-size: 0.7em; color: #64b5f6;\">Driveability</span></span>.</div>"
      ],
      "text/plain": [
       "BoxMarkup('На трассе особо не покатаешься, трудно обгонять.',\n",
       "          [Span(0, 9, 'Driveability'),\n",
       "           Span(9, 39, 'Other'),\n",
       "           Span(39, 47, 'Driveability')])"
      ]
     },
     "metadata": {},
     "output_type": "display_data"
    },
    {
     "name": "stdout",
     "output_type": "stream",
     "text": [
      "[('На', 'B-Driveability'), ('трассе', 'I-Driveability'), ('особо', 'Other'), ('не', 'Other'), ('покатаешься', 'Other'), (',', 'Other'), ('трудно', 'Other'), ('обгонять', 'B-Driveability')] \n",
      "\n"
     ]
    },
    {
     "data": {
      "text/html": [
       "<div class=\"tex2jax_ignore\" style=\"white-space: pre-wrap\"><span style=\"padding: 2px; border-radius: 4px; border: 1px solid #bbdefb; background: #e3f2fd\">Расход топлива<span style=\"vertical-align: middle; margin-left: 2px; font-size: 0.7em; color: #64b5f6;\">Driveability</span></span><span style=\"padding: 2px; border-radius: 4px; border: 1px solid #d7ccc8; background: #efebe9\"> довольно умеренный.<span style=\"vertical-align: middle; margin-left: 2px; font-size: 0.7em; color: #a1887f;\">Other</span></span></div>"
      ],
      "text/plain": [
       "BoxMarkup('Расход топлива довольно умеренный.',\n",
       "          [Span(0, 14, 'Driveability'), Span(14, 34, 'Other')])"
      ]
     },
     "metadata": {},
     "output_type": "display_data"
    },
    {
     "name": "stdout",
     "output_type": "stream",
     "text": [
      "[('Расход', 'B-Driveability'), ('топлива', 'I-Driveability'), ('довольно', 'Other'), ('умеренный', 'Other'), ('.', 'Other')] \n",
      "\n"
     ]
    },
    {
     "data": {
      "text/html": [
       "<div class=\"tex2jax_ignore\" style=\"white-space: pre-wrap\"><span style=\"padding: 2px; border-radius: 4px; border: 1px solid #d7ccc8; background: #efebe9\">Каков хозяин, такое и <span style=\"vertical-align: middle; margin-left: 2px; font-size: 0.7em; color: #a1887f;\">Other</span></span><span style=\"padding: 2px; border-radius: 4px; border: 1px solid #ffcdd2; background: #ffebee\">авто<span style=\"vertical-align: middle; margin-left: 2px; font-size: 0.7em; color: #e57373;\">Whole</span></span>.</div>"
      ],
      "text/plain": [
       "BoxMarkup('Каков хозяин, такое и авто.',\n",
       "          [Span(0, 22, 'Other'), Span(22, 26, 'Whole')])"
      ]
     },
     "metadata": {},
     "output_type": "display_data"
    },
    {
     "name": "stdout",
     "output_type": "stream",
     "text": [
      "[('Каков', 'Other'), ('хозяин', 'Other'), (',', 'Other'), ('такое', 'Other'), ('и', 'Other'), ('авто', 'B-Whole')] \n",
      "\n"
     ]
    },
    {
     "data": {
      "text/html": [
       "<div class=\"tex2jax_ignore\" style=\"white-space: pre-wrap\"><span style=\"padding: 2px; border-radius: 4px; border: 1px solid #d7ccc8; background: #efebe9\">Хоть <span style=\"vertical-align: middle; margin-left: 2px; font-size: 0.7em; color: #a1887f;\">Other</span></span><span style=\"padding: 2px; border-radius: 4px; border: 1px solid #c8e6c9; background: #e8f5e9\">автомобилю<span style=\"vertical-align: middle; margin-left: 2px; font-size: 0.7em; color: #66bb6a;\">Reliability</span></span><span style=\"padding: 2px; border-radius: 4px; border: 1px solid #d7ccc8; background: #efebe9\"> и 40 лет, но <span style=\"vertical-align: middle; margin-left: 2px; font-size: 0.7em; color: #a1887f;\">Other</span></span><span style=\"padding: 2px; border-radius: 4px; border: 1px solid #c8e6c9; background: #e8f5e9\">работает<span style=\"vertical-align: middle; margin-left: 2px; font-size: 0.7em; color: #66bb6a;\">Reliability</span></span><span style=\"padding: 2px; border-radius: 4px; border: 1px solid #d7ccc8; background: #efebe9\"> неплохо.<span style=\"vertical-align: middle; margin-left: 2px; font-size: 0.7em; color: #a1887f;\">Other</span></span></div>"
      ],
      "text/plain": [
       "BoxMarkup('Хоть автомобилю и 40 лет, но работает неплохо.',\n",
       "          [Span(0, 5, 'Other'),\n",
       "           Span(5, 15, 'Reliability'),\n",
       "           Span(15, 29, 'Other'),\n",
       "           Span(29, 37, 'Reliability'),\n",
       "           Span(37, 46, 'Other')])"
      ]
     },
     "metadata": {},
     "output_type": "display_data"
    },
    {
     "name": "stdout",
     "output_type": "stream",
     "text": [
      "[('Хоть', 'Other'), ('автомобилю', 'B-Reliability'), ('и', 'Other'), ('40', 'Other'), ('лет', 'Other'), (',', 'Other'), ('но', 'Other'), ('работает', 'B-Reliability'), ('неплохо', 'Other'), ('.', 'Other')] \n",
      "\n"
     ]
    },
    {
     "data": {
      "text/html": [
       "<div class=\"tex2jax_ignore\" style=\"white-space: pre-wrap\"><span style=\"padding: 2px; border-radius: 4px; border: 1px solid #d7ccc8; background: #efebe9\">В зимнее время лучше использовать <span style=\"vertical-align: middle; margin-left: 2px; font-size: 0.7em; color: #a1887f;\">Other</span></span><span style=\"padding: 2px; border-radius: 4px; border: 1px solid #bbdefb; background: #e3f2fd\">предпусковой двигатель<span style=\"vertical-align: middle; margin-left: 2px; font-size: 0.7em; color: #64b5f6;\">Driveability</span></span><span style=\"padding: 2px; border-radius: 4px; border: 1px solid #d7ccc8; background: #efebe9\">, <span style=\"vertical-align: middle; margin-left: 2px; font-size: 0.7em; color: #a1887f;\">Other</span></span><span style=\"padding: 2px; border-radius: 4px; border: 1px solid #bbdefb; background: #e3f2fd\">иначе не поедет<span style=\"vertical-align: middle; margin-left: 2px; font-size: 0.7em; color: #64b5f6;\">Driveability</span></span>.</div>"
      ],
      "text/plain": [
       "BoxMarkup('В зимнее время лучше использовать предпусковой двигатель, иначе не поедет.',\n",
       "          [Span(0, 34, 'Other'),\n",
       "           Span(34, 56, 'Driveability'),\n",
       "           Span(56, 58, 'Other'),\n",
       "           Span(58, 73, 'Driveability')])"
      ]
     },
     "metadata": {},
     "output_type": "display_data"
    },
    {
     "name": "stdout",
     "output_type": "stream",
     "text": [
      "[('В', 'Other'), ('зимнее', 'Other'), ('время', 'Other'), ('лучше', 'Other'), ('использовать', 'Other'), ('предпусковой', 'B-Driveability'), ('двигатель', 'I-Driveability'), (',', 'Other'), ('иначе', 'B-Driveability'), ('не', 'I-Driveability')] \n",
      "\n"
     ]
    },
    {
     "data": {
      "text/html": [
       "<div class=\"tex2jax_ignore\" style=\"white-space: pre-wrap\"><span style=\"padding: 2px; border-radius: 4px; border: 1px solid #d7ccc8; background: #efebe9\">Пяти <span style=\"vertical-align: middle; margin-left: 2px; font-size: 0.7em; color: #a1887f;\">Other</span></span><span style=\"padding: 2px; border-radius: 4px; border: 1px solid #ffe0b2; background: #fff3e0\">посадочных мест<span style=\"vertical-align: middle; margin-left: 2px; font-size: 0.7em; color: #ffb74d;\">Comfort</span></span><span style=\"padding: 2px; border-radius: 4px; border: 1px solid #d7ccc8; background: #efebe9\"> вполне хватает.<span style=\"vertical-align: middle; margin-left: 2px; font-size: 0.7em; color: #a1887f;\">Other</span></span></div>"
      ],
      "text/plain": [
       "BoxMarkup('Пяти посадочных мест вполне хватает.',\n",
       "          [Span(0, 5, 'Other'), Span(5, 20, 'Comfort'), Span(20, 36, 'Other')])"
      ]
     },
     "metadata": {},
     "output_type": "display_data"
    },
    {
     "name": "stdout",
     "output_type": "stream",
     "text": [
      "[('Пяти', 'Other'), ('посадочных', 'B-Comfort'), ('мест', 'I-Comfort'), ('вполне', 'Other'), ('хватает', 'Other'), ('.', 'Other')] \n",
      "\n"
     ]
    },
    {
     "data": {
      "text/html": [
       "<div class=\"tex2jax_ignore\" style=\"white-space: pre-wrap\"><span style=\"padding: 2px; border-radius: 4px; border: 1px solid #d7ccc8; background: #efebe9\">Общее впечатление : <span style=\"vertical-align: middle; margin-left: 2px; font-size: 0.7em; color: #a1887f;\">Other</span></span><span style=\"padding: 2px; border-radius: 4px; border: 1px solid #c8e6c9; background: #e8f5e9\">Живучая<span style=\"vertical-align: middle; margin-left: 2px; font-size: 0.7em; color: #66bb6a;\">Reliability</span></span><span style=\"padding: 2px; border-radius: 4px; border: 1px solid #d7ccc8; background: #efebe9\"> лошадка<span style=\"vertical-align: middle; margin-left: 2px; font-size: 0.7em; color: #a1887f;\">Other</span></span></div>"
      ],
      "text/plain": [
       "BoxMarkup('Общее впечатление : Живучая лошадка',\n",
       "          [Span(0, 20, 'Other'),\n",
       "           Span(20, 27, 'Reliability'),\n",
       "           Span(27, 35, 'Other')])"
      ]
     },
     "metadata": {},
     "output_type": "display_data"
    },
    {
     "name": "stdout",
     "output_type": "stream",
     "text": [
      "[('Общее', 'Other'), ('впечатление', 'Other'), (':', 'Other'), ('Живучая', 'B-Reliability'), ('лошадка', 'Other')] \n",
      "\n",
      "Разбиение на предложения и BIO токенизация текста №: 93\n"
     ]
    },
    {
     "data": {
      "text/html": [
       "<div class=\"tex2jax_ignore\" style=\"white-space: pre-wrap\"><span style=\"padding: 2px; border-radius: 4px; border: 1px solid #c8e6c9; background: #e8f5e9\">Дэу Эсперо<span style=\"vertical-align: middle; margin-left: 2px; font-size: 0.7em; color: #66bb6a;\">Reliability</span></span><span style=\"padding: 2px; border-radius: 4px; border: 1px solid #d7ccc8; background: #efebe9\"> наверное самая <span style=\"vertical-align: middle; margin-left: 2px; font-size: 0.7em; color: #a1887f;\">Other</span></span><span style=\"padding: 2px; border-radius: 4px; border: 1px solid #c8e6c9; background: #e8f5e9\">капризная<span style=\"vertical-align: middle; margin-left: 2px; font-size: 0.7em; color: #66bb6a;\">Reliability</span></span><span style=\"padding: 2px; border-radius: 4px; border: 1px solid #d7ccc8; background: #efebe9\"> <span style=\"vertical-align: middle; margin-left: 2px; font-size: 0.7em; color: #a1887f;\">Other</span></span><span style=\"padding: 2px; border-radius: 4px; border: 1px solid #c8e6c9; background: #e8f5e9\">модель<span style=\"vertical-align: middle; margin-left: 2px; font-size: 0.7em; color: #66bb6a;\">Reliability</span></span><span style=\"padding: 2px; border-radius: 4px; border: 1px solid #d7ccc8; background: #efebe9\"> из всего ряда <span style=\"vertical-align: middle; margin-left: 2px; font-size: 0.7em; color: #a1887f;\">Other</span></span><span style=\"padding: 2px; border-radius: 4px; border: 1px solid #c8e6c9; background: #e8f5e9\">Дэу<span style=\"vertical-align: middle; margin-left: 2px; font-size: 0.7em; color: #66bb6a;\">Reliability</span></span>.</div>"
      ],
      "text/plain": [
       "BoxMarkup('Дэу Эсперо наверное самая капризная модель из всего ряда Дэу.',\n",
       "          [Span(0, 10, 'Reliability'),\n",
       "           Span(10, 26, 'Other'),\n",
       "           Span(26, 35, 'Reliability'),\n",
       "           Span(35, 36, 'Other'),\n",
       "           Span(36, 42, 'Reliability'),\n",
       "           Span(42, 57, 'Other'),\n",
       "           Span(57, 60, 'Reliability')])"
      ]
     },
     "metadata": {},
     "output_type": "display_data"
    },
    {
     "name": "stdout",
     "output_type": "stream",
     "text": [
      "[('Дэу', 'B-Reliability'), ('Эсперо', 'I-Reliability'), ('наверное', 'Other'), ('самая', 'Other'), ('капризная', 'B-Reliability'), ('модель', 'B-Reliability'), ('из', 'Other'), ('всего', 'Other'), ('ряда', 'Other'), ('Дэу', 'B-Reliability')] \n",
      "\n"
     ]
    },
    {
     "data": {
      "text/html": [
       "<div class=\"tex2jax_ignore\" style=\"white-space: pre-wrap\"><span style=\"padding: 2px; border-radius: 4px; border: 1px solid #d7ccc8; background: #efebe9\">Почему <span style=\"vertical-align: middle; margin-left: 2px; font-size: 0.7em; color: #a1887f;\">Other</span></span><span style=\"padding: 2px; border-radius: 4px; border: 1px solid #c8e6c9; background: #e8f5e9\">капризная<span style=\"vertical-align: middle; margin-left: 2px; font-size: 0.7em; color: #66bb6a;\">Reliability</span></span><span style=\"padding: 2px; border-radius: 4px; border: 1px solid #d7ccc8; background: #efebe9\">, да потому-что изначально у этой модели <span style=\"vertical-align: middle; margin-left: 2px; font-size: 0.7em; color: #a1887f;\">Other</span></span><span style=\"padding: 2px; border-radius: 4px; border: 1px solid #c8e6c9; background: #e8f5e9\">электроника<span style=\"vertical-align: middle; margin-left: 2px; font-size: 0.7em; color: #66bb6a;\">Reliability</span></span><span style=\"padding: 2px; border-radius: 4px; border: 1px solid #d7ccc8; background: #efebe9\"> <span style=\"vertical-align: middle; margin-left: 2px; font-size: 0.7em; color: #a1887f;\">Other</span></span><span style=\"padding: 2px; border-radius: 4px; border: 1px solid #c8e6c9; background: #e8f5e9\">барахлит<span style=\"vertical-align: middle; margin-left: 2px; font-size: 0.7em; color: #66bb6a;\">Reliability</span></span><span style=\"padding: 2px; border-radius: 4px; border: 1px solid #d7ccc8; background: #efebe9\">, <span style=\"vertical-align: middle; margin-left: 2px; font-size: 0.7em; color: #a1887f;\">Other</span></span><span style=\"padding: 2px; border-radius: 4px; border: 1px solid #c8e6c9; background: #e8f5e9\">двигателя<span style=\"vertical-align: middle; margin-left: 2px; font-size: 0.7em; color: #66bb6a;\">Reliability</span></span><span style=\"padding: 2px; border-radius: 4px; border: 1px solid #d7ccc8; background: #efebe9\"> частенько дают \"клина\", а <span style=\"vertical-align: middle; margin-left: 2px; font-size: 0.7em; color: #a1887f;\">Other</span></span><span style=\"padding: 2px; border-radius: 4px; border: 1px solid #c8e6c9; background: #e8f5e9\">кузовное железо<span style=\"vertical-align: middle; margin-left: 2px; font-size: 0.7em; color: #66bb6a;\">Reliability</span></span><span style=\"padding: 2px; border-radius: 4px; border: 1px solid #d7ccc8; background: #efebe9\"> дефицит, да и к тому-же быстро <span style=\"vertical-align: middle; margin-left: 2px; font-size: 0.7em; color: #a1887f;\">Other</span></span><span style=\"padding: 2px; border-radius: 4px; border: 1px solid #c8e6c9; background: #e8f5e9\">ржавеет<span style=\"vertical-align: middle; margin-left: 2px; font-size: 0.7em; color: #66bb6a;\">Reliability</span></span><span style=\"padding: 2px; border-radius: 4px; border: 1px solid #d7ccc8; background: #efebe9\">, практически не по годам, а по дням.<span style=\"vertical-align: middle; margin-left: 2px; font-size: 0.7em; color: #a1887f;\">Other</span></span></div>"
      ],
      "text/plain": [
       "BoxMarkup('Почему капризная, да потому-что изначально у этой модели электроника барахлит, двигателя частенько дают \"клина\", а кузовное железо дефицит, да и к тому-же быстро ржавеет, практически не по годам, а по дням.',\n",
       "          [Span(0, 7, 'Other'),\n",
       "           Span(7, 16, 'Reliability'),\n",
       "           Span(16, 57, 'Other'),\n",
       "           Span(57, 68, 'Reliability'),\n",
       "           Span(68, 69, 'Other'),\n",
       "           Span(69, 77, 'Reliability'),\n",
       "           Span(77, 79, 'Other'),\n",
       "           Span(79, 88, 'Reliability'),\n",
       "           Span(88, 115, 'Other'),\n",
       "           Span(115, 130, 'Reliability'),\n",
       "           Span(130, 162, 'Other'),\n",
       "           Span(162, 169, 'Reliability'),\n",
       "           Span(169, 206, 'Other')])"
      ]
     },
     "metadata": {},
     "output_type": "display_data"
    },
    {
     "name": "stdout",
     "output_type": "stream",
     "text": [
      "[('Почему', 'Other'), ('капризная', 'B-Reliability'), (',', 'Other'), ('да', 'Other'), ('потому', 'Other'), ('-что', 'Other'), ('изначально', 'Other'), ('у', 'Other'), ('этой', 'Other'), ('модели', 'Other')] \n",
      "\n"
     ]
    },
    {
     "data": {
      "text/html": [
       "<div class=\"tex2jax_ignore\" style=\"white-space: pre-wrap\"><span style=\"padding: 2px; border-radius: 4px; border: 1px solid #ffe0b2; background: #fff3e0\">Салон<span style=\"vertical-align: middle; margin-left: 2px; font-size: 0.7em; color: #ffb74d;\">Comfort</span></span><span style=\"padding: 2px; border-radius: 4px; border: 1px solid #d7ccc8; background: #efebe9\"> <span style=\"vertical-align: middle; margin-left: 2px; font-size: 0.7em; color: #a1887f;\">Other</span></span><span style=\"padding: 2px; border-radius: 4px; border: 1px solid #ffe0b2; background: #fff3e0\">просторный<span style=\"vertical-align: middle; margin-left: 2px; font-size: 0.7em; color: #ffb74d;\">Comfort</span></span><span style=\"padding: 2px; border-radius: 4px; border: 1px solid #d7ccc8; background: #efebe9\">, <span style=\"vertical-align: middle; margin-left: 2px; font-size: 0.7em; color: #a1887f;\">Other</span></span><span style=\"padding: 2px; border-radius: 4px; border: 1px solid #d1c4e9; background: #ede7f6\">обзор<span style=\"vertical-align: middle; margin-left: 2px; font-size: 0.7em; color: #9575cd;\">Safety</span></span><span style=\"padding: 2px; border-radius: 4px; border: 1px solid #d7ccc8; background: #efebe9\"> хороший, <span style=\"vertical-align: middle; margin-left: 2px; font-size: 0.7em; color: #a1887f;\">Other</span></span><span style=\"padding: 2px; border-radius: 4px; border: 1px solid #bbdefb; background: #e3f2fd\">клиренс<span style=\"vertical-align: middle; margin-left: 2px; font-size: 0.7em; color: #64b5f6;\">Driveability</span></span><span style=\"padding: 2px; border-radius: 4px; border: 1px solid #d7ccc8; background: #efebe9\"> средний, <span style=\"vertical-align: middle; margin-left: 2px; font-size: 0.7em; color: #a1887f;\">Other</span></span><span style=\"padding: 2px; border-radius: 4px; border: 1px solid #ffe0b2; background: #fff3e0\">багажник<span style=\"vertical-align: middle; margin-left: 2px; font-size: 0.7em; color: #ffb74d;\">Comfort</span></span><span style=\"padding: 2px; border-radius: 4px; border: 1px solid #d7ccc8; background: #efebe9\"> большой, всё под руками, вот наверное весь плюс <span style=\"vertical-align: middle; margin-left: 2px; font-size: 0.7em; color: #a1887f;\">Other</span></span><span style=\"padding: 2px; border-radius: 4px; border: 1px solid #ffcdd2; background: #ffebee\">модели<span style=\"vertical-align: middle; margin-left: 2px; font-size: 0.7em; color: #e57373;\">Whole</span></span>.</div>"
      ],
      "text/plain": [
       "BoxMarkup('Салон просторный, обзор хороший, клиренс средний, багажник большой, всё под руками, вот наверное весь плюс модели.',\n",
       "          [Span(0, 5, 'Comfort'),\n",
       "           Span(5, 6, 'Other'),\n",
       "           Span(6, 16, 'Comfort'),\n",
       "           Span(16, 18, 'Other'),\n",
       "           Span(18, 23, 'Safety'),\n",
       "           Span(23, 33, 'Other'),\n",
       "           Span(33, 40, 'Driveability'),\n",
       "           Span(40, 50, 'Other'),\n",
       "           Span(50, 58, 'Comfort'),\n",
       "           Span(58, 107, 'Other'),\n",
       "           Span(107, 113, 'Whole')])"
      ]
     },
     "metadata": {},
     "output_type": "display_data"
    },
    {
     "name": "stdout",
     "output_type": "stream",
     "text": [
      "[('Салон', 'B-Comfort'), ('просторный', 'B-Comfort'), (',', 'Other'), ('обзор', 'B-Safety'), ('хороший', 'Other'), (',', 'Other'), ('клиренс', 'B-Driveability'), ('средний', 'Other'), (',', 'Other'), ('багажник', 'B-Comfort')] \n",
      "\n"
     ]
    },
    {
     "data": {
      "text/html": [
       "<div class=\"tex2jax_ignore\" style=\"white-space: pre-wrap\"><span style=\"padding: 2px; border-radius: 4px; border: 1px solid #d7ccc8; background: #efebe9\">Для тех, кто решил взять в качестве первого <span style=\"vertical-align: middle; margin-left: 2px; font-size: 0.7em; color: #a1887f;\">Other</span></span><span style=\"padding: 2px; border-radius: 4px; border: 1px solid #ffcdd2; background: #ffebee\">авто<span style=\"vertical-align: middle; margin-left: 2px; font-size: 0.7em; color: #e57373;\">Whole</span></span><span style=\"padding: 2px; border-radius: 4px; border: 1px solid #d7ccc8; background: #efebe9\">, он в принципе подойдёт, но готовьтесь вкладывать и <span style=\"vertical-align: middle; margin-left: 2px; font-size: 0.7em; color: #a1887f;\">Other</span></span><span style=\"padding: 2px; border-radius: 4px; border: 1px solid #ffcdd2; background: #ffebee\">вкладывать в авто<span style=\"vertical-align: middle; margin-left: 2px; font-size: 0.7em; color: #e57373;\">Costs</span></span><span style=\"padding: 2px; border-radius: 4px; border: 1px solid #d7ccc8; background: #efebe9\">, так-как в хорошем состоянии <span style=\"vertical-align: middle; margin-left: 2px; font-size: 0.7em; color: #a1887f;\">Other</span></span><span style=\"padding: 2px; border-radius: 4px; border: 1px solid #ffcdd2; background: #ffebee\">авто<span style=\"vertical-align: middle; margin-left: 2px; font-size: 0.7em; color: #e57373;\">Whole</span></span><span style=\"padding: 2px; border-radius: 4px; border: 1px solid #d7ccc8; background: #efebe9\"> единицы и авто-разборка Ваш друг на долго, да и <span style=\"vertical-align: middle; margin-left: 2px; font-size: 0.7em; color: #a1887f;\">Other</span></span><span style=\"padding: 2px; border-radius: 4px; border: 1px solid #ffcdd2; background: #ffebee\">запчасти<span style=\"vertical-align: middle; margin-left: 2px; font-size: 0.7em; color: #e57373;\">Costs</span></span><span style=\"padding: 2px; border-radius: 4px; border: 1px solid #d7ccc8; background: #efebe9\"> <span style=\"vertical-align: middle; margin-left: 2px; font-size: 0.7em; color: #a1887f;\">Other</span></span><span style=\"padding: 2px; border-radius: 4px; border: 1px solid #ffcdd2; background: #ffebee\">не сказать, что дёшево<span style=\"vertical-align: middle; margin-left: 2px; font-size: 0.7em; color: #e57373;\">Costs</span></span><span style=\"padding: 2px; border-radius: 4px; border: 1px solid #d7ccc8; background: #efebe9\">, особенно <span style=\"vertical-align: middle; margin-left: 2px; font-size: 0.7em; color: #a1887f;\">Other</span></span><span style=\"padding: 2px; border-radius: 4px; border: 1px solid #ffcdd2; background: #ffebee\">кузовное железо<span style=\"vertical-align: middle; margin-left: 2px; font-size: 0.7em; color: #e57373;\">Costs</span></span><span style=\"padding: 2px; border-radius: 4px; border: 1px solid #d7ccc8; background: #efebe9\">, его в отличном состоянии практически не найти.<span style=\"vertical-align: middle; margin-left: 2px; font-size: 0.7em; color: #a1887f;\">Other</span></span></div>"
      ],
      "text/plain": [
       "BoxMarkup('Для тех, кто решил взять в качестве первого авто, он в принципе подойдёт, но готовьтесь вкладывать и вкладывать в авто, так-как в хорошем состоянии авто единицы и авто-разборка Ваш друг на долго, да и запчасти не сказать, что дёшево, особенно кузовное железо, его в отличном состоянии практически не найти.',\n",
       "          [Span(0, 44, 'Other'),\n",
       "           Span(44, 48, 'Whole'),\n",
       "           Span(48, 101, 'Other'),\n",
       "           Span(101, 118, 'Costs'),\n",
       "           Span(118, 148, 'Other'),\n",
       "           Span(148, 152, 'Whole'),\n",
       "           Span(152, 201, 'Other'),\n",
       "           Span(201, 209, 'Costs'),\n",
       "           Span(209, 210, 'Other'),\n",
       "           Span(210, 232, 'Costs'),\n",
       "           Span(232, 243, 'Other'),\n",
       "           Span(243, 258, 'Costs'),\n",
       "           Span(258, 306, 'Other')])"
      ]
     },
     "metadata": {},
     "output_type": "display_data"
    },
    {
     "name": "stdout",
     "output_type": "stream",
     "text": [
      "[('Для', 'Other'), ('тех', 'Other'), (',', 'Other'), ('кто', 'Other'), ('решил', 'Other'), ('взять', 'Other'), ('в', 'Other'), ('качестве', 'Other'), ('первого', 'Other'), ('авто', 'B-Whole')] \n",
      "\n"
     ]
    },
    {
     "data": {
      "text/html": [
       "<div class=\"tex2jax_ignore\" style=\"white-space: pre-wrap\"><span style=\"padding: 2px; border-radius: 4px; border: 1px solid #d7ccc8; background: #efebe9\">Выход есть:<span style=\"vertical-align: middle; margin-left: 2px; font-size: 0.7em; color: #a1887f;\">Other</span></span><span style=\"padding: 2px; border-radius: 4px; border: 1px solid #d1c4e9; background: #ede7f6\">Китайская кузовщина<span style=\"vertical-align: middle; margin-left: 2px; font-size: 0.7em; color: #9575cd;\">Safety</span></span><span style=\"padding: 2px; border-radius: 4px; border: 1px solid #d7ccc8; background: #efebe9\">, рихтуется отлично-\"фольга\", но и <span style=\"vertical-align: middle; margin-left: 2px; font-size: 0.7em; color: #a1887f;\">Other</span></span><span style=\"padding: 2px; border-radius: 4px; border: 1px solid #c8e6c9; background: #e8f5e9\">гнётся от руки<span style=\"vertical-align: middle; margin-left: 2px; font-size: 0.7em; color: #66bb6a;\">Reliability</span></span>.</div>"
      ],
      "text/plain": [
       "BoxMarkup('Выход есть:Китайская кузовщина, рихтуется отлично-\"фольга\", но и гнётся от руки.',\n",
       "          [Span(0, 11, 'Other'),\n",
       "           Span(11, 30, 'Safety'),\n",
       "           Span(30, 65, 'Other'),\n",
       "           Span(65, 79, 'Reliability')])"
      ]
     },
     "metadata": {},
     "output_type": "display_data"
    },
    {
     "name": "stdout",
     "output_type": "stream",
     "text": [
      "[('Выход', 'Other'), ('есть', 'Other'), (':', 'Other'), ('Китайская', 'B-Safety'), ('кузовщина', 'I-Safety'), (',', 'Other'), ('рихтуется', 'Other'), ('отлично', 'Other'), ('-\"фольга\",', 'Other'), ('но', 'Other')] \n",
      "\n"
     ]
    },
    {
     "data": {
      "text/html": [
       "<div class=\"tex2jax_ignore\" style=\"white-space: pre-wrap\"><span style=\"padding: 2px; border-radius: 4px; border: 1px solid #d7ccc8; background: #efebe9\">\"Муха села и айда!\" <span style=\"vertical-align: middle; margin-left: 2px; font-size: 0.7em; color: #a1887f;\">Other</span></span><span style=\"padding: 2px; border-radius: 4px; border: 1px solid #ffe0b2; background: #fff3e0\">Сиденья<span style=\"vertical-align: middle; margin-left: 2px; font-size: 0.7em; color: #ffb74d;\">Comfort</span></span><span style=\"padding: 2px; border-radius: 4px; border: 1px solid #d7ccc8; background: #efebe9\"> <span style=\"vertical-align: middle; margin-left: 2px; font-size: 0.7em; color: #a1887f;\">Other</span></span><span style=\"padding: 2px; border-radius: 4px; border: 1px solid #ffe0b2; background: #fff3e0\">удобные<span style=\"vertical-align: middle; margin-left: 2px; font-size: 0.7em; color: #ffb74d;\">Comfort</span></span><span style=\"padding: 2px; border-radius: 4px; border: 1px solid #d7ccc8; background: #efebe9\"> вполне, но лучше сразу прикупить чехлы, так-как <span style=\"vertical-align: middle; margin-left: 2px; font-size: 0.7em; color: #a1887f;\">Other</span></span><span style=\"padding: 2px; border-radius: 4px; border: 1px solid #ffe0b2; background: #fff3e0\">пачкаются<span style=\"vertical-align: middle; margin-left: 2px; font-size: 0.7em; color: #ffb74d;\">Comfort</span></span><span style=\"padding: 2px; border-radius: 4px; border: 1px solid #d7ccc8; background: #efebe9\"> мгновенно.<span style=\"vertical-align: middle; margin-left: 2px; font-size: 0.7em; color: #a1887f;\">Other</span></span></div>"
      ],
      "text/plain": [
       "BoxMarkup('\"Муха села и айда!\" Сиденья удобные вполне, но лучше сразу прикупить чехлы, так-как пачкаются мгновенно.',\n",
       "          [Span(0, 20, 'Other'),\n",
       "           Span(20, 27, 'Comfort'),\n",
       "           Span(27, 28, 'Other'),\n",
       "           Span(28, 35, 'Comfort'),\n",
       "           Span(35, 84, 'Other'),\n",
       "           Span(84, 93, 'Comfort'),\n",
       "           Span(93, 104, 'Other')])"
      ]
     },
     "metadata": {},
     "output_type": "display_data"
    },
    {
     "name": "stdout",
     "output_type": "stream",
     "text": [
      "[('\"Муха', 'Other'), ('села', 'Other'), ('и', 'Other'), ('айда', 'Other'), ('!\"', 'Other'), ('Сиденья', 'B-Comfort'), ('удобные', 'B-Comfort'), ('вполне', 'Other'), (',', 'Other'), ('но', 'Other')] \n",
      "\n"
     ]
    },
    {
     "data": {
      "text/html": [
       "<div class=\"tex2jax_ignore\" style=\"white-space: pre-wrap\"><span style=\"padding: 2px; border-radius: 4px; border: 1px solid #c8e6c9; background: #e8f5e9\">Двигателя<span style=\"vertical-align: middle; margin-left: 2px; font-size: 0.7em; color: #66bb6a;\">Reliability</span></span><span style=\"padding: 2px; border-radius: 4px; border: 1px solid #d7ccc8; background: #efebe9\"> конечно имеют нарекания не только у владельцев, но и у слесарей, которые их ремонтируют.<span style=\"vertical-align: middle; margin-left: 2px; font-size: 0.7em; color: #a1887f;\">Other</span></span></div>"
      ],
      "text/plain": [
       "BoxMarkup('Двигателя конечно имеют нарекания не только у владельцев, но и у слесарей, которые их ремонтируют.',\n",
       "          [Span(0, 9, 'Reliability'), Span(9, 98, 'Other')])"
      ]
     },
     "metadata": {},
     "output_type": "display_data"
    },
    {
     "name": "stdout",
     "output_type": "stream",
     "text": [
      "[('Двигателя', 'B-Reliability'), ('конечно', 'Other'), ('имеют', 'Other'), ('нарекания', 'Other'), ('не', 'Other'), ('только', 'Other'), ('у', 'Other'), ('владельцев', 'Other'), (',', 'Other'), ('но', 'Other')] \n",
      "\n"
     ]
    },
    {
     "data": {
      "text/html": [
       "<div class=\"tex2jax_ignore\" style=\"white-space: pre-wrap\"><span style=\"padding: 2px; border-radius: 4px; border: 1px solid #c8e6c9; background: #e8f5e9\">МКПП<span style=\"vertical-align: middle; margin-left: 2px; font-size: 0.7em; color: #66bb6a;\">Reliability</span></span><span style=\"padding: 2px; border-radius: 4px; border: 1px solid #d7ccc8; background: #efebe9\"> живучие в меру, если их не рвать.<span style=\"vertical-align: middle; margin-left: 2px; font-size: 0.7em; color: #a1887f;\">Other</span></span></div>"
      ],
      "text/plain": [
       "BoxMarkup('МКПП живучие в меру, если их не рвать.',\n",
       "          [Span(0, 4, 'Reliability'), Span(4, 38, 'Other')])"
      ]
     },
     "metadata": {},
     "output_type": "display_data"
    },
    {
     "name": "stdout",
     "output_type": "stream",
     "text": [
      "[('МКПП', 'B-Reliability'), ('живучие', 'Other'), ('в', 'Other'), ('меру', 'Other'), (',', 'Other'), ('если', 'Other'), ('их', 'Other'), ('не', 'Other'), ('рвать', 'Other'), ('.', 'Other')] \n",
      "\n"
     ]
    },
    {
     "data": {
      "text/html": [
       "<div class=\"tex2jax_ignore\" style=\"white-space: pre-wrap\"><span style=\"padding: 2px; border-radius: 4px; border: 1px solid #c8e6c9; background: #e8f5e9\">Подвеска<span style=\"vertical-align: middle; margin-left: 2px; font-size: 0.7em; color: #66bb6a;\">Reliability</span></span><span style=\"padding: 2px; border-radius: 4px; border: 1px solid #d7ccc8; background: #efebe9\"> среднего качества, но за пару сезонов можно \"просадить\" по нашим дорогам.<span style=\"vertical-align: middle; margin-left: 2px; font-size: 0.7em; color: #a1887f;\">Other</span></span></div>"
      ],
      "text/plain": [
       "BoxMarkup('Подвеска среднего качества, но за пару сезонов можно \"просадить\" по нашим дорогам.',\n",
       "          [Span(0, 8, 'Reliability'), Span(8, 82, 'Other')])"
      ]
     },
     "metadata": {},
     "output_type": "display_data"
    },
    {
     "name": "stdout",
     "output_type": "stream",
     "text": [
      "[('Подвеска', 'B-Reliability'), ('среднего', 'Other'), ('качества', 'Other'), (',', 'Other'), ('но', 'Other'), ('за', 'Other'), ('пару', 'Other'), ('сезонов', 'Other'), ('можно', 'Other'), ('\"просадить\"', 'Other')] \n",
      "\n"
     ]
    },
    {
     "data": {
      "text/html": [
       "<div class=\"tex2jax_ignore\" style=\"white-space: pre-wrap\"><span style=\"padding: 2px; border-radius: 4px; border: 1px solid #c8e6c9; background: #e8f5e9\">Электрика<span style=\"vertical-align: middle; margin-left: 2px; font-size: 0.7em; color: #66bb6a;\">Reliability</span></span><span style=\"padding: 2px; border-radius: 4px; border: 1px solid #d7ccc8; background: #efebe9\"> просто супер!-автоэлектрики не охотно любят связываться с данной <span style=\"vertical-align: middle; margin-left: 2px; font-size: 0.7em; color: #a1887f;\">Other</span></span><span style=\"padding: 2px; border-radius: 4px; border: 1px solid #c8e6c9; background: #e8f5e9\">моделью<span style=\"vertical-align: middle; margin-left: 2px; font-size: 0.7em; color: #66bb6a;\">Reliability</span></span><span style=\"padding: 2px; border-radius: 4px; border: 1px solid #d7ccc8; background: #efebe9\">, а если берут на ремонт, то частенько плюются.<span style=\"vertical-align: middle; margin-left: 2px; font-size: 0.7em; color: #a1887f;\">Other</span></span></div>"
      ],
      "text/plain": [
       "BoxMarkup('Электрика просто супер!-автоэлектрики не охотно любят связываться с данной моделью, а если берут на ремонт, то частенько плюются.',\n",
       "          [Span(0, 9, 'Reliability'),\n",
       "           Span(9, 75, 'Other'),\n",
       "           Span(75, 82, 'Reliability'),\n",
       "           Span(82, 129, 'Other')])"
      ]
     },
     "metadata": {},
     "output_type": "display_data"
    },
    {
     "name": "stdout",
     "output_type": "stream",
     "text": [
      "[('Электрика', 'B-Reliability'), ('просто', 'Other'), ('супер', 'Other'), ('!-автоэлектрики', 'Other'), ('не', 'Other'), ('охотно', 'Other'), ('любят', 'Other'), ('связываться', 'Other'), ('с', 'Other'), ('данной', 'Other')] \n",
      "\n"
     ]
    },
    {
     "data": {
      "text/html": [
       "<div class=\"tex2jax_ignore\" style=\"white-space: pre-wrap\"><span style=\"padding: 2px; border-radius: 4px; border: 1px solid #d7ccc8; background: #efebe9\">В общем <span style=\"vertical-align: middle; margin-left: 2px; font-size: 0.7em; color: #a1887f;\">Other</span></span><span style=\"padding: 2px; border-radius: 4px; border: 1px solid #ffcdd2; background: #ffebee\">машинка<span style=\"vertical-align: middle; margin-left: 2px; font-size: 0.7em; color: #e57373;\">Whole</span></span><span style=\"padding: 2px; border-radius: 4px; border: 1px solid #d7ccc8; background: #efebe9\"> не плохая, если в одних руках и бережно эксплуатируется, но на рынке в хорошем состоянии трудно найти, нежели в отличном или идеальном, в основном уже <span style=\"vertical-align: middle; margin-left: 2px; font-size: 0.7em; color: #a1887f;\">Other</span></span><span style=\"padding: 2px; border-radius: 4px; border: 1px solid #ffcdd2; background: #ffebee\">чермет на колесах<span style=\"vertical-align: middle; margin-left: 2px; font-size: 0.7em; color: #e57373;\">Whole</span></span>.</div>"
      ],
      "text/plain": [
       "BoxMarkup('В общем машинка не плохая, если в одних руках и бережно эксплуатируется, но на рынке в хорошем состоянии трудно найти, нежели в отличном или идеальном, в основном уже чермет на колесах.',\n",
       "          [Span(0, 8, 'Other'),\n",
       "           Span(8, 15, 'Whole'),\n",
       "           Span(15, 167, 'Other'),\n",
       "           Span(167, 184, 'Whole')])"
      ]
     },
     "metadata": {},
     "output_type": "display_data"
    },
    {
     "name": "stdout",
     "output_type": "stream",
     "text": [
      "[('В', 'Other'), ('общем', 'Other'), ('машинка', 'B-Whole'), ('не', 'Other'), ('плохая', 'Other'), (',', 'Other'), ('если', 'Other'), ('в', 'Other'), ('одних', 'Other'), ('руках', 'Other')] \n",
      "\n"
     ]
    },
    {
     "data": {
      "text/html": [
       "<div class=\"tex2jax_ignore\" style=\"white-space: pre-wrap\"></div>"
      ],
      "text/plain": [
       "BoxMarkup('', [])"
      ]
     },
     "metadata": {},
     "output_type": "display_data"
    },
    {
     "name": "stdout",
     "output_type": "stream",
     "text": [
      "[] \n",
      "\n"
     ]
    }
   ],
   "source": [
    "for rand_i in random_picks:\n",
    "    text, aspect_spans = texts_w_aspect_spans[rand_i]\n",
    "\n",
    "    print('Разбиение на предложения и BIO токенизация текста №:',rand_i) \n",
    "    for sentence, spans in sentence_splitter(text, aspect_spans):\n",
    "\n",
    "        cover_spans      = fill_gaps(sentence,spans)\n",
    "        tokens_w_biotags = extract_BIO_tagged_tokens(sentence, \n",
    "                                                     cover_spans, \n",
    "                                                     word_tokenizer.tokenize)\n",
    "\n",
    "        show_markup(sentence, cover_spans)\n",
    "        print(tokens_w_biotags[:10],'\\n')"
   ]
  },
  {
   "cell_type": "markdown",
   "metadata": {},
   "source": [
    "##  Подготовка данных для обучения: "
   ]
  },
  {
   "cell_type": "code",
   "execution_count": 19,
   "metadata": {},
   "outputs": [],
   "source": [
    "from dlnlputils.sentiment_utils import prepare_data, form_vocabulary_and_tagset"
   ]
  },
  {
   "cell_type": "code",
   "execution_count": 22,
   "metadata": {},
   "outputs": [],
   "source": [
    "# Если Вы запускаете ноутбук на colab, добавьте в начало пути /content/stepik-dl-nlp\n",
    "xml_train = '/Users/evagolubenko/Documents/try_python/sumsung-dl-nlp_(stepik)/datasets/sentirueval2015/SentiRuEval_car_markup_train.xml'\n",
    "xml_test  = '/Users/evagolubenko/Documents/try_python/sumsung-dl-nlp_(stepik)/datasets/sentirueval2015/SentiRuEval_car_markup_test.xml'"
   ]
  },
  {
   "cell_type": "markdown",
   "metadata": {},
   "source": [
    "### Токенизация: "
   ]
  },
  {
   "cell_type": "code",
   "execution_count": 23,
   "metadata": {},
   "outputs": [],
   "source": [
    "texts_w_aspect_spans = parse_xml_aspect(xml_train)\n",
    "training_data        = prepare_data(texts_w_aspect_spans, word_tokenizer.tokenize)\n",
    "\n",
    "texts_w_aspect_spans = parse_xml_aspect(xml_test)\n",
    "test_data            = prepare_data(texts_w_aspect_spans, word_tokenizer.tokenize)\n"
   ]
  },
  {
   "cell_type": "markdown",
   "metadata": {},
   "source": [
    "#### разбиение на предложения дало нам столько коротких текстов:"
   ]
  },
  {
   "cell_type": "code",
   "execution_count": 24,
   "metadata": {},
   "outputs": [
    {
     "data": {
      "text/plain": [
       "(2210, 1922)"
      ]
     },
     "execution_count": 24,
     "metadata": {},
     "output_type": "execute_result"
    }
   ],
   "source": [
    "len(training_data), len(test_data)"
   ]
  },
  {
   "cell_type": "code",
   "execution_count": 25,
   "metadata": {},
   "outputs": [],
   "source": [
    "all_data = training_data + test_data"
   ]
  },
  {
   "cell_type": "code",
   "execution_count": 26,
   "metadata": {},
   "outputs": [],
   "source": [
    "vocabulary,labels = form_vocabulary_and_tagset(all_data)"
   ]
  },
  {
   "cell_type": "code",
   "execution_count": 27,
   "metadata": {},
   "outputs": [
    {
     "data": {
      "text/plain": [
       "{'B-Appearance',\n",
       " 'B-Comfort',\n",
       " 'B-Costs',\n",
       " 'B-Driveability',\n",
       " 'B-Reliability',\n",
       " 'B-Safety',\n",
       " 'B-Whole',\n",
       " 'I-Appearance',\n",
       " 'I-Comfort',\n",
       " 'I-Costs',\n",
       " 'I-Driveability',\n",
       " 'I-Reliability',\n",
       " 'I-Safety',\n",
       " 'I-Whole',\n",
       " 'Other'}"
      ]
     },
     "execution_count": 27,
     "metadata": {},
     "output_type": "execute_result"
    }
   ],
   "source": [
    "labels"
   ]
  },
  {
   "cell_type": "markdown",
   "metadata": {},
   "source": [
    "#### а размер словаря:"
   ]
  },
  {
   "cell_type": "code",
   "execution_count": 28,
   "metadata": {},
   "outputs": [
    {
     "data": {
      "text/plain": [
       "(11333, 15)"
      ]
     },
     "execution_count": 28,
     "metadata": {},
     "output_type": "execute_result"
    }
   ],
   "source": [
    "len(vocabulary), len(labels)"
   ]
  },
  {
   "cell_type": "markdown",
   "metadata": {},
   "source": [
    "#### индексация:"
   ]
  },
  {
   "cell_type": "code",
   "execution_count": 29,
   "metadata": {},
   "outputs": [],
   "source": [
    "from dlnlputils.sentiment_utils import Converter, generate_markup"
   ]
  },
  {
   "cell_type": "code",
   "execution_count": 30,
   "metadata": {},
   "outputs": [],
   "source": [
    "converter = Converter(vocabulary,labels)"
   ]
  },
  {
   "cell_type": "code",
   "execution_count": 31,
   "metadata": {},
   "outputs": [
    {
     "data": {
      "text/html": [
       "<div class=\"tex2jax_ignore\" style=\"white-space: pre-wrap\"><span style=\"padding: 2px; border-radius: 4px; border: 1px solid #d7ccc8; background: #efebe9\">За первых три года не было<span style=\"vertical-align: middle; margin-left: 2px; font-size: 0.7em; color: #a1887f;\">Other</span></span> <span style=\"padding: 2px; border-radius: 4px; border: 1px solid #c8e6c9; background: #e8f5e9\">ни одной поломки<span style=\"vertical-align: middle; margin-left: 2px; font-size: 0.7em; color: #66bb6a;\">Reliability</span></span> <span style=\"padding: 2px; border-radius: 4px; border: 1px solid #d7ccc8; background: #efebe9\">, потом стали проявляться мелкие<span style=\"vertical-align: middle; margin-left: 2px; font-size: 0.7em; color: #a1887f;\">Other</span></span> <span style=\"padding: 2px; border-radius: 4px; border: 1px solid #c8e6c9; background: #e8f5e9\">неисправности<span style=\"vertical-align: middle; margin-left: 2px; font-size: 0.7em; color: #66bb6a;\">Reliability</span></span> <span style=\"padding: 2px; border-radius: 4px; border: 1px solid #d7ccc8; background: #efebe9\">:<span style=\"vertical-align: middle; margin-left: 2px; font-size: 0.7em; color: #a1887f;\">Other</span></span> <span style=\"padding: 2px; border-radius: 4px; border: 1px solid #c8e6c9; background: #e8f5e9\">подшипник на полуоси<span style=\"vertical-align: middle; margin-left: 2px; font-size: 0.7em; color: #66bb6a;\">Reliability</span></span> <span style=\"padding: 2px; border-radius: 4px; border: 1px solid #d7ccc8; background: #efebe9\">,<span style=\"vertical-align: middle; margin-left: 2px; font-size: 0.7em; color: #a1887f;\">Other</span></span> <span style=\"padding: 2px; border-radius: 4px; border: 1px solid #c8e6c9; background: #e8f5e9\">лампочки дальнего ближнего света<span style=\"vertical-align: middle; margin-left: 2px; font-size: 0.7em; color: #66bb6a;\">Reliability</span></span> <span style=\"padding: 2px; border-radius: 4px; border: 1px solid #d7ccc8; background: #efebe9\">,<span style=\"vertical-align: middle; margin-left: 2px; font-size: 0.7em; color: #a1887f;\">Other</span></span> <span style=\"padding: 2px; border-radius: 4px; border: 1px solid #c8e6c9; background: #e8f5e9\">крестовины<span style=\"vertical-align: middle; margin-left: 2px; font-size: 0.7em; color: #66bb6a;\">Reliability</span></span> <span style=\"padding: 2px; border-radius: 4px; border: 1px solid #d7ccc8; background: #efebe9\">,<span style=\"vertical-align: middle; margin-left: 2px; font-size: 0.7em; color: #a1887f;\">Other</span></span> <span style=\"padding: 2px; border-radius: 4px; border: 1px solid #c8e6c9; background: #e8f5e9\">аккумулятор<span style=\"vertical-align: middle; margin-left: 2px; font-size: 0.7em; color: #66bb6a;\">Reliability</span></span> <span style=\"padding: 2px; border-radius: 4px; border: 1px solid #d7ccc8; background: #efebe9\">,<span style=\"vertical-align: middle; margin-left: 2px; font-size: 0.7em; color: #a1887f;\">Other</span></span> <span style=\"padding: 2px; border-radius: 4px; border: 1px solid #c8e6c9; background: #e8f5e9\">свечи<span style=\"vertical-align: middle; margin-left: 2px; font-size: 0.7em; color: #66bb6a;\">Reliability</span></span></div>"
      ],
      "text/plain": [
       "BoxMarkup('За первых три года не было ни одной поломки , потом стали проявляться мелкие неисправности : подшипник на полуоси , лампочки дальнего ближнего света , крестовины , аккумулятор , свечи',\n",
       "          [Span(0, 26, 'Other'),\n",
       "           Span(27, 43, 'Reliability'),\n",
       "           Span(44, 76, 'Other'),\n",
       "           Span(77, 90, 'Reliability'),\n",
       "           Span(91, 92, 'Other'),\n",
       "           Span(93, 113, 'Reliability'),\n",
       "           Span(114, 115, 'Other'),\n",
       "           Span(116, 148, 'Reliability'),\n",
       "           Span(149, 150, 'Other'),\n",
       "           Span(151, 161, 'Reliability'),\n",
       "           Span(162, 163, 'Other'),\n",
       "           Span(164, 175, 'Reliability'),\n",
       "           Span(176, 177, 'Other'),\n",
       "           Span(178, 183, 'Reliability')])"
      ]
     },
     "metadata": {},
     "output_type": "display_data"
    },
    {
     "name": "stdout",
     "output_type": "stream",
     "text": [
      "tensor([ 1395,  7307, 10381,  3591,  6303,  2877,  6524,  6847,  7826,   289,\n",
      "         8063,  9912,  8648,  5768,  6381,   823,  7653,  6064,  7835,   289,\n",
      "         5435,  3739,  2737,  9234,   289,  5331,   289,  2540,   289,  9247])\n",
      "tensor([14, 14, 14, 14, 14, 14,  4, 11, 11, 14, 14, 14, 14, 14,  4, 14,  4, 11,\n",
      "        11, 14,  4, 11, 11, 11, 14,  4, 14,  4, 14,  4])\n",
      "\n"
     ]
    },
    {
     "data": {
      "text/html": [
       "<div class=\"tex2jax_ignore\" style=\"white-space: pre-wrap\"><span style=\"padding: 2px; border-radius: 4px; border: 1px solid #d7ccc8; background: #efebe9\">За первых три года не было<span style=\"vertical-align: middle; margin-left: 2px; font-size: 0.7em; color: #a1887f;\">Other</span></span> <span style=\"padding: 2px; border-radius: 4px; border: 1px solid #c8e6c9; background: #e8f5e9\">ни одной поломки<span style=\"vertical-align: middle; margin-left: 2px; font-size: 0.7em; color: #66bb6a;\">Reliability</span></span> <span style=\"padding: 2px; border-radius: 4px; border: 1px solid #d7ccc8; background: #efebe9\">, потом стали проявляться мелкие<span style=\"vertical-align: middle; margin-left: 2px; font-size: 0.7em; color: #a1887f;\">Other</span></span> <span style=\"padding: 2px; border-radius: 4px; border: 1px solid #c8e6c9; background: #e8f5e9\">неисправности<span style=\"vertical-align: middle; margin-left: 2px; font-size: 0.7em; color: #66bb6a;\">Reliability</span></span> <span style=\"padding: 2px; border-radius: 4px; border: 1px solid #d7ccc8; background: #efebe9\">:<span style=\"vertical-align: middle; margin-left: 2px; font-size: 0.7em; color: #a1887f;\">Other</span></span> <span style=\"padding: 2px; border-radius: 4px; border: 1px solid #c8e6c9; background: #e8f5e9\">подшипник на полуоси<span style=\"vertical-align: middle; margin-left: 2px; font-size: 0.7em; color: #66bb6a;\">Reliability</span></span> <span style=\"padding: 2px; border-radius: 4px; border: 1px solid #d7ccc8; background: #efebe9\">,<span style=\"vertical-align: middle; margin-left: 2px; font-size: 0.7em; color: #a1887f;\">Other</span></span> <span style=\"padding: 2px; border-radius: 4px; border: 1px solid #c8e6c9; background: #e8f5e9\">лампочки дальнего ближнего света<span style=\"vertical-align: middle; margin-left: 2px; font-size: 0.7em; color: #66bb6a;\">Reliability</span></span> <span style=\"padding: 2px; border-radius: 4px; border: 1px solid #d7ccc8; background: #efebe9\">,<span style=\"vertical-align: middle; margin-left: 2px; font-size: 0.7em; color: #a1887f;\">Other</span></span> <span style=\"padding: 2px; border-radius: 4px; border: 1px solid #c8e6c9; background: #e8f5e9\">крестовины<span style=\"vertical-align: middle; margin-left: 2px; font-size: 0.7em; color: #66bb6a;\">Reliability</span></span> <span style=\"padding: 2px; border-radius: 4px; border: 1px solid #d7ccc8; background: #efebe9\">,<span style=\"vertical-align: middle; margin-left: 2px; font-size: 0.7em; color: #a1887f;\">Other</span></span> <span style=\"padding: 2px; border-radius: 4px; border: 1px solid #c8e6c9; background: #e8f5e9\">аккумулятор<span style=\"vertical-align: middle; margin-left: 2px; font-size: 0.7em; color: #66bb6a;\">Reliability</span></span> <span style=\"padding: 2px; border-radius: 4px; border: 1px solid #d7ccc8; background: #efebe9\">,<span style=\"vertical-align: middle; margin-left: 2px; font-size: 0.7em; color: #a1887f;\">Other</span></span> <span style=\"padding: 2px; border-radius: 4px; border: 1px solid #c8e6c9; background: #e8f5e9\">свечи<span style=\"vertical-align: middle; margin-left: 2px; font-size: 0.7em; color: #66bb6a;\">Reliability</span></span></div>"
      ],
      "text/plain": [
       "BoxMarkup('За первых три года не было ни одной поломки , потом стали проявляться мелкие неисправности : подшипник на полуоси , лампочки дальнего ближнего света , крестовины , аккумулятор , свечи',\n",
       "          [Span(0, 26, 'Other'),\n",
       "           Span(27, 43, 'Reliability'),\n",
       "           Span(44, 76, 'Other'),\n",
       "           Span(77, 90, 'Reliability'),\n",
       "           Span(91, 92, 'Other'),\n",
       "           Span(93, 113, 'Reliability'),\n",
       "           Span(114, 115, 'Other'),\n",
       "           Span(116, 148, 'Reliability'),\n",
       "           Span(149, 150, 'Other'),\n",
       "           Span(151, 161, 'Reliability'),\n",
       "           Span(162, 163, 'Other'),\n",
       "           Span(164, 175, 'Reliability'),\n",
       "           Span(176, 177, 'Other'),\n",
       "           Span(178, 183, 'Reliability')])"
      ]
     },
     "metadata": {},
     "output_type": "display_data"
    }
   ],
   "source": [
    "test_recipe, test_tags = training_data[1211]\n",
    "\n",
    "text, spans = generate_markup(test_recipe, test_tags) \n",
    "\n",
    "show_markup(text, spans)\n",
    "\n",
    "encoded_recipe = converter.words_to_index(test_recipe)\n",
    "encoded_tags   = converter.tags_to_index(test_tags)\n",
    "\n",
    "print(encoded_recipe)\n",
    "print(encoded_tags)\n",
    "print()\n",
    "\n",
    "decoded_recipe = converter.indices_to_words(encoded_recipe)\n",
    "decoded_tags   = converter.indices_to_tags(encoded_tags)\n",
    "\n",
    "text, spans = generate_markup(decoded_recipe, decoded_tags) \n",
    "\n",
    "show_markup(text, spans)"
   ]
  },
  {
   "cell_type": "markdown",
   "metadata": {},
   "source": [
    "### Нейросети"
   ]
  },
  {
   "cell_type": "code",
   "execution_count": 32,
   "metadata": {},
   "outputs": [],
   "source": [
    "EMBEDDING_DIM = 300\n",
    "HIDDEN_DIM    = 32\n",
    "VOCAB_SIZE    = len(converter.word_to_idx)\n",
    "TAGSET_SIZE   = len(converter.tag_to_idx)"
   ]
  },
  {
   "cell_type": "markdown",
   "metadata": {},
   "source": [
    "###  Предобученные векторы слов\n",
    "\n",
    "Алгоритм fastText обученный на корпусе Тайга, смотрите подробности на сайте: https://rusvectores.org/ru/models/\n"
   ]
  },
  {
   "cell_type": "code",
   "execution_count": 33,
   "metadata": {},
   "outputs": [],
   "source": [
    "# !pip3 install wget"
   ]
  },
  {
   "cell_type": "code",
   "execution_count": 40,
   "metadata": {
    "scrolled": true
   },
   "outputs": [],
   "source": [
    "import zipfile\n",
    "import gensim\n",
    "#import wget\n",
    "\n",
    "model_url = 'http://vectors.nlpl.eu/repository/11/187.zip'\n",
    "#wget.download(model_url)\n",
    "model_file = '/Users/evagolubenko/Documents/try_python/sumsung-dl-nlp_(stepik)/datasets/' + model_url.split('/')[-1]"
   ]
  },
  {
   "cell_type": "code",
   "execution_count": 41,
   "metadata": {},
   "outputs": [
    {
     "name": "stdout",
     "output_type": "stream",
     "text": [
      "жигулёнка 0.7488205432891846\n",
      "ишачка 0.7310285568237305\n",
      "грузовичка 0.7278668880462646\n",
      "жигулёнок 0.7127147912979126\n",
      "жигуленок 0.706432044506073\n",
      "тележка 0.6995413899421692\n",
      "мопед 0.6990943551063538\n",
      "сачка 0.6923120021820068\n",
      "катафалка 0.6904969811439514\n",
      "бричка 0.6855131387710571\n",
      "\n",
      "\n",
      "двигатели 0.9118232727050781\n",
      "гипердвигатель 0.8655393123626709\n",
      "электродвигатель 0.8446589708328247\n",
      "мотор 0.8106047511100769\n",
      "электромотор 0.8067886233329773\n",
      "авиадвигатель 0.7910490036010742\n",
      "движок 0.7793391346931458\n",
      "перводвигатель 0.7768319249153137\n",
      "двигательный 0.7394744157791138\n",
      "турбина 0.7326768636703491\n",
      "\n",
      "\n",
      "bmw 0.7961359620094299\n",
      "бмв 0.7914925813674927\n",
      "аудь 0.7911134958267212\n",
      "тойота 0.7723557353019714\n",
      "мерседес 0.7654416561126709\n",
      "mw 0.7585864067077637\n",
      "bmv 0.7522681951522827\n",
      "форд 0.7281615734100342\n",
      "тойот 0.7268385887145996\n",
      "лексус 0.7258473038673401\n",
      "\n",
      "\n"
     ]
    }
   ],
   "source": [
    "w2v_model = gensim.models.KeyedVectors.load('/Users/evagolubenko/Documents/try_python/sumsung-dl-nlp_(stepik)/datasets/187/model.model')\n",
    "\n",
    "words = ['тачка', 'двигатель', 'ауди']\n",
    "\n",
    "for word in words:\n",
    "    #if word in w2v_model:\n",
    "           \n",
    "    for i in w2v_model.most_similar(positive=[word], topn=10):\n",
    "        nearest_word      = i[0]\n",
    "        cosine_similarity = i[1]\n",
    "        print(nearest_word, cosine_similarity)\n",
    "    print('\\n')\n",
    "    \n",
    "    #else: print(word + ' is not present in the model')"
   ]
  },
  {
   "cell_type": "code",
   "execution_count": 42,
   "metadata": {},
   "outputs": [
    {
     "data": {
      "text/plain": [
       "torch.Size([11333, 300])"
      ]
     },
     "execution_count": 42,
     "metadata": {},
     "output_type": "execute_result"
    }
   ],
   "source": [
    "numpy_embeddings = np.zeros(shape=[VOCAB_SIZE, EMBEDDING_DIM],dtype=np.float32)\n",
    "\n",
    "for word in vocabulary:\n",
    "    #if word in w2v_model:\n",
    "    vector = w2v_model.get_vector(word)\n",
    "    index  = converter.words_to_index([word])\n",
    "    numpy_embeddings[index] = vector\n",
    "        \n",
    "    #else: print(word + ' - такого слова нет в модели fasttext')\n",
    "        \n",
    "pretrained_embeddings = torch.FloatTensor(numpy_embeddings)\n",
    "pretrained_embeddings.shape"
   ]
  },
  {
   "cell_type": "markdown",
   "metadata": {},
   "source": [
    "### LSTM \n",
    "\n",
    "1. Использует предобученные вектора слов и не изменяет их\n",
    "2. Двунаправленная"
   ]
  },
  {
   "cell_type": "code",
   "execution_count": 43,
   "metadata": {},
   "outputs": [],
   "source": [
    "class LSTMTagger(nn.Module):\n",
    "\n",
    "    def __init__(self, embedding_dim, hidden_dim, vocab_size, tagset_size, pretrained_embeddings):\n",
    "        super(LSTMTagger, self).__init__()\n",
    "        \n",
    "        self.hidden_dim      = hidden_dim\n",
    "        self.word_embeddings = nn.Embedding.from_pretrained(pretrained_embeddings, freeze=True)\n",
    "        self.lstm            = nn.LSTM(embedding_dim, hidden_dim, bidirectional=True)\n",
    "        self.hidden2tag      = nn.Linear(2*hidden_dim, tagset_size)\n",
    "\n",
    "    def forward(self, words):\n",
    "        embeds      = self.word_embeddings(words)\n",
    "        lstm_out, _ = self.lstm(embeds.view(len(words), 1, -1))\n",
    "        tag_space   = self.hidden2tag(lstm_out.view(len(words), -1))\n",
    "        tag_scores  = F.log_softmax(tag_space, dim=1)\n",
    "        \n",
    "        return tag_scores\n",
    "    \n",
    "    def predict_tags(self, words):\n",
    "        with torch.no_grad():\n",
    "            tags_pred = model(words).numpy()\n",
    "            tags_pred = np.argmax(tags_pred, axis=1)\n",
    "            \n",
    "        return tags_pred"
   ]
  },
  {
   "cell_type": "markdown",
   "metadata": {},
   "source": [
    "### Взвешеная функция потерь"
   ]
  },
  {
   "cell_type": "code",
   "execution_count": 44,
   "metadata": {},
   "outputs": [
    {
     "data": {
      "text/plain": [
       "[('Other', 23529),\n",
       " ('B-Driveability', 1188),\n",
       " ('B-Comfort', 1092),\n",
       " ('I-Driveability', 773),\n",
       " ('B-Reliability', 769),\n",
       " ('B-Whole', 768),\n",
       " ('I-Comfort', 480),\n",
       " ('I-Reliability', 457),\n",
       " ('B-Costs', 392),\n",
       " ('B-Appearance', 354),\n",
       " ('I-Whole', 310),\n",
       " ('I-Costs', 177),\n",
       " ('I-Appearance', 146),\n",
       " ('B-Safety', 87),\n",
       " ('I-Safety', 63)]"
      ]
     },
     "execution_count": 44,
     "metadata": {},
     "output_type": "execute_result"
    }
   ],
   "source": [
    "from collections import Counter\n",
    "\n",
    "tag_counter = Counter()\n",
    "for _,tokens in training_data:\n",
    "    for token in tokens:\n",
    "        tag_counter[token]+=1\n",
    "        \n",
    "tag_counter.most_common()     "
   ]
  },
  {
   "cell_type": "code",
   "execution_count": 45,
   "metadata": {},
   "outputs": [
    {
     "name": "stdout",
     "output_type": "stream",
     "text": [
      "tensor([ 66.7812,  21.6488,  60.3075,  19.8994,  30.7419, 271.7303,  30.7819,\n",
      "        161.9215,  49.2511, 133.5623,  30.5828,  51.7298, 375.2466,  76.2598,\n",
      "          1.0047])\n"
     ]
    }
   ],
   "source": [
    "class_weights = torch.ones(15)\n",
    "class_divs    = torch.ones(15)\n",
    "\n",
    "for tag, inv_weight in tag_counter.most_common():\n",
    "    tag_idx             = converter.tags_to_index([tag])\n",
    "    class_divs[tag_idx] = inv_weight\n",
    "    \n",
    "norm       = torch.norm(class_divs, p=2, dim=0).detach()\n",
    "class_divs = class_divs.div(norm.expand_as(class_divs))\n",
    "\n",
    "\n",
    "class_weights /= class_divs\n",
    "\n",
    "\n",
    "print(class_weights.detach())"
   ]
  },
  {
   "cell_type": "code",
   "execution_count": 46,
   "metadata": {},
   "outputs": [],
   "source": [
    "model         = LSTMTagger(EMBEDDING_DIM, HIDDEN_DIM, VOCAB_SIZE, TAGSET_SIZE, pretrained_embeddings)\n",
    "loss_function = nn.NLLLoss(class_weights) \n",
    "optimizer     = optim.SGD(model.parameters(), lr=0.1)"
   ]
  },
  {
   "cell_type": "markdown",
   "metadata": {},
   "source": [
    "#### training"
   ]
  },
  {
   "cell_type": "code",
   "execution_count": 47,
   "metadata": {},
   "outputs": [
    {
     "data": {
      "image/png": "[encoded data removed]",
      "text/plain": [
       "<Figure size 864x576 with 1 Axes>"
      ]
     },
     "metadata": {
      "needs_background": "light"
     },
     "output_type": "display_data"
    },
    {
     "name": "stdout",
     "output_type": "stream",
     "text": [
      "negative log likelihood loss\n",
      "\tnegative log likelihood loss \t (min:    0.006, max:    4.248, cur:    0.412)\n"
     ]
    }
   ],
   "source": [
    "from livelossplot import PlotLosses\n",
    "\n",
    "liveplot = PlotLosses()\n",
    "\n",
    "for epoch in range(5): \n",
    "    for i, (recipe, tags) in enumerate(training_data):\n",
    "        \n",
    "        model.zero_grad()\n",
    "        \n",
    "        encoded_recipe = converter.words_to_index(recipe) # слово -> его номер в словаре \n",
    "        encoded_tags   = converter.tags_to_index(tags)    # тэг   -> его номер в списке тэгов\n",
    "        tag_scores     = model(encoded_recipe)\n",
    "        \n",
    "        loss = loss_function(tag_scores, encoded_tags)\n",
    "        loss.backward()\n",
    "        optimizer.step()\n",
    "        \n",
    "        \n",
    "        if i % 100 == 0:\n",
    "            liveplot.update({'negative log likelihood loss': loss})\n",
    "            liveplot.draw()\n",
    "            "
   ]
  },
  {
   "cell_type": "code",
   "execution_count": 48,
   "metadata": {},
   "outputs": [],
   "source": [
    "def predict_tags(model, converter, recipe):\n",
    "    \n",
    "    encoded_recipe = converter.words_to_index(recipe)        # слово -> его номер в словаре\n",
    "\n",
    "    encoded_tags   = model.predict_tags(encoded_recipe)      # предсказанные тэги (номера)\n",
    "\n",
    "    decoded_tags   = converter.indices_to_tags(encoded_tags) # номер тэга -> тэг\n",
    "    \n",
    "    return decoded_tags"
   ]
  },
  {
   "cell_type": "code",
   "execution_count": 49,
   "metadata": {},
   "outputs": [
    {
     "name": "stdout",
     "output_type": "stream",
     "text": [
      "истинные тэги:\n"
     ]
    },
    {
     "data": {
      "text/html": [
       "<div class=\"tex2jax_ignore\" style=\"white-space: pre-wrap\"><span style=\"padding: 2px; border-radius: 4px; border: 1px solid #d7ccc8; background: #efebe9\">Зимой приходиться<span style=\"vertical-align: middle; margin-left: 2px; font-size: 0.7em; color: #a1887f;\">Other</span></span> <span style=\"padding: 2px; border-radius: 4px; border: 1px solid #bbdefb; background: #e3f2fd\">долго прогревать<span style=\"vertical-align: middle; margin-left: 2px; font-size: 0.7em; color: #64b5f6;\">Driveability</span></span></div>"
      ],
      "text/plain": [
       "BoxMarkup('Зимой приходиться долго прогревать',\n",
       "          [Span(0, 17, 'Other'), Span(18, 34, 'Driveability')])"
      ]
     },
     "metadata": {},
     "output_type": "display_data"
    },
    {
     "name": "stdout",
     "output_type": "stream",
     "text": [
      "предсказанные тэги:\n"
     ]
    },
    {
     "data": {
      "text/html": [
       "<div class=\"tex2jax_ignore\" style=\"white-space: pre-wrap\"><span style=\"padding: 2px; border-radius: 4px; border: 1px solid #d7ccc8; background: #efebe9\">Зимой<span style=\"vertical-align: middle; margin-left: 2px; font-size: 0.7em; color: #a1887f;\">Other</span></span> <span style=\"padding: 2px; border-radius: 4px; border: 1px solid #c8e6c9; background: #e8f5e9\">приходиться долго<span style=\"vertical-align: middle; margin-left: 2px; font-size: 0.7em; color: #66bb6a;\">Reliability</span></span> <span style=\"padding: 2px; border-radius: 4px; border: 1px solid #d7ccc8; background: #efebe9\">прогревать<span style=\"vertical-align: middle; margin-left: 2px; font-size: 0.7em; color: #a1887f;\">Other</span></span></div>"
      ],
      "text/plain": [
       "BoxMarkup('Зимой приходиться долго прогревать',\n",
       "          [Span(0, 5, 'Other'),\n",
       "           Span(6, 23, 'Reliability'),\n",
       "           Span(24, 34, 'Other')])"
      ]
     },
     "metadata": {},
     "output_type": "display_data"
    },
    {
     "name": "stdout",
     "output_type": "stream",
     "text": [
      "\n",
      "истинные тэги:\n"
     ]
    },
    {
     "data": {
      "text/html": [
       "<div class=\"tex2jax_ignore\" style=\"white-space: pre-wrap\"><span style=\"padding: 2px; border-radius: 4px; border: 1px solid #d7ccc8; background: #efebe9\">На солнце слепит .<span style=\"vertical-align: middle; margin-left: 2px; font-size: 0.7em; color: #a1887f;\">Other</span></span></div>"
      ],
      "text/plain": [
       "BoxMarkup('На солнце слепит .', [Span(0, 18, 'Other')])"
      ]
     },
     "metadata": {},
     "output_type": "display_data"
    },
    {
     "name": "stdout",
     "output_type": "stream",
     "text": [
      "предсказанные тэги:\n"
     ]
    },
    {
     "data": {
      "text/html": [
       "<div class=\"tex2jax_ignore\" style=\"white-space: pre-wrap\"><span style=\"padding: 2px; border-radius: 4px; border: 1px solid #d7ccc8; background: #efebe9\">На солнце<span style=\"vertical-align: middle; margin-left: 2px; font-size: 0.7em; color: #a1887f;\">Other</span></span> <span style=\"padding: 2px; border-radius: 4px; border: 1px solid #bbdefb; background: #e3f2fd\">слепит<span style=\"vertical-align: middle; margin-left: 2px; font-size: 0.7em; color: #64b5f6;\">Appearance</span></span> <span style=\"padding: 2px; border-radius: 4px; border: 1px solid #d7ccc8; background: #efebe9\">.<span style=\"vertical-align: middle; margin-left: 2px; font-size: 0.7em; color: #a1887f;\">Other</span></span></div>"
      ],
      "text/plain": [
       "BoxMarkup('На солнце слепит .',\n",
       "          [Span(0, 9, 'Other'),\n",
       "           Span(10, 16, 'Appearance'),\n",
       "           Span(17, 18, 'Other')])"
      ]
     },
     "metadata": {},
     "output_type": "display_data"
    },
    {
     "name": "stdout",
     "output_type": "stream",
     "text": [
      "\n",
      "истинные тэги:\n"
     ]
    },
    {
     "data": {
      "text/html": [
       "<div class=\"tex2jax_ignore\" style=\"white-space: pre-wrap\"><span style=\"padding: 2px; border-radius: 4px; border: 1px solid #d7ccc8; background: #efebe9\">Объем 1600 куб .<span style=\"vertical-align: middle; margin-left: 2px; font-size: 0.7em; color: #a1887f;\">Other</span></span></div>"
      ],
      "text/plain": [
       "BoxMarkup('Объем 1600 куб .', [Span(0, 16, 'Other')])"
      ]
     },
     "metadata": {},
     "output_type": "display_data"
    },
    {
     "name": "stdout",
     "output_type": "stream",
     "text": [
      "предсказанные тэги:\n"
     ]
    },
    {
     "data": {
      "text/html": [
       "<div class=\"tex2jax_ignore\" style=\"white-space: pre-wrap\"><span style=\"padding: 2px; border-radius: 4px; border: 1px solid #bbdefb; background: #e3f2fd\">Объем<span style=\"vertical-align: middle; margin-left: 2px; font-size: 0.7em; color: #64b5f6;\">Driveability</span></span> <span style=\"padding: 2px; border-radius: 4px; border: 1px solid #d7ccc8; background: #efebe9\">1600 куб .<span style=\"vertical-align: middle; margin-left: 2px; font-size: 0.7em; color: #a1887f;\">Other</span></span></div>"
      ],
      "text/plain": [
       "BoxMarkup('Объем 1600 куб .',\n",
       "          [Span(0, 5, 'Driveability'), Span(6, 16, 'Other')])"
      ]
     },
     "metadata": {},
     "output_type": "display_data"
    },
    {
     "name": "stdout",
     "output_type": "stream",
     "text": [
      "\n",
      "истинные тэги:\n"
     ]
    },
    {
     "data": {
      "text/html": [
       "<div class=\"tex2jax_ignore\" style=\"white-space: pre-wrap\"><span style=\"padding: 2px; border-radius: 4px; border: 1px solid #ffe0b2; background: #fff3e0\">Салон просторный<span style=\"vertical-align: middle; margin-left: 2px; font-size: 0.7em; color: #ffb74d;\">Comfort</span></span> <span style=\"padding: 2px; border-radius: 4px; border: 1px solid #d7ccc8; background: #efebe9\">, но<span style=\"vertical-align: middle; margin-left: 2px; font-size: 0.7em; color: #a1887f;\">Other</span></span> <span style=\"padding: 2px; border-radius: 4px; border: 1px solid #ffe0b2; background: #fff3e0\">не для габоритных людей<span style=\"vertical-align: middle; margin-left: 2px; font-size: 0.7em; color: #ffb74d;\">Comfort</span></span> <span style=\"padding: 2px; border-radius: 4px; border: 1px solid #d7ccc8; background: #efebe9\">,<span style=\"vertical-align: middle; margin-left: 2px; font-size: 0.7em; color: #a1887f;\">Other</span></span> <span style=\"padding: 2px; border-radius: 4px; border: 1px solid #bbdefb; background: #e3f2fd\">форма автомобиля<span style=\"vertical-align: middle; margin-left: 2px; font-size: 0.7em; color: #64b5f6;\">Appearance</span></span> <span style=\"padding: 2px; border-radius: 4px; border: 1px solid #d7ccc8; background: #efebe9\">спортивная и<span style=\"vertical-align: middle; margin-left: 2px; font-size: 0.7em; color: #a1887f;\">Other</span></span> <span style=\"padding: 2px; border-radius: 4px; border: 1px solid #bbdefb; background: #e3f2fd\">смотрится<span style=\"vertical-align: middle; margin-left: 2px; font-size: 0.7em; color: #64b5f6;\">Appearance</span></span> <span style=\"padding: 2px; border-radius: 4px; border: 1px solid #d7ccc8; background: #efebe9\">не плохо .<span style=\"vertical-align: middle; margin-left: 2px; font-size: 0.7em; color: #a1887f;\">Other</span></span></div>"
      ],
      "text/plain": [
       "BoxMarkup('Салон просторный , но не для габоритных людей , форма автомобиля спортивная и смотрится не плохо .',\n",
       "          [Span(0, 16, 'Comfort'),\n",
       "           Span(17, 21, 'Other'),\n",
       "           Span(22, 45, 'Comfort'),\n",
       "           Span(46, 47, 'Other'),\n",
       "           Span(48, 64, 'Appearance'),\n",
       "           Span(65, 77, 'Other'),\n",
       "           Span(78, 87, 'Appearance'),\n",
       "           Span(88, 98, 'Other')])"
      ]
     },
     "metadata": {},
     "output_type": "display_data"
    },
    {
     "name": "stdout",
     "output_type": "stream",
     "text": [
      "предсказанные тэги:\n"
     ]
    },
    {
     "data": {
      "text/html": [
       "<div class=\"tex2jax_ignore\" style=\"white-space: pre-wrap\"><span style=\"padding: 2px; border-radius: 4px; border: 1px solid #ffe0b2; background: #fff3e0\">Салон просторный<span style=\"vertical-align: middle; margin-left: 2px; font-size: 0.7em; color: #ffb74d;\">Comfort</span></span> <span style=\"padding: 2px; border-radius: 4px; border: 1px solid #d7ccc8; background: #efebe9\">, но не для габоритных людей ,<span style=\"vertical-align: middle; margin-left: 2px; font-size: 0.7em; color: #a1887f;\">Other</span></span> <span style=\"padding: 2px; border-radius: 4px; border: 1px solid #ffcdd2; background: #ffebee\">форма автомобиля<span style=\"vertical-align: middle; margin-left: 2px; font-size: 0.7em; color: #e57373;\">Whole</span></span> <span style=\"padding: 2px; border-radius: 4px; border: 1px solid #d7ccc8; background: #efebe9\">спортивная и<span style=\"vertical-align: middle; margin-left: 2px; font-size: 0.7em; color: #a1887f;\">Other</span></span> <span style=\"padding: 2px; border-radius: 4px; border: 1px solid #bbdefb; background: #e3f2fd\">смотрится<span style=\"vertical-align: middle; margin-left: 2px; font-size: 0.7em; color: #64b5f6;\">Appearance</span></span> <span style=\"padding: 2px; border-radius: 4px; border: 1px solid #d7ccc8; background: #efebe9\">не плохо .<span style=\"vertical-align: middle; margin-left: 2px; font-size: 0.7em; color: #a1887f;\">Other</span></span></div>"
      ],
      "text/plain": [
       "BoxMarkup('Салон просторный , но не для габоритных людей , форма автомобиля спортивная и смотрится не плохо .',\n",
       "          [Span(0, 16, 'Comfort'),\n",
       "           Span(17, 47, 'Other'),\n",
       "           Span(48, 64, 'Whole'),\n",
       "           Span(65, 77, 'Other'),\n",
       "           Span(78, 87, 'Appearance'),\n",
       "           Span(88, 98, 'Other')])"
      ]
     },
     "metadata": {},
     "output_type": "display_data"
    },
    {
     "name": "stdout",
     "output_type": "stream",
     "text": [
      "\n",
      "истинные тэги:\n"
     ]
    },
    {
     "data": {
      "text/html": [
       "<div class=\"tex2jax_ignore\" style=\"white-space: pre-wrap\"><span style=\"padding: 2px; border-radius: 4px; border: 1px solid #d7ccc8; background: #efebe9\">Применять другое<span style=\"vertical-align: middle; margin-left: 2px; font-size: 0.7em; color: #a1887f;\">Other</span></span> <span style=\"padding: 2px; border-radius: 4px; border: 1px solid #bbdefb; background: #e3f2fd\">масло<span style=\"vertical-align: middle; margin-left: 2px; font-size: 0.7em; color: #64b5f6;\">Driveability</span></span> <span style=\"padding: 2px; border-radius: 4px; border: 1px solid #d7ccc8; background: #efebe9\">не рекомендуется , это может сократить<span style=\"vertical-align: middle; margin-left: 2px; font-size: 0.7em; color: #a1887f;\">Other</span></span> <span style=\"padding: 2px; border-radius: 4px; border: 1px solid #c8e6c9; background: #e8f5e9\">срок службы двигателя<span style=\"vertical-align: middle; margin-left: 2px; font-size: 0.7em; color: #66bb6a;\">Reliability</span></span></div>"
      ],
      "text/plain": [
       "BoxMarkup('Применять другое масло не рекомендуется , это может сократить срок службы двигателя',\n",
       "          [Span(0, 16, 'Other'),\n",
       "           Span(17, 22, 'Driveability'),\n",
       "           Span(23, 61, 'Other'),\n",
       "           Span(62, 83, 'Reliability')])"
      ]
     },
     "metadata": {},
     "output_type": "display_data"
    },
    {
     "name": "stdout",
     "output_type": "stream",
     "text": [
      "предсказанные тэги:\n"
     ]
    },
    {
     "data": {
      "text/html": [
       "<div class=\"tex2jax_ignore\" style=\"white-space: pre-wrap\"><span style=\"padding: 2px; border-radius: 4px; border: 1px solid #d7ccc8; background: #efebe9\">Применять другое<span style=\"vertical-align: middle; margin-left: 2px; font-size: 0.7em; color: #a1887f;\">Other</span></span> <span style=\"padding: 2px; border-radius: 4px; border: 1px solid #c8e6c9; background: #e8f5e9\">масло<span style=\"vertical-align: middle; margin-left: 2px; font-size: 0.7em; color: #66bb6a;\">Reliability</span></span> <span style=\"padding: 2px; border-radius: 4px; border: 1px solid #d7ccc8; background: #efebe9\">не рекомендуется , это может сократить срок службы<span style=\"vertical-align: middle; margin-left: 2px; font-size: 0.7em; color: #a1887f;\">Other</span></span> <span style=\"padding: 2px; border-radius: 4px; border: 1px solid #bbdefb; background: #e3f2fd\">двигателя<span style=\"vertical-align: middle; margin-left: 2px; font-size: 0.7em; color: #64b5f6;\">Driveability</span></span></div>"
      ],
      "text/plain": [
       "BoxMarkup('Применять другое масло не рекомендуется , это может сократить срок службы двигателя',\n",
       "          [Span(0, 16, 'Other'),\n",
       "           Span(17, 22, 'Reliability'),\n",
       "           Span(23, 73, 'Other'),\n",
       "           Span(74, 83, 'Driveability')])"
      ]
     },
     "metadata": {},
     "output_type": "display_data"
    },
    {
     "name": "stdout",
     "output_type": "stream",
     "text": [
      "\n",
      "истинные тэги:\n"
     ]
    },
    {
     "data": {
      "text/html": [
       "<div class=\"tex2jax_ignore\" style=\"white-space: pre-wrap\"><span style=\"padding: 2px; border-radius: 4px; border: 1px solid #d7ccc8; background: #efebe9\">На днях коллега купил такое \"чудо\", да , за 400 тысяч такое предложат только китайцы ,<span style=\"vertical-align: middle; margin-left: 2px; font-size: 0.7em; color: #a1887f;\">Other</span></span> <span style=\"padding: 2px; border-radius: 4px; border: 1px solid #ffe0b2; background: #fff3e0\">климат -контроль<span style=\"vertical-align: middle; margin-left: 2px; font-size: 0.7em; color: #ffb74d;\">Comfort</span></span> <span style=\"padding: 2px; border-radius: 4px; border: 1px solid #d7ccc8; background: #efebe9\">,<span style=\"vertical-align: middle; margin-left: 2px; font-size: 0.7em; color: #a1887f;\">Other</span></span> <span style=\"padding: 2px; border-radius: 4px; border: 1px solid #bbdefb; background: #e3f2fd\">гидроусилитель руля<span style=\"vertical-align: middle; margin-left: 2px; font-size: 0.7em; color: #64b5f6;\">Driveability</span></span> <span style=\"padding: 2px; border-radius: 4px; border: 1px solid #d7ccc8; background: #efebe9\">, огромная<span style=\"vertical-align: middle; margin-left: 2px; font-size: 0.7em; color: #a1887f;\">Other</span></span> <span style=\"padding: 2px; border-radius: 4px; border: 1px solid #ffe0b2; background: #fff3e0\">жидкокристаллическая панель<span style=\"vertical-align: middle; margin-left: 2px; font-size: 0.7em; color: #ffb74d;\">Comfort</span></span> <span style=\"padding: 2px; border-radius: 4px; border: 1px solid #d7ccc8; background: #efebe9\">в центре ,<span style=\"vertical-align: middle; margin-left: 2px; font-size: 0.7em; color: #a1887f;\">Other</span></span> <span style=\"padding: 2px; border-radius: 4px; border: 1px solid #ffe0b2; background: #fff3e0\">аудиосистема<span style=\"vertical-align: middle; margin-left: 2px; font-size: 0.7em; color: #ffb74d;\">Comfort</span></span> <span style=\"padding: 2px; border-radius: 4px; border: 1px solid #d7ccc8; background: #efebe9\">из шести динамиков ,<span style=\"vertical-align: middle; margin-left: 2px; font-size: 0.7em; color: #a1887f;\">Other</span></span> <span style=\"padding: 2px; border-radius: 4px; border: 1px solid #ffe0b2; background: #fff3e0\">салон<span style=\"vertical-align: middle; margin-left: 2px; font-size: 0.7em; color: #ffb74d;\">Comfort</span></span> <span style=\"padding: 2px; border-radius: 4px; border: 1px solid #d7ccc8; background: #efebe9\">из<span style=\"vertical-align: middle; margin-left: 2px; font-size: 0.7em; color: #a1887f;\">Other</span></span> <span style=\"padding: 2px; border-radius: 4px; border: 1px solid #ffe0b2; background: #fff3e0\">перфорированной кожи<span style=\"vertical-align: middle; margin-left: 2px; font-size: 0.7em; color: #ffb74d;\">Comfort</span></span> <span style=\"padding: 2px; border-radius: 4px; border: 1px solid #d7ccc8; background: #efebe9\">,<span style=\"vertical-align: middle; margin-left: 2px; font-size: 0.7em; color: #a1887f;\">Other</span></span> <span style=\"padding: 2px; border-radius: 4px; border: 1px solid #ffe0b2; background: #fff3e0\">люк на крыше<span style=\"vertical-align: middle; margin-left: 2px; font-size: 0.7em; color: #ffb74d;\">Comfort</span></span></div>"
      ],
      "text/plain": [
       "BoxMarkup('На днях коллега купил такое \"чудо\", да , за 400 тысяч такое предложат только китайцы , климат -контроль , гидроусилитель руля , огромная жидкокристаллическая панель в центре , аудиосистема из шести динамиков , салон из перфорированной кожи , люк на крыше',\n",
       "          [Span(0, 86, 'Other'),\n",
       "           Span(87, 103, 'Comfort'),\n",
       "           Span(104, 105, 'Other'),\n",
       "           Span(106, 125, 'Driveability'),\n",
       "           Span(126, 136, 'Other'),\n",
       "           Span(137, 164, 'Comfort'),\n",
       "           Span(165, 175, 'Other'),\n",
       "           Span(176, 188, 'Comfort'),\n",
       "           Span(189, 209, 'Other'),\n",
       "           Span(210, 215, 'Comfort'),\n",
       "           Span(216, 218, 'Other'),\n",
       "           Span(219, 239, 'Comfort'),\n",
       "           Span(240, 241, 'Other'),\n",
       "           Span(242, 254, 'Comfort')])"
      ]
     },
     "metadata": {},
     "output_type": "display_data"
    },
    {
     "name": "stdout",
     "output_type": "stream",
     "text": [
      "предсказанные тэги:\n"
     ]
    },
    {
     "data": {
      "text/html": [
       "<div class=\"tex2jax_ignore\" style=\"white-space: pre-wrap\"><span style=\"padding: 2px; border-radius: 4px; border: 1px solid #d7ccc8; background: #efebe9\">На днях коллега купил такое \"чудо\", да , за 400 тысяч такое предложат только китайцы ,<span style=\"vertical-align: middle; margin-left: 2px; font-size: 0.7em; color: #a1887f;\">Other</span></span> <span style=\"padding: 2px; border-radius: 4px; border: 1px solid #ffe0b2; background: #fff3e0\">климат -контроль ,<span style=\"vertical-align: middle; margin-left: 2px; font-size: 0.7em; color: #ffb74d;\">Comfort</span></span> <span style=\"padding: 2px; border-radius: 4px; border: 1px solid #bbdefb; background: #e3f2fd\">гидроусилитель руля , огромная<span style=\"vertical-align: middle; margin-left: 2px; font-size: 0.7em; color: #64b5f6;\">Driveability</span></span> <span style=\"padding: 2px; border-radius: 4px; border: 1px solid #c8e6c9; background: #e8f5e9\">жидкокристаллическая<span style=\"vertical-align: middle; margin-left: 2px; font-size: 0.7em; color: #66bb6a;\">Reliability</span></span> <span style=\"padding: 2px; border-radius: 4px; border: 1px solid #ffe0b2; background: #fff3e0\">панель<span style=\"vertical-align: middle; margin-left: 2px; font-size: 0.7em; color: #ffb74d;\">Comfort</span></span> <span style=\"padding: 2px; border-radius: 4px; border: 1px solid #c8e6c9; background: #e8f5e9\">в<span style=\"vertical-align: middle; margin-left: 2px; font-size: 0.7em; color: #66bb6a;\">Reliability</span></span> <span style=\"padding: 2px; border-radius: 4px; border: 1px solid #bbdefb; background: #e3f2fd\">центре<span style=\"vertical-align: middle; margin-left: 2px; font-size: 0.7em; color: #64b5f6;\">Driveability</span></span> <span style=\"padding: 2px; border-radius: 4px; border: 1px solid #c8e6c9; background: #e8f5e9\">, аудиосистема<span style=\"vertical-align: middle; margin-left: 2px; font-size: 0.7em; color: #66bb6a;\">Reliability</span></span> <span style=\"padding: 2px; border-radius: 4px; border: 1px solid #ffe0b2; background: #fff3e0\">из шести<span style=\"vertical-align: middle; margin-left: 2px; font-size: 0.7em; color: #ffb74d;\">Comfort</span></span> <span style=\"padding: 2px; border-radius: 4px; border: 1px solid #c8e6c9; background: #e8f5e9\">динамиков<span style=\"vertical-align: middle; margin-left: 2px; font-size: 0.7em; color: #66bb6a;\">Reliability</span></span> <span style=\"padding: 2px; border-radius: 4px; border: 1px solid #ffe0b2; background: #fff3e0\">, салон из перфорированной кожи , люк на крыше<span style=\"vertical-align: middle; margin-left: 2px; font-size: 0.7em; color: #ffb74d;\">Comfort</span></span></div>"
      ],
      "text/plain": [
       "BoxMarkup('На днях коллега купил такое \"чудо\", да , за 400 тысяч такое предложат только китайцы , климат -контроль , гидроусилитель руля , огромная жидкокристаллическая панель в центре , аудиосистема из шести динамиков , салон из перфорированной кожи , люк на крыше',\n",
       "          [Span(0, 86, 'Other'),\n",
       "           Span(87, 105, 'Comfort'),\n",
       "           Span(106, 136, 'Driveability'),\n",
       "           Span(137, 157, 'Reliability'),\n",
       "           Span(158, 164, 'Comfort'),\n",
       "           Span(165, 166, 'Reliability'),\n",
       "           Span(167, 173, 'Driveability'),\n",
       "           Span(174, 188, 'Reliability'),\n",
       "           Span(189, 197, 'Comfort'),\n",
       "           Span(198, 207, 'Reliability'),\n",
       "           Span(208, 254, 'Comfort')])"
      ]
     },
     "metadata": {},
     "output_type": "display_data"
    },
    {
     "name": "stdout",
     "output_type": "stream",
     "text": [
      "\n",
      "истинные тэги:\n"
     ]
    },
    {
     "data": {
      "text/html": [
       "<div class=\"tex2jax_ignore\" style=\"white-space: pre-wrap\"><span style=\"padding: 2px; border-radius: 4px; border: 1px solid #d7ccc8; background: #efebe9\">Ну и самый главный плюс это доступная<span style=\"vertical-align: middle; margin-left: 2px; font-size: 0.7em; color: #a1887f;\">Other</span></span> <span style=\"padding: 2px; border-radius: 4px; border: 1px solid #ffcdd2; background: #ffebee\">цена<span style=\"vertical-align: middle; margin-left: 2px; font-size: 0.7em; color: #e57373;\">Costs</span></span> <span style=\"padding: 2px; border-radius: 4px; border: 1px solid #d7ccc8; background: #efebe9\">буквально за четыресто пятдесять тысяч вы получаете<span style=\"vertical-align: middle; margin-left: 2px; font-size: 0.7em; color: #a1887f;\">Other</span></span> <span style=\"padding: 2px; border-radius: 4px; border: 1px solid #ffcdd2; background: #ffebee\">авто в полной комплектации<span style=\"vertical-align: middle; margin-left: 2px; font-size: 0.7em; color: #e57373;\">Costs</span></span></div>"
      ],
      "text/plain": [
       "BoxMarkup('Ну и самый главный плюс это доступная цена буквально за четыресто пятдесять тысяч вы получаете авто в полной комплектации',\n",
       "          [Span(0, 37, 'Other'),\n",
       "           Span(38, 42, 'Costs'),\n",
       "           Span(43, 94, 'Other'),\n",
       "           Span(95, 121, 'Costs')])"
      ]
     },
     "metadata": {},
     "output_type": "display_data"
    },
    {
     "name": "stdout",
     "output_type": "stream",
     "text": [
      "предсказанные тэги:\n"
     ]
    },
    {
     "data": {
      "text/html": [
       "<div class=\"tex2jax_ignore\" style=\"white-space: pre-wrap\"><span style=\"padding: 2px; border-radius: 4px; border: 1px solid #d7ccc8; background: #efebe9\">Ну и самый главный плюс это<span style=\"vertical-align: middle; margin-left: 2px; font-size: 0.7em; color: #a1887f;\">Other</span></span> <span style=\"padding: 2px; border-radius: 4px; border: 1px solid #ffcdd2; background: #ffebee\">доступная цена<span style=\"vertical-align: middle; margin-left: 2px; font-size: 0.7em; color: #e57373;\">Costs</span></span> <span style=\"padding: 2px; border-radius: 4px; border: 1px solid #d7ccc8; background: #efebe9\">буквально за четыресто пятдесять тысяч вы получаете<span style=\"vertical-align: middle; margin-left: 2px; font-size: 0.7em; color: #a1887f;\">Other</span></span> <span style=\"padding: 2px; border-radius: 4px; border: 1px solid #ffcdd2; background: #ffebee\">авто<span style=\"vertical-align: middle; margin-left: 2px; font-size: 0.7em; color: #e57373;\">Whole</span></span> <span style=\"padding: 2px; border-radius: 4px; border: 1px solid #d7ccc8; background: #efebe9\">в<span style=\"vertical-align: middle; margin-left: 2px; font-size: 0.7em; color: #a1887f;\">Other</span></span> <span style=\"padding: 2px; border-radius: 4px; border: 1px solid #ffcdd2; background: #ffebee\">полной<span style=\"vertical-align: middle; margin-left: 2px; font-size: 0.7em; color: #e57373;\">Whole</span></span> <span style=\"padding: 2px; border-radius: 4px; border: 1px solid #ffe0b2; background: #fff3e0\">комплектации<span style=\"vertical-align: middle; margin-left: 2px; font-size: 0.7em; color: #ffb74d;\">Comfort</span></span></div>"
      ],
      "text/plain": [
       "BoxMarkup('Ну и самый главный плюс это доступная цена буквально за четыресто пятдесять тысяч вы получаете авто в полной комплектации',\n",
       "          [Span(0, 27, 'Other'),\n",
       "           Span(28, 42, 'Costs'),\n",
       "           Span(43, 94, 'Other'),\n",
       "           Span(95, 99, 'Whole'),\n",
       "           Span(100, 101, 'Other'),\n",
       "           Span(102, 108, 'Whole'),\n",
       "           Span(109, 121, 'Comfort')])"
      ]
     },
     "metadata": {},
     "output_type": "display_data"
    },
    {
     "name": "stdout",
     "output_type": "stream",
     "text": [
      "\n",
      "истинные тэги:\n"
     ]
    },
    {
     "data": {
      "text/html": [
       "<div class=\"tex2jax_ignore\" style=\"white-space: pre-wrap\"><span style=\"padding: 2px; border-radius: 4px; border: 1px solid #d7ccc8; background: #efebe9\">Думаю это весьма<span style=\"vertical-align: middle; margin-left: 2px; font-size: 0.7em; color: #a1887f;\">Other</span></span> <span style=\"padding: 2px; border-radius: 4px; border: 1px solid #ffcdd2; background: #ffebee\">накладно<span style=\"vertical-align: middle; margin-left: 2px; font-size: 0.7em; color: #e57373;\">Costs</span></span></div>"
      ],
      "text/plain": [
       "BoxMarkup('Думаю это весьма накладно',\n",
       "          [Span(0, 16, 'Other'), Span(17, 25, 'Costs')])"
      ]
     },
     "metadata": {},
     "output_type": "display_data"
    },
    {
     "name": "stdout",
     "output_type": "stream",
     "text": [
      "предсказанные тэги:\n"
     ]
    },
    {
     "data": {
      "text/html": [
       "<div class=\"tex2jax_ignore\" style=\"white-space: pre-wrap\"><span style=\"padding: 2px; border-radius: 4px; border: 1px solid #d7ccc8; background: #efebe9\">Думаю это весьма накладно<span style=\"vertical-align: middle; margin-left: 2px; font-size: 0.7em; color: #a1887f;\">Other</span></span></div>"
      ],
      "text/plain": [
       "BoxMarkup('Думаю это весьма накладно', [Span(0, 25, 'Other')])"
      ]
     },
     "metadata": {},
     "output_type": "display_data"
    },
    {
     "name": "stdout",
     "output_type": "stream",
     "text": [
      "\n",
      "истинные тэги:\n"
     ]
    },
    {
     "data": {
      "text/html": [
       "<div class=\"tex2jax_ignore\" style=\"white-space: pre-wrap\"><span style=\"padding: 2px; border-radius: 4px; border: 1px solid #d7ccc8; background: #efebe9\">Во -первых, о<span style=\"vertical-align: middle; margin-left: 2px; font-size: 0.7em; color: #a1887f;\">Other</span></span> <span style=\"padding: 2px; border-radius: 4px; border: 1px solid #bbdefb; background: #e3f2fd\">\"проходимости\"<span style=\"vertical-align: middle; margin-left: 2px; font-size: 0.7em; color: #64b5f6;\">Driveability</span></span> <span style=\"padding: 2px; border-radius: 4px; border: 1px solid #d7ccc8; background: #efebe9\">этой модели придется развеять миф сразу .<span style=\"vertical-align: middle; margin-left: 2px; font-size: 0.7em; color: #a1887f;\">Other</span></span></div>"
      ],
      "text/plain": [
       "BoxMarkup('Во -первых, о \"проходимости\" этой модели придется развеять миф сразу .',\n",
       "          [Span(0, 13, 'Other'),\n",
       "           Span(14, 28, 'Driveability'),\n",
       "           Span(29, 70, 'Other')])"
      ]
     },
     "metadata": {},
     "output_type": "display_data"
    },
    {
     "name": "stdout",
     "output_type": "stream",
     "text": [
      "предсказанные тэги:\n"
     ]
    },
    {
     "data": {
      "text/html": [
       "<div class=\"tex2jax_ignore\" style=\"white-space: pre-wrap\"><span style=\"padding: 2px; border-radius: 4px; border: 1px solid #d7ccc8; background: #efebe9\">Во -первых, о<span style=\"vertical-align: middle; margin-left: 2px; font-size: 0.7em; color: #a1887f;\">Other</span></span> <span style=\"padding: 2px; border-radius: 4px; border: 1px solid #bbdefb; background: #e3f2fd\">\"проходимости\"<span style=\"vertical-align: middle; margin-left: 2px; font-size: 0.7em; color: #64b5f6;\">Driveability</span></span> <span style=\"padding: 2px; border-radius: 4px; border: 1px solid #d7ccc8; background: #efebe9\">этой<span style=\"vertical-align: middle; margin-left: 2px; font-size: 0.7em; color: #a1887f;\">Other</span></span> <span style=\"padding: 2px; border-radius: 4px; border: 1px solid #ffcdd2; background: #ffebee\">модели<span style=\"vertical-align: middle; margin-left: 2px; font-size: 0.7em; color: #e57373;\">Whole</span></span> <span style=\"padding: 2px; border-radius: 4px; border: 1px solid #d7ccc8; background: #efebe9\">придется развеять миф сразу .<span style=\"vertical-align: middle; margin-left: 2px; font-size: 0.7em; color: #a1887f;\">Other</span></span></div>"
      ],
      "text/plain": [
       "BoxMarkup('Во -первых, о \"проходимости\" этой модели придется развеять миф сразу .',\n",
       "          [Span(0, 13, 'Other'),\n",
       "           Span(14, 28, 'Driveability'),\n",
       "           Span(29, 33, 'Other'),\n",
       "           Span(34, 40, 'Whole'),\n",
       "           Span(41, 70, 'Other')])"
      ]
     },
     "metadata": {},
     "output_type": "display_data"
    },
    {
     "name": "stdout",
     "output_type": "stream",
     "text": [
      "\n",
      "истинные тэги:\n"
     ]
    },
    {
     "data": {
      "text/html": [
       "<div class=\"tex2jax_ignore\" style=\"white-space: pre-wrap\"><span style=\"padding: 2px; border-radius: 4px; border: 1px solid #d7ccc8; background: #efebe9\">Езжу год и<span style=\"vertical-align: middle; margin-left: 2px; font-size: 0.7em; color: #a1887f;\">Other</span></span> <span style=\"padding: 2px; border-radius: 4px; border: 1px solid #ffcdd2; background: #ffebee\">машина<span style=\"vertical-align: middle; margin-left: 2px; font-size: 0.7em; color: #e57373;\">Whole</span></span> <span style=\"padding: 2px; border-radius: 4px; border: 1px solid #d7ccc8; background: #efebe9\">очень нравится .<span style=\"vertical-align: middle; margin-left: 2px; font-size: 0.7em; color: #a1887f;\">Other</span></span></div>"
      ],
      "text/plain": [
       "BoxMarkup('Езжу год и машина очень нравится .',\n",
       "          [Span(0, 10, 'Other'), Span(11, 17, 'Whole'), Span(18, 34, 'Other')])"
      ]
     },
     "metadata": {},
     "output_type": "display_data"
    },
    {
     "name": "stdout",
     "output_type": "stream",
     "text": [
      "предсказанные тэги:\n"
     ]
    },
    {
     "data": {
      "text/html": [
       "<div class=\"tex2jax_ignore\" style=\"white-space: pre-wrap\"><span style=\"padding: 2px; border-radius: 4px; border: 1px solid #d7ccc8; background: #efebe9\">Езжу год и<span style=\"vertical-align: middle; margin-left: 2px; font-size: 0.7em; color: #a1887f;\">Other</span></span> <span style=\"padding: 2px; border-radius: 4px; border: 1px solid #ffcdd2; background: #ffebee\">машина<span style=\"vertical-align: middle; margin-left: 2px; font-size: 0.7em; color: #e57373;\">Whole</span></span> <span style=\"padding: 2px; border-radius: 4px; border: 1px solid #d7ccc8; background: #efebe9\">очень нравится .<span style=\"vertical-align: middle; margin-left: 2px; font-size: 0.7em; color: #a1887f;\">Other</span></span></div>"
      ],
      "text/plain": [
       "BoxMarkup('Езжу год и машина очень нравится .',\n",
       "          [Span(0, 10, 'Other'), Span(11, 17, 'Whole'), Span(18, 34, 'Other')])"
      ]
     },
     "metadata": {},
     "output_type": "display_data"
    },
    {
     "name": "stdout",
     "output_type": "stream",
     "text": [
      "\n"
     ]
    }
   ],
   "source": [
    "for i in range(0,10):\n",
    "\n",
    "    recipe, tags = test_data[np.random.randint(0,1000)]\n",
    "    \n",
    "    tags_pred    = predict_tags(model, converter, recipe)\n",
    "\n",
    "    print('истинные тэги:')\n",
    "    text, spans = generate_markup(recipe, tags) \n",
    "    show_markup(text, spans)\n",
    "\n",
    "    print('предсказанные тэги:')\n",
    "    text, spans = generate_markup(recipe, tags_pred) \n",
    "\n",
    "    show_markup(text, spans)\n",
    "    print()"
   ]
  },
  {
   "cell_type": "markdown",
   "metadata": {},
   "source": [
    "### Статистика"
   ]
  },
  {
   "cell_type": "markdown",
   "metadata": {},
   "source": [
    "##### 1.  Количество верно предсказанных тэгов:"
   ]
  },
  {
   "cell_type": "code",
   "execution_count": 50,
   "metadata": {},
   "outputs": [],
   "source": [
    "from dlnlputils.sentiment_utils import tag_statistics"
   ]
  },
  {
   "cell_type": "code",
   "execution_count": 51,
   "metadata": {},
   "outputs": [
    {
     "name": "stdout",
     "output_type": "stream",
     "text": [
      "Статистика верно предсказанных тэгов:\n",
      "\n",
      "для Other:\n",
      "  корректно:\t 16707\n",
      "      всего:\t 19922\n",
      "% корректно:\t 83.86206204196365\n",
      "\n",
      "для B-Whole:\n",
      "  корректно:\t 522\n",
      "      всего:\t 673\n",
      "% корректно:\t 77.56315007429421\n",
      "\n",
      "для B-Driveability:\n",
      "  корректно:\t 442\n",
      "      всего:\t 1066\n",
      "% корректно:\t 41.46341463414634\n",
      "\n",
      "для I-Driveability:\n",
      "  корректно:\t 292\n",
      "      всего:\t 711\n",
      "% корректно:\t 41.068917018284104\n",
      "\n",
      "для B-Appearance:\n",
      "  корректно:\t 163\n",
      "      всего:\t 275\n",
      "% корректно:\t 59.27272727272728\n",
      "\n",
      "для I-Appearance:\n",
      "  корректно:\t 31\n",
      "      всего:\t 100\n",
      "% корректно:\t 31.0\n",
      "\n",
      "для B-Reliability:\n",
      "  корректно:\t 329\n",
      "      всего:\t 809\n",
      "% корректно:\t 40.66749072929542\n",
      "\n",
      "для I-Whole:\n",
      "  корректно:\t 104\n",
      "      всего:\t 213\n",
      "% корректно:\t 48.82629107981221\n",
      "\n",
      "для B-Comfort:\n",
      "  корректно:\t 620\n",
      "      всего:\t 1067\n",
      "% корректно:\t 58.10684161199625\n",
      "\n",
      "для I-Comfort:\n",
      "  корректно:\t 181\n",
      "      всего:\t 497\n",
      "% корректно:\t 36.41851106639839\n",
      "\n",
      "для I-Reliability:\n",
      "  корректно:\t 133\n",
      "      всего:\t 475\n",
      "% корректно:\t 28.000000000000004\n",
      "\n",
      "для B-Costs:\n",
      "  корректно:\t 220\n",
      "      всего:\t 389\n",
      "% корректно:\t 56.555269922879184\n",
      "\n",
      "для I-Costs:\n",
      "  корректно:\t 24\n",
      "      всего:\t 127\n",
      "% корректно:\t 18.89763779527559\n",
      "\n",
      "для B-Safety:\n",
      "  корректно:\t 21\n",
      "      всего:\t 96\n",
      "% корректно:\t 21.875\n",
      "\n",
      "для I-Safety:\n",
      "  корректно:\t 10\n",
      "      всего:\t 71\n",
      "% корректно:\t 14.084507042253522\n",
      "\n",
      "----------\n",
      "в итоге:\n",
      "  корректно:\t 19799\n",
      "      всего:\t 26491\n",
      "% корректно:\t 74.73859046468611\n"
     ]
    }
   ],
   "source": [
    "total_correct, total_tags = tag_statistics(model, converter, test_data)\n",
    "\n",
    "\n",
    "print('Статистика верно предсказанных тэгов:\\n')\n",
    "\n",
    "for tag in total_tags.keys():\n",
    "    print('для {}:'.format(tag))\n",
    "    print('  корректно:\\t', total_correct[tag])\n",
    "    print('      всего:\\t',   total_tags[tag])\n",
    "    print('% корректно:\\t', 100 * (total_correct[tag] / float(total_tags[tag])))\n",
    "    print()\n",
    "\n",
    "print('----------')\n",
    "print('в итоге:')\n",
    "print('  корректно:\\t', sum(total_correct.values()))\n",
    "print('      всего:\\t', sum(total_tags.values()))\n",
    "print('% корректно:\\t', 100 * (sum(total_correct.values()) / sum(total_tags.values())))"
   ]
  },
  {
   "cell_type": "markdown",
   "metadata": {},
   "source": [
    "##### 2.  Количество верно предсказанных тэгов в виде матрицы ошибок:"
   ]
  },
  {
   "cell_type": "code",
   "execution_count": 52,
   "metadata": {},
   "outputs": [],
   "source": [
    "from dlnlputils.sentiment_utils import plot_confusion_matrix"
   ]
  },
  {
   "cell_type": "code",
   "execution_count": 53,
   "metadata": {},
   "outputs": [],
   "source": [
    "y_pred = []\n",
    "y_true = []\n",
    "\n",
    "for sentence, tags in test_data:\n",
    "    y_pred += predict_tags(model, converter, sentence)\n",
    "    y_true += tags"
   ]
  },
  {
   "cell_type": "code",
   "execution_count": 54,
   "metadata": {},
   "outputs": [
    {
     "data": {
      "image/png": "[encoded data removed]",
      "text/plain": [
       "<Figure size 720x720 with 2 Axes>"
      ]
     },
     "metadata": {
      "needs_background": "light"
     },
     "output_type": "display_data"
    }
   ],
   "source": [
    "plot_confusion_matrix(y_true, y_pred, classes=list(total_tags.keys()), title='Матрица ошибок')\n",
    "\n",
    "plt.show()"
   ]
  },
  {
   "cell_type": "code",
   "execution_count": 55,
   "metadata": {},
   "outputs": [
    {
     "data": {
      "image/png": "[encoded data removed]",
      "text/plain": [
       "<Figure size 720x720 with 2 Axes>"
      ]
     },
     "metadata": {
      "needs_background": "light"
     },
     "output_type": "display_data"
    }
   ],
   "source": [
    "plot_confusion_matrix(y_true, y_pred, classes=list(total_tags.keys()), normalize=True, \n",
    "                      title='Нормализованная матрица ошибок')\n",
    "\n",
    "plt.show()"
   ]
  },
  {
   "cell_type": "code",
   "execution_count": null,
   "metadata": {},
   "outputs": [],
   "source": []
  }
 ],
 "metadata": {
  "kernelspec": {
   "display_name": "Python 3",
   "language": "python",
   "name": "python3"
  },
  "language_info": {
   "codemirror_mode": {
    "name": "ipython",
    "version": 3
   },
   "file_extension": ".py",
   "mimetype": "text/x-python",
   "name": "python",
   "nbconvert_exporter": "python",
   "pygments_lexer": "ipython3",
   "version": "3.7.4"
  }
 },
 "nbformat": 4,
 "nbformat_minor": 4
}
