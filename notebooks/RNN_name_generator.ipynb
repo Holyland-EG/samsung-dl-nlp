{
 "cells": [
  {
   "cell_type": "markdown",
   "metadata": {},
   "source": [
    "# Генерация текста с помощью RNN\n"
   ]
  },
  {
   "cell_type": "code",
   "execution_count": 1,
   "metadata": {
    "ExecuteTime": {
     "end_time": "2019-11-05T18:20:34.854793Z",
     "start_time": "2019-11-05T18:20:34.372865Z"
    }
   },
   "outputs": [
    {
     "name": "stderr",
     "output_type": "stream",
     "text": [
      "[nltk_data] Downloading package punkt to\n",
      "[nltk_data]     /Users/evagolubenko/nltk_data...\n",
      "[nltk_data]   Package punkt is already up-to-date!\n"
     ]
    }
   ],
   "source": [
    "import os\n",
    "import re\n",
    "\n",
    "from IPython.display import clear_output\n",
    "from random import sample\n",
    "\n",
    "import re\n",
    "\n",
    "import numpy as np\n",
    "import matplotlib.pyplot as plt\n",
    "%matplotlib inline"
   ]
  },
  {
   "cell_type": "markdown",
   "metadata": {},
   "source": [
    "# Данные\n",
    "Датасет содержит ~9k имен, все написаны латиницей."
   ]
  },
  {
   "cell_type": "code",
   "execution_count": 2,
   "metadata": {
    "ExecuteTime": {
     "end_time": "2019-11-05T18:21:31.570320Z",
     "start_time": "2019-11-05T18:21:31.528673Z"
    }
   },
   "outputs": [],
   "source": [
    "with open('datasets/author_quotes.txt') as input_file:\n",
    "    quotes = input_file.read()[:-1].split('\\n')\n",
    "    quotes = [' '+line.lower() for line in quotes]"
   ]
  },
  {
   "cell_type": "code",
   "execution_count": 21,
   "metadata": {
    "ExecuteTime": {
     "end_time": "2019-11-05T18:21:31.575286Z",
     "start_time": "2019-11-05T18:21:31.571798Z"
    },
    "scrolled": true
   },
   "outputs": [
    {
     "data": {
      "text/plain": [
       "[\" i often feel that my days in new york city, that i was here for five years, didn't get one job, went on a thousands of auditions and literally did not get a job on a soap, not a movie, not tv, not nothing, although i did do some commercials thank god.\",\n",
       " \" it seems to me if you want something badly enough, whether you're a man or a woman, you'll do whatever you have to do to get it.\",\n",
       " \" yeah, but there's nobody who represents romance to me like cary grant.\",\n",
       " ' a film has its own life and takes its own time.',\n",
       " \" but then, even with sex, i'm more in the school of less is more in movies.\",\n",
       " ' i think every actor wants to be an fbi or cop at one point.',\n",
       " \" i'm sort of fascinated by the whole espionage crime thing.\",\n",
       " \" if we're talking about masculinity and tenderness, i don't look at clinton.\",\n",
       " \" the f.b.i. is about nuts and bolts. it's all about witnesses and procedure and walking the streets.\",\n",
       " ' i think they are very important because westerns have a code and a symbolism.',\n",
       " \" but i guess i like playing flawed guys 'cause it gives a place for the characters to go.\",\n",
       " ' directors, producers can make you look good or make you look bad.',\n",
       " \" i always ask, why can't i be just like cary grant or something.\",\n",
       " \" i don't do comedy so much although i would like to do a comedy.\",\n",
       " \" i mean, the problem is, i think i'm a great writer.\",\n",
       " ' i think america right now is looking for somebody who appeals to every faction.',\n",
       " ' i think women can be as cruel as men, and men as tender as women, and vice versa.',\n",
       " ' i would like to direct.',\n",
       " \" i'd like to do a romantic comedy.\",\n",
       " \" i'd like to do more family dramas.\",\n",
       " \" i'm an actor and it happened to go my way that day.\",\n",
       " \" right now, i have to admit, that i'm more interested in giving people a little bit of hope and goodness.\",\n",
       " \" some movies get rushed out right after you make them and i'm not always happy with that.\",\n",
       " ' some movies i see today have the most dramatic plot points but the actors are not playing them dramatically.',\n",
       " ' there are different reasons to make movies.',\n",
       " ' i think that this is the first war in history that on the morrow the victors sued for peace and the vanquished called for unconditional surrender.',\n",
       " ' history teaches us that men and nations behave wisely once they have exhausted all other alternatives.',\n",
       " ' if algeria introduced a resolution declaring that the earth was flat and that israel had flattened it, it would pass by a vote of 164 to 13 with 26 abstentions.',\n",
       " ' one of the chief tasks of any dialogue with the gentile world is to prove that the distinction between anti-semitism and anti-zionism is not a distinction at all.',\n",
       " ' time and again these governments have rejected proposals today - and longed for them tomorrow.']"
      ]
     },
     "execution_count": 21,
     "metadata": {},
     "output_type": "execute_result"
    }
   ],
   "source": [
    "quotes[80:110]"
   ]
  },
  {
   "cell_type": "markdown",
   "metadata": {},
   "source": [
    "Посмотрим на распределение длин имен:"
   ]
  },
  {
   "cell_type": "code",
   "execution_count": 4,
   "metadata": {
    "ExecuteTime": {
     "end_time": "2019-11-05T18:21:05.420060Z",
     "start_time": "2019-11-05T18:21:05.179513Z"
    }
   },
   "outputs": [
    {
     "data": {
      "image/png": "[encoded data removed]",
      "text/plain": [
       "<Figure size 432x288 with 1 Axes>"
      ]
     },
     "metadata": {
      "needs_background": "light"
     },
     "output_type": "display_data"
    }
   ],
   "source": [
    "plt.title('Name length distribution')\n",
    "plt.hist(list(map(len, quotes)), bins=25);"
   ]
  },
  {
   "cell_type": "markdown",
   "metadata": {},
   "source": [
    "# Препроцессинг"
   ]
  },
  {
   "cell_type": "code",
   "execution_count": 5,
   "metadata": {},
   "outputs": [],
   "source": [
    "tokens = list(set(''.join(quotes)))\n",
    "token_to_id = {token: idx for idx, token in enumerate(tokens)}\n",
    "num_tokens = len(tokens)"
   ]
  },
  {
   "cell_type": "code",
   "execution_count": 17,
   "metadata": {
    "scrolled": true
   },
   "outputs": [
    {
     "data": {
      "text/plain": [
       "['g',\n",
       " '.',\n",
       " ' ',\n",
       " 'j',\n",
       " '5',\n",
       " 'a',\n",
       " 'e',\n",
       " '=',\n",
       " '?',\n",
       " '/',\n",
       " 'd',\n",
       " '#',\n",
       " '8',\n",
       " 'i',\n",
       " '$',\n",
       " 'q',\n",
       " 'y',\n",
       " '-',\n",
       " 'u',\n",
       " '6',\n",
       " 'o',\n",
       " '3',\n",
       " '&',\n",
       " ')',\n",
       " 'x',\n",
       " ':',\n",
       " '4',\n",
       " 'k',\n",
       " '7',\n",
       " 'l',\n",
       " ';',\n",
       " ',',\n",
       " '£',\n",
       " '0',\n",
       " 'b',\n",
       " 'r',\n",
       " 'f',\n",
       " '*',\n",
       " '!',\n",
       " '9',\n",
       " '—',\n",
       " '+',\n",
       " '\"',\n",
       " 'c',\n",
       " 'z',\n",
       " '’',\n",
       " 'm',\n",
       " '1',\n",
       " '2',\n",
       " 'p',\n",
       " 'h',\n",
       " 't',\n",
       " 'n',\n",
       " '(',\n",
       " '%',\n",
       " 's',\n",
       " \"'\",\n",
       " 'v',\n",
       " 'w']"
      ]
     },
     "execution_count": 17,
     "metadata": {},
     "output_type": "execute_result"
    }
   ],
   "source": [
    "tokens"
   ]
  },
  {
   "cell_type": "markdown",
   "metadata": {},
   "source": [
    "def preproc(list_sentences):\n",
    "    \n",
    "    quotes_tok = []\n",
    "    for i in list_sentences:\n",
    "        i = re.sub('[^a-zA-Z\\-\\']', ' ', i)\n",
    "        i = re.sub(' +', ' ', i)\n",
    "        quotes_tok.append(i)\n",
    "    return quotes_tok"
   ]
  },
  {
   "cell_type": "markdown",
   "metadata": {},
   "source": [
    "quotes_sent = preproc(quotes)"
   ]
  },
  {
   "cell_type": "markdown",
   "metadata": {},
   "source": [
    "quotes_tok = ''.join(quotes_sent).split()"
   ]
  },
  {
   "cell_type": "markdown",
   "metadata": {},
   "source": [
    "tokens = list(set(quotes_tok))\n",
    "num_tokens = len(tokens)"
   ]
  },
  {
   "cell_type": "code",
   "execution_count": 6,
   "metadata": {},
   "outputs": [
    {
     "name": "stdout",
     "output_type": "stream",
     "text": [
      "Количество уникальных токенов:  59\n"
     ]
    }
   ],
   "source": [
    "print('Количество уникальных токенов: ', num_tokens)"
   ]
  },
  {
   "cell_type": "markdown",
   "metadata": {},
   "source": [
    "### Символы -> id\n",
    "\n",
    "Создадим словарь < символ > -> < id >"
   ]
  },
  {
   "cell_type": "code",
   "execution_count": 8,
   "metadata": {},
   "outputs": [
    {
     "name": "stdout",
     "output_type": "stream",
     "text": [
      "Seems alright!\n"
     ]
    }
   ],
   "source": [
    "assert len(tokens) == len(token_to_id), \"dictionaries must have same size\"\n",
    "\n",
    "for i in range(num_tokens):\n",
    "    assert token_to_id[tokens[i]] == i, \"token identifier must be it's position in tokens list\"\n",
    "\n",
    "print(\"Seems alright!\")"
   ]
  },
  {
   "cell_type": "code",
   "execution_count": 9,
   "metadata": {},
   "outputs": [],
   "source": [
    "def to_matrix(data, token_to_id, max_len=None, dtype='int32', batch_first = True):\n",
    "    \"\"\"Casts a list of names into rnn-digestable matrix\"\"\"\n",
    "    \n",
    "    max_len = max_len or max(map(len, data))\n",
    "    data_ix = np.zeros([len(data), max_len], dtype)\n",
    "\n",
    "    for i in range(len(data)):\n",
    "        line_ix = [token_to_id[c] for c in data[i]]\n",
    "        data_ix[i, :len(line_ix)] = line_ix\n",
    "        \n",
    "    if not batch_first: # convert [batch, time] into [time, batch]\n",
    "        data_ix = np.transpose(data_ix)\n",
    "\n",
    "    return data_ix"
   ]
  },
  {
   "cell_type": "code",
   "execution_count": 24,
   "metadata": {},
   "outputs": [
    {
     "data": {
      "text/plain": [
       "2"
      ]
     },
     "execution_count": 24,
     "metadata": {},
     "output_type": "execute_result"
    }
   ],
   "source": [
    "len(quotes[:2])"
   ]
  },
  {
   "cell_type": "code",
   "execution_count": 23,
   "metadata": {},
   "outputs": [
    {
     "name": "stdout",
     "output_type": "stream",
     "text": [
      " if you live to be a hundred, i want to live to be a hundred minus one day so i never have to live without you.  promise me you'll always remember: you're braver than you believe, and stronger than you seem, and smarter than you think.\n",
      "[[ 2 13 36  2 16 20 18  2 29 13 57  6  2 51 20  2 34  6  2  5  2 50 18 52\n",
      "  10 35  6 10 31  2 13  2 58  5 52 51  2 51 20  2 29 13 57  6  2 51 20  2\n",
      "  34  6  2  5  2 50 18 52 10 35  6 10  2 46 13 52 18 55  2 20 52  6  2 10\n",
      "   5 16  2 55 20  2 13  2 52  6 57  6 35  2 50  5 57  6  2 51 20  2 29 13\n",
      "  57  6  2 58 13 51 50 20 18 51  2 16 20 18  1  0  0  0  0  0  0  0  0  0\n",
      "   0  0  0]\n",
      " [ 2 49 35 20 46 13 55  6  2 46  6  2 16 20 18 56 29 29  2  5 29 58  5 16\n",
      "  55  2 35  6 46  6 46 34  6 35 25  2 16 20 18 56 35  6  2 34 35  5 57  6\n",
      "  35  2 51 50  5 52  2 16 20 18  2 34  6 29 13  6 57  6 31  2  5 52 10  2\n",
      "  55 51 35 20 52  0  6 35  2 51 50  5 52  2 16 20 18  2 55  6  6 46 31  2\n",
      "   5 52 10  2 55 46  5 35 51  6 35  2 51 50  5 52  2 16 20 18  2 51 50 13\n",
      "  52 27  1]]\n"
     ]
    }
   ],
   "source": [
    "#Example: cast 4 names to matrices, pad with zeros\n",
    "print(' '.join(quotes[:2]))\n",
    "print(to_matrix(quotes[:2], token_to_id))"
   ]
  },
  {
   "cell_type": "markdown",
   "metadata": {},
   "source": [
    "# Рекуррентные нейронные сети\n",
    "\n",
    "<img src=\"img/rnn.png\" width=480>"
   ]
  },
  {
   "cell_type": "code",
   "execution_count": 11,
   "metadata": {
    "ExecuteTime": {
     "end_time": "2019-11-05T18:21:10.739438Z",
     "start_time": "2019-11-05T18:21:09.661222Z"
    }
   },
   "outputs": [],
   "source": [
    "import torch, torch.nn as nn\n",
    "import torch.nn.functional as F\n",
    "from torch.autograd import Variable"
   ]
  },
  {
   "cell_type": "markdown",
   "metadata": {},
   "source": [
    "* `nn.RNNCell(emb_size, rnn_num_units)` - шаг RNN. Алгоритм: concat-linear-tanh\n",
    "* `nn.RNN(emb_size, rnn_num_units` - весь rnn_loop.\n",
    "\n",
    "Кроме того, в PyTorch есть `nn.LSTMCell`, `nn.LSTM`, `nn.GRUCell`, `nn.GRU`, etc. etc.\n",
    "\n",
    "Перепишем наш пример с генерацией имен с помощью средств PyTorch."
   ]
  },
  {
   "cell_type": "code",
   "execution_count": 12,
   "metadata": {
    "ExecuteTime": {
     "end_time": "2019-11-05T18:21:23.713285Z",
     "start_time": "2019-11-05T18:21:23.704755Z"
    }
   },
   "outputs": [],
   "source": [
    "class CharRNNLoop(nn.Module):\n",
    "    def __init__(self, num_tokens=num_tokens, emb_size=16, rnn_num_units=64):\n",
    "        super(self.__class__, self).__init__()\n",
    "        self.emb = nn.Embedding(num_tokens, emb_size)\n",
    "        self.rnn = nn.RNN(emb_size, rnn_num_units, batch_first=True)\n",
    "        self.hid_to_logits = nn.Linear(rnn_num_units, num_tokens)\n",
    "\n",
    "        \n",
    "    def forward(self, x, hidden_state=None):\n",
    "        assert isinstance(x, Variable) and isinstance(x.data, torch.LongTensor)\n",
    "        if hidden_state is not None:\n",
    "            h_seq, new_hidden = self.rnn(self.emb(x), hidden_state)\n",
    "        else:\n",
    "            h_seq, new_hidden = self.rnn(self.emb(x))\n",
    "        next_logits = self.hid_to_logits(h_seq)\n",
    "        next_logp = F.log_softmax(next_logits, dim=-1)\n",
    "        return next_logp, new_hidden\n",
    "    \n",
    "model = CharRNNLoop()\n",
    "opt = torch.optim.Adam(model.parameters())\n",
    "history = []"
   ]
  },
  {
   "cell_type": "code",
   "execution_count": 13,
   "metadata": {
    "ExecuteTime": {
     "end_time": "2019-11-05T18:21:31.468107Z",
     "start_time": "2019-11-05T18:21:23.792092Z"
    }
   },
   "outputs": [
    {
     "data": {
      "image/png": "[encoded data removed]",
      "text/plain": [
       "<Figure size 432x288 with 1 Axes>"
      ]
     },
     "metadata": {
      "needs_background": "light"
     },
     "output_type": "display_data"
    }
   ],
   "source": [
    "MAX_LENGTH = max(map(len, quotes))\n",
    "\n",
    "for i in range(1500):\n",
    "    batch_ix = to_matrix(sample(quotes, 5000), token_to_id, max_len=MAX_LENGTH)\n",
    "    batch_ix = torch.tensor(batch_ix, dtype=torch.int64)\n",
    "    \n",
    "    logp_seq = model(batch_ix)[0]\n",
    "    \n",
    "    # compute loss\n",
    "    predictions_logp = logp_seq[:, :-1]\n",
    "    actual_next_tokens = batch_ix[:, 1:]\n",
    "\n",
    "    loss = -torch.mean(torch.gather(predictions_logp, dim=2, index=actual_next_tokens[:,:,None]))\n",
    "    \n",
    "    # train with backprop\n",
    "    loss.backward()\n",
    "    opt.step()\n",
    "    opt.zero_grad()\n",
    "    \n",
    "    history.append(loss.data.numpy())\n",
    "    if (i + 1) % 100 == 0:\n",
    "        clear_output(True)\n",
    "        plt.plot(history, label='loss')\n",
    "        plt.legend()\n",
    "        plt.show()\n",
    "\n",
    "assert np.mean(history[:25]) > np.mean(history[-25:]), \"RNN didn't converge.\""
   ]
  },
  {
   "cell_type": "code",
   "execution_count": 14,
   "metadata": {
    "ExecuteTime": {
     "end_time": "2019-11-05T18:21:23.540765Z",
     "start_time": "2019-11-05T18:21:23.524503Z"
    }
   },
   "outputs": [],
   "source": [
    "def generate_sample(char_rnn, seed_phrase=' ', max_length=MAX_LENGTH, temperature=1.0):\n",
    "    '''\n",
    "    The function generates text given a phrase of length at least SEQ_LENGTH.\n",
    "    :param seed_phrase: prefix characters. The RNN is asked to continue the phrase\n",
    "    :param max_length: maximum output length, including seed_phrase\n",
    "    :param temperature: coefficient for sampling.  higher temperature produces more chaotic outputs,\n",
    "                        smaller temperature converges to the single most likely output\n",
    "    '''\n",
    "    \n",
    "    x_sequence = [[token_to_id[token] for token in seed_phrase]]\n",
    "    x_sequence = torch.tensor([x_sequence], dtype=torch.int64)\n",
    "    \n",
    "    hidden_s = None\n",
    "    for i in range(len(seed_phrase) - 1):\n",
    "        _, hidden_s = model.forward(x_sequence[:, :, i], hidden_s)\n",
    "    \n",
    "    for _ in range(max_length - len(seed_phrase)):\n",
    "        logp_next, hidden_s = model.forward(x_sequence[:, :, -1], hidden_s)\n",
    "        p_next = F.softmax(logp_next / temperature, dim=-1).data.numpy()[0]\n",
    "        next_ix = np.random.choice(len(tokens), p=p_next[0])\n",
    "        next_ix = torch.tensor([[[next_ix]]], dtype=torch.int64)\n",
    "        x_sequence = torch.cat([x_sequence, next_ix], dim=2)\n",
    "        \n",
    "    return ''.join([tokens[ix] for ix in x_sequence[0, 0].data.numpy()])\n",
    "        \n",
    "    return ''.join([tokens[ix] for ix in x_sequence.data.numpy()[0]])"
   ]
  },
  {
   "cell_type": "code",
   "execution_count": 16,
   "metadata": {
    "ExecuteTime": {
     "end_time": "2019-11-05T18:21:31.526436Z",
     "start_time": "2019-11-05T18:21:31.469965Z"
    }
   },
   "outputs": [
    {
     "name": "stdout",
     "output_type": "stream",
     "text": [
      " agct to ghayr a as tho neve moul ancoully prout ev1rold for low to on abperaptice thend is cellley, for ke aystion bateditigggod is is forfien to they is lyons wor to precuare arly my.gggggggggggggggggggggggggggggggggggggggggggggggggggggggggggggggggggggggggggggggggggggggggggggggggggggggggggggggggggggggggggggggggggggggggggggggggggggggggggggggggggggggggggggggggggggggggggggggggggggggggggggggggggggggggggggggg\n",
      " my alle, dadic can suyminnts fore the toeng. they tumoud to mavery dificis.ggggggggggggggggggggggggggggggggggggggggggggggggggggggggggggggggggggggggggggggggggggggggggggggggggggggggggggggggggggggggggggggggggggggggggggggggggggggggggggggggggggggggggggggggggggggggggggggggggggggggggggggggggggggggggggggggggggggggggggggggggggggggggggggggggggggggggggggggggggggggggggggggggggggggggggggggggggggggggggggggggggggggggggg\n",
      " euf gour there si muple list enronous to yougg, lifn dead of iss that arturess kom cistroce my are the hos, of's thay beceds act an pedowhre..gggggggggggggggggggggggggggggggggggggggggggggggggggggggggggggggggggggggggggggggggggggggggggggggggggggggggggggggggggggggggggggggggggggggggggggggggggggggggggggggggggggggggggggggggggggggggggggggggggggggggggggggggggggggggggggggggggggggggggggggggggggggggggggggggggggggggg\n",
      " that esuut on -t of as it. inginy.gggggggggggggggggggggggggggggggggggggggggggggggggggggggggggggggggggggggggggggigggggggggggggggggggggggggggggggggggggggggggggggggggggggggggggggggggggggggggggggggggggggggggggggggggggggggggggggggggggggggggggggggggggggggggggggggggggggggggggggggggggggggggggggggggggggggggggggggggggggggggggggggggggggggggggggggggggggggggggggggggggggggggggggggggggggggggggggggggggggggggggggggggggggg\n",
      " i so it bupe man! dis, she bet, good of thatess alllgagds yous of to and delaon.gggggggggggggggggggggggggggggggggggggggggggggggggggggggggggggggggggggggggggggggggggggggggggggggggggggggggggggggggggggggggggggggggggggggggggggggggggggggggggggggggggggggggggggggggggggggggggggggggggggggggggggggggggggggggggggggggggggggggggggggggggggggggggggggggggggggggggggggggggggggggggggggggggggggggggggggggggggggggggggggggggggggg\n",
      " witgiign but go ushare mane the likes act of work and waverd ost beill butt a i gination ometulove, savill you to the nats.gggggggggggggggggggggggggggggggggggggggggggggggggggggggggggggggggggggggggggggggggggggggggggggggggggggggggggggggggggggggggggggggggggggggggggggggggggggggggggggggggggggggggggggggggggghgggggggggggggggggggggggggggggggggggggggggggggggggggggggggggggggggggggggggggggggggggggggggggggggggggggggg\n",
      " i'm ontt that my sis chank levet so e0 meniters ar itss that in in a deisich iun me; as is a doone as ons thour abwate peasnrinice of't evehis is of you i laven sow.ggggggggggggggggggggggggggggggggggggggggggggggggggggggggggggggggggggggggggggggggggggggggggggggggggggggggggggggggggggggggggggggggggggggggggggggggggggggggggggggggggggggggggggggggggggggggggggggggggggggggggggggggggggggggggggggggggggggggggggggggggg\n",
      " youss strawly the be but buspert not ore to neas-.gggggggggggggggggggggggggggggggggggggggggggggggggggggggggggggggggggggggggggggggggggggggggggggggggggggggggggggggggggggggggggggggggggggggggggggggggggggggggggggggggggggggggggggggggggggggggggggggggggggggggggggggggggggggggggggggggggggggggggggggggggggggggggggggggggggggggggggggggggggggggggggggggggggggggggggggggggggggggggggggggggggggggggggggggggggggggggggggggggggg\n",
      " fe't mioth.ggggggggggggggggggggggggggggggggggggggggggggggggggggggggggggggggggggggggggggggggggggggggggggggggggggggggggggggggggggggggggggggggggggggggggggggggggggggggggggggggggggggggggggggggggggggggggggggggggggggggggggggggggggggggggggggggggggggggggggggggggggggggggggggggggggggggggggggggggggggggggggggggggggggggggggggggggggggggggggggggggggggggggggggggggggggggggggggggggggggggggggggggggggggggggggggggggggggggggggg\n",
      " wime.ggggggggggggggggggggggggggggggggggggggggggggggggggggggggggggggggggggggggggggggggggggggggggggggggggggggggggggggggggggggggggggggggggggggggggggggggggggggggggggggggggggggggggggggggggggggggggggggggggggggggggggggggggggggggggggggggggggggggggggggggggggggggggggggggggggggggggggggggggggggggggggggggggggggggggggggggggggggggggggggggggggggggggggggggggggggggggggggggggggggggggggggggggggggggggggggggggggggggggggggggggg\n"
     ]
    }
   ],
   "source": [
    "for _ in range(10):\n",
    "    print(generate_sample(model))"
   ]
  },
  {
   "cell_type": "code",
   "execution_count": null,
   "metadata": {},
   "outputs": [],
   "source": []
  },
  {
   "cell_type": "code",
   "execution_count": null,
   "metadata": {},
   "outputs": [],
   "source": []
  }
 ],
 "metadata": {
  "kernelspec": {
   "display_name": "Python 3",
   "language": "python",
   "name": "python3"
  },
  "language_info": {
   "codemirror_mode": {
    "name": "ipython",
    "version": 3
   },
   "file_extension": ".py",
   "mimetype": "text/x-python",
   "name": "python",
   "nbconvert_exporter": "python",
   "pygments_lexer": "ipython3",
   "version": "3.7.4"
  },
  "latex_envs": {
   "LaTeX_envs_menu_present": true,
   "autoclose": false,
   "autocomplete": true,
   "bibliofile": "biblio.bib",
   "cite_by": "apalike",
   "current_citInitial": 1,
   "eqLabelWithNumbers": true,
   "eqNumInitial": 1,
   "hotkeys": {
    "equation": "Ctrl-E",
    "itemize": "Ctrl-I"
   },
   "labels_anchors": false,
   "latex_user_defs": false,
   "report_style_numbering": false,
   "user_envs_cfg": false
  },
  "toc": {
   "base_numbering": 1,
   "nav_menu": {},
   "number_sections": true,
   "sideBar": true,
   "skip_h1_title": false,
   "title_cell": "Table of Contents",
   "title_sidebar": "Contents",
   "toc_cell": false,
   "toc_position": {},
   "toc_section_display": true,
   "toc_window_display": false
  }
 },
 "nbformat": 4,
 "nbformat_minor": 4
}
