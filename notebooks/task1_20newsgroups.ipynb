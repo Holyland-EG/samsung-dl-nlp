{
 "cells": [
  {
   "cell_type": "markdown",
   "metadata": {},
   "source": [
    "# Тематическая классификация длинных текстов - TFIDF и LogReg"
   ]
  },
  {
   "cell_type": "code",
   "execution_count": null,
   "metadata": {},
   "outputs": [],
   "source": [
    "# Если Вы запускаете ноутбук на colab,\n",
    "# выполните следующие строчки, чтобы подгрузить библиотеку dlnlputils:\n",
    "\n",
    "# !git clone https://github.com/Samsung-IT-Academy/stepik-dl-nlp.git && pip install -r stepik-dl-nlp/requirements.txt\n",
    "# import sys; sys.path.append('/content/stepik-dl-nlp')"
   ]
  },
  {
   "cell_type": "code",
   "execution_count": 1,
   "metadata": {
    "ExecuteTime": {
     "end_time": "2019-09-12T12:42:57.265628Z",
     "start_time": "2019-09-12T12:42:55.188211Z"
    }
   },
   "outputs": [],
   "source": [
    "import warnings\n",
    "warnings.filterwarnings('ignore')\n",
    "\n",
    "from sklearn.datasets import fetch_20newsgroups\n",
    "from sklearn.metrics import accuracy_score\n",
    "\n",
    "import numpy as np\n",
    "\n",
    "import matplotlib.pyplot as plt\n",
    "%matplotlib inline\n",
    "\n",
    "import collections\n",
    "\n",
    "import torch\n",
    "from torch import nn\n",
    "from torch.nn import functional as F\n",
    "\n",
    "import dlnlputils\n",
    "from dlnlputils.data import tokenize_text_simple_regex, tokenize_corpus, build_vocabulary, \\\n",
    "    vectorize_texts, SparseFeaturesDataset\n",
    "from dlnlputils.pipeline import train_eval_loop, predict_with_model, init_random_seed\n",
    "\n",
    "init_random_seed()"
   ]
  },
  {
   "cell_type": "markdown",
   "metadata": {},
   "source": [
    "## Предобработка текстов и подготовка признаков"
   ]
  },
  {
   "cell_type": "code",
   "execution_count": 2,
   "metadata": {
    "ExecuteTime": {
     "end_time": "2019-09-12T12:42:57.847399Z",
     "start_time": "2019-09-12T12:42:57.268037Z"
    },
    "scrolled": true
   },
   "outputs": [
    {
     "name": "stdout",
     "output_type": "stream",
     "text": [
      "Количество обучающих текстов 11314\n",
      "Количество тестовых текстов 7532\n",
      "\n",
      "From: lerxst@wam.umd.edu (where's my thing)\n",
      "Subject: WHAT car is this!?\n",
      "Nntp-Posting-Host: rac3.wam.umd.edu\n",
      "Organization: University of Maryland, College Park\n",
      "Lines: 15\n",
      "\n",
      " I was wondering if anyone out there could enlighten me on this car I saw\n",
      "the other day. It was a 2-door sports car, looked to be from the late 60s/\n",
      "early 70s. It was called a Bricklin. The doors were really small. In addition,\n",
      "the front bumper was separate from the rest of the body. This is \n",
      "all I know. If anyone can tellme a model name, engine specs, years\n",
      "of production, where this car is made, history, or whatever info you\n",
      "have on this funky looking car, please e-mail.\n",
      "\n",
      "Thanks,\n",
      "- IL\n",
      "   ---- brought to you by your neighborhood Lerxst ----\n",
      "\n",
      "Метка 7\n"
     ]
    }
   ],
   "source": [
    "train_source = fetch_20newsgroups(subset='train')\n",
    "test_source = fetch_20newsgroups(subset='test')\n",
    "\n",
    "print('Количество обучающих текстов', len(train_source['data']))\n",
    "print('Количество тестовых текстов', len(test_source['data']))\n",
    "print()\n",
    "print(train_source['data'][0].strip())\n",
    "\n",
    "print()\n",
    "print('Метка', train_source['target'][0])"
   ]
  },
  {
   "cell_type": "markdown",
   "metadata": {},
   "source": [
    "### Подготовка признаков"
   ]
  },
  {
   "cell_type": "code",
   "execution_count": 3,
   "metadata": {
    "ExecuteTime": {
     "end_time": "2019-09-12T12:43:00.294422Z",
     "start_time": "2019-09-12T12:42:57.849386Z"
    }
   },
   "outputs": [],
   "source": [
    "train_tokenized = tokenize_corpus(train_source['data'])\n",
    "test_tokenized = tokenize_corpus(test_source['data'])"
   ]
  },
  {
   "cell_type": "code",
   "execution_count": 4,
   "metadata": {},
   "outputs": [
    {
     "name": "stderr",
     "output_type": "stream",
     "text": [
      "[nltk_data] Downloading package punkt to\n",
      "[nltk_data]     /Users/evagolubenko/nltk_data...\n",
      "[nltk_data]   Package punkt is already up-to-date!\n"
     ]
    }
   ],
   "source": [
    "import nltk\n",
    "nltk.download('punkt')\n",
    "from nltk.util import ngrams\n",
    "import re"
   ]
  },
  {
   "cell_type": "code",
   "execution_count": 33,
   "metadata": {},
   "outputs": [],
   "source": [
    "def make_ngrams(list_sentences):\n",
    "    \n",
    "    clean = lambda x: re.sub('[^a-zA-Z]',' ',x.lower())\n",
    "    probel = lambda x: re.sub(' +',' ',x)\n",
    "    \n",
    "    list_sentences = list(map(clean, list_sentences))\n",
    "    list_sentences = list(map(probel, list_sentences))\n",
    "    \n",
    "    list_ngrams = []\n",
    "    n = 3\n",
    "    for i in list_sentences:\n",
    "        i = i.lower().replace('[^a-zA-Z]','').replace(' +',' ')\n",
    "        sent_ngrams = []\n",
    "        n_grams = ngrams(i, n)\n",
    "        for grams in n_grams:\n",
    "            sent_ngrams.append(''.join(grams))\n",
    "        list_ngrams.append(sent_ngrams)\n",
    "    return list_ngrams"
   ]
  },
  {
   "cell_type": "code",
   "execution_count": 39,
   "metadata": {},
   "outputs": [],
   "source": [
    "test_grams = make_ngrams(test_source.data)\n",
    "train_grams = make_ngrams(train_source.data)"
   ]
  },
  {
   "cell_type": "code",
   "execution_count": 41,
   "metadata": {
    "ExecuteTime": {
     "end_time": "2019-09-12T12:43:00.825372Z",
     "start_time": "2019-09-12T12:43:00.297392Z"
    }
   },
   "outputs": [
    {
     "name": "stdout",
     "output_type": "stream",
     "text": [
      "Количество уникальных n_gramm 10910\n",
      "[(' ma', 0), (' is', 1), ('it ', 2), ('hat', 3), ('ll ', 4), ('ers', 5), (' wh', 6), ('t r', 7), (' ar', 8), ('ter', 9)]\n"
     ]
    }
   ],
   "source": [
    "MAX_DF = 0.8\n",
    "MIN_COUNT = 5\n",
    "vocabulary, word_doc_freq = build_vocabulary(train_grams, max_doc_freq=MAX_DF, min_count=MIN_COUNT)\n",
    "UNIQUE_WORDS_N = len(vocabulary)\n",
    "print('Количество уникальных n_gramm', UNIQUE_WORDS_N)\n",
    "print(list(vocabulary.items())[:10])"
   ]
  },
  {
   "cell_type": "code",
   "execution_count": 42,
   "metadata": {
    "ExecuteTime": {
     "end_time": "2019-09-12T12:43:01.524600Z",
     "start_time": "2019-09-12T12:43:00.829107Z"
    }
   },
   "outputs": [
    {
     "data": {
      "image/png": "[encoded data removed]",
      "text/plain": [
       "<Figure size 432x288 with 1 Axes>"
      ]
     },
     "metadata": {
      "needs_background": "light"
     },
     "output_type": "display_data"
    }
   ],
   "source": [
    "plt.hist(word_doc_freq, bins=20)\n",
    "plt.title('Распределение относительных частот слов')\n",
    "plt.yscale('log');"
   ]
  },
  {
   "cell_type": "code",
   "execution_count": 43,
   "metadata": {
    "ExecuteTime": {
     "end_time": "2019-09-12T12:44:16.094816Z",
     "start_time": "2019-09-12T12:43:01.526554Z"
    }
   },
   "outputs": [
    {
     "name": "stdout",
     "output_type": "stream",
     "text": [
      "Размерность матрицы признаков обучающей выборки (11314, 10910)\n",
      "Размерность матрицы признаков тестовой выборки (11314, 10910)\n",
      "\n",
      "Количество ненулевых элементов в обучающей выборке 6338101\n",
      "Процент заполненности матрицы признаков 5.13%\n",
      "\n",
      "Количество ненулевых элементов в обучающей выборке 4173805\n",
      "Процент заполненности матрицы признаков 5.08%\n"
     ]
    }
   ],
   "source": [
    "VECTORIZATION_MODE = 'tfidf'\n",
    "\n",
    "train_vectors = vectorize_texts(train_grams, vocabulary, word_doc_freq, mode=VECTORIZATION_MODE)\n",
    "test_vectors = vectorize_texts(test_grams, vocabulary, word_doc_freq, mode=VECTORIZATION_MODE)\n",
    "\n",
    "print('Размерность матрицы признаков обучающей выборки', train_vectors.shape)\n",
    "print('Размерность матрицы признаков тестовой выборки', train_vectors.shape)\n",
    "print()\n",
    "print('Количество ненулевых элементов в обучающей выборке', train_vectors.nnz)\n",
    "print('Процент заполненности матрицы признаков {:.2f}%'.format(train_vectors.nnz * 100 / (train_vectors.shape[0] * train_vectors.shape[1])))\n",
    "print()\n",
    "print('Количество ненулевых элементов в обучающей выборке', test_vectors.nnz)\n",
    "print('Процент заполненности матрицы признаков {:.2f}%'.format(test_vectors.nnz * 100 / (test_vectors.shape[0] * test_vectors.shape[1])))"
   ]
  },
  {
   "cell_type": "code",
   "execution_count": 44,
   "metadata": {
    "ExecuteTime": {
     "end_time": "2019-09-12T12:44:16.857114Z",
     "start_time": "2019-09-12T12:44:16.098773Z"
    }
   },
   "outputs": [
    {
     "data": {
      "image/png": "[encoded data removed]",
      "text/plain": [
       "<Figure size 432x288 with 1 Axes>"
      ]
     },
     "metadata": {
      "needs_background": "light"
     },
     "output_type": "display_data"
    }
   ],
   "source": [
    "plt.hist(train_vectors.data, bins=20)\n",
    "plt.title('Распределение весов признаков')\n",
    "plt.yscale('log');"
   ]
  },
  {
   "cell_type": "markdown",
   "metadata": {},
   "source": [
    "### Распределение классов"
   ]
  },
  {
   "cell_type": "code",
   "execution_count": 45,
   "metadata": {
    "ExecuteTime": {
     "end_time": "2019-09-12T12:44:16.864960Z",
     "start_time": "2019-09-12T12:44:16.859476Z"
    }
   },
   "outputs": [
    {
     "name": "stdout",
     "output_type": "stream",
     "text": [
      "Количество уникальных меток 20\n"
     ]
    }
   ],
   "source": [
    "UNIQUE_LABELS_N = len(set(train_source['target']))\n",
    "print('Количество уникальных меток', UNIQUE_LABELS_N)"
   ]
  },
  {
   "cell_type": "code",
   "execution_count": 46,
   "metadata": {
    "ExecuteTime": {
     "end_time": "2019-09-12T12:44:17.106036Z",
     "start_time": "2019-09-12T12:44:16.867310Z"
    }
   },
   "outputs": [
    {
     "data": {
      "image/png": "[encoded data removed]",
      "text/plain": [
       "<Figure size 432x288 with 1 Axes>"
      ]
     },
     "metadata": {
      "needs_background": "light"
     },
     "output_type": "display_data"
    }
   ],
   "source": [
    "plt.hist(train_source['target'], bins=np.arange(0, 21))\n",
    "plt.title('Распределение меток в обучающей выборке');"
   ]
  },
  {
   "cell_type": "code",
   "execution_count": 47,
   "metadata": {
    "ExecuteTime": {
     "end_time": "2019-09-12T12:44:17.312198Z",
     "start_time": "2019-09-12T12:44:17.109884Z"
    },
    "scrolled": true
   },
   "outputs": [
    {
     "data": {
      "image/png": "[encoded data removed]",
      "text/plain": [
       "<Figure size 432x288 with 1 Axes>"
      ]
     },
     "metadata": {
      "needs_background": "light"
     },
     "output_type": "display_data"
    }
   ],
   "source": [
    "plt.hist(test_source['target'], bins=np.arange(0, 21))\n",
    "plt.title('Распределение меток в тестовой выборке');"
   ]
  },
  {
   "cell_type": "markdown",
   "metadata": {},
   "source": [
    "### PyTorch Dataset"
   ]
  },
  {
   "cell_type": "code",
   "execution_count": 48,
   "metadata": {
    "ExecuteTime": {
     "end_time": "2019-09-12T12:44:17.319292Z",
     "start_time": "2019-09-12T12:44:17.315074Z"
    }
   },
   "outputs": [],
   "source": [
    "train_dataset = SparseFeaturesDataset(train_vectors, train_source['target'])\n",
    "test_dataset = SparseFeaturesDataset(test_vectors, test_source['target'])"
   ]
  },
  {
   "cell_type": "markdown",
   "metadata": {},
   "source": [
    "## Обучение модели на PyTorch"
   ]
  },
  {
   "cell_type": "code",
   "execution_count": 49,
   "metadata": {
    "ExecuteTime": {
     "end_time": "2019-09-12T12:46:22.371272Z",
     "start_time": "2019-09-12T12:44:17.322178Z"
    },
    "scrolled": true
   },
   "outputs": [
    {
     "name": "stdout",
     "output_type": "stream",
     "text": [
      "Эпоха 0\n",
      "Эпоха: 354 итераций, 4.18 сек\n",
      "Среднее значение функции потерь на обучении 2.4192506135520286\n",
      "Среднее значение функции потерь на валидации 2.594727742469917\n",
      "Новая лучшая модель!\n",
      "\n",
      "Эпоха 1\n",
      "Эпоха: 354 итераций, 3.91 сек\n",
      "Среднее значение функции потерь на обучении 1.340706202606697\n",
      "Среднее значение функции потерь на валидации 2.3297550466101047\n",
      "Новая лучшая модель!\n",
      "\n",
      "Эпоха 2\n",
      "Эпоха: 354 итераций, 3.97 сек\n",
      "Среднее значение функции потерь на обучении 0.8527682659316198\n",
      "Среднее значение функции потерь на валидации 2.161489104315386\n",
      "Новая лучшая модель!\n",
      "\n",
      "Эпоха 3\n",
      "Эпоха: 354 итераций, 4.01 сек\n",
      "Среднее значение функции потерь на обучении 0.6002110888560613\n",
      "Среднее значение функции потерь на валидации 2.0433791108050587\n",
      "Новая лучшая модель!\n",
      "\n",
      "Эпоха 4\n",
      "Эпоха: 354 итераций, 4.02 сек\n",
      "Среднее значение функции потерь на обучении 0.44809190234390356\n",
      "Среднее значение функции потерь на валидации 1.9531017304477045\n",
      "Новая лучшая модель!\n",
      "\n",
      "Эпоха 5\n",
      "Эпоха: 354 итераций, 3.97 сек\n",
      "Среднее значение функции потерь на обучении 0.34850717327520675\n",
      "Среднее значение функции потерь на валидации 1.8853825482271485\n",
      "Новая лучшая модель!\n",
      "\n",
      "Эпоха 6\n",
      "Эпоха: 354 итераций, 3.96 сек\n",
      "Среднее значение функции потерь на обучении 0.2771847869590514\n",
      "Среднее значение функции потерь на валидации 1.8155749808933774\n",
      "Новая лучшая модель!\n",
      "\n",
      "Эпоха 7\n",
      "Эпоха: 354 итераций, 3.95 сек\n",
      "Среднее значение функции потерь на обучении 0.2253942401437773\n",
      "Среднее значение функции потерь на валидации 1.7653777922614147\n",
      "Новая лучшая модель!\n",
      "\n",
      "Эпоха 8\n",
      "Эпоха: 354 итераций, 3.97 сек\n",
      "Среднее значение функции потерь на обучении 0.18529626466123397\n",
      "Среднее значение функции потерь на валидации 1.7310046235383567\n",
      "Новая лучшая модель!\n",
      "\n",
      "Эпоха 9\n",
      "Эпоха: 354 итераций, 3.94 сек\n",
      "Среднее значение функции потерь на обучении 0.15448747093310464\n",
      "Среднее значение функции потерь на валидации 1.680292658381543\n",
      "Новая лучшая модель!\n",
      "\n",
      "Эпоха 10\n",
      "Эпоха: 354 итераций, 3.94 сек\n",
      "Среднее значение функции потерь на обучении 0.12987794210387152\n",
      "Среднее значение функции потерь на валидации 1.6476070239382274\n",
      "Новая лучшая модель!\n",
      "\n",
      "Эпоха 11\n",
      "Эпоха: 354 итераций, 3.91 сек\n",
      "Среднее значение функции потерь на обучении 0.10971716327308598\n",
      "Среднее значение функции потерь на валидации 1.6277740799774558\n",
      "Новая лучшая модель!\n",
      "\n",
      "Эпоха 12\n",
      "Эпоха: 354 итераций, 3.94 сек\n",
      "Среднее значение функции потерь на обучении 0.09304003113365106\n",
      "Среднее значение функции потерь на валидации 1.581896820310819\n",
      "Новая лучшая модель!\n",
      "\n",
      "Эпоха 13\n",
      "Эпоха: 354 итераций, 3.94 сек\n",
      "Среднее значение функции потерь на обучении 0.07983423823143466\n",
      "Среднее значение функции потерь на валидации 1.550732210531073\n",
      "Новая лучшая модель!\n",
      "\n",
      "Эпоха 14\n",
      "Эпоха: 354 итераций, 3.98 сек\n",
      "Среднее значение функции потерь на обучении 0.06864366170524036\n",
      "Среднее значение функции потерь на валидации 1.5520092814655628\n",
      "\n",
      "Эпоха 15\n",
      "Эпоха: 354 итераций, 4.07 сек\n",
      "Среднее значение функции потерь на обучении 0.0591652916407602\n",
      "Среднее значение функции потерь на валидации 1.508653560432337\n",
      "Новая лучшая модель!\n",
      "\n",
      "Эпоха 16\n",
      "Эпоха: 354 итераций, 3.93 сек\n",
      "Среднее значение функции потерь на обучении 0.0512028535417581\n",
      "Среднее значение функции потерь на валидации 1.4958748251704845\n",
      "Новая лучшая модель!\n",
      "\n",
      "Эпоха 17\n",
      "Эпоха: 354 итераций, 3.90 сек\n",
      "Среднее значение функции потерь на обучении 0.044193941365801175\n",
      "Среднее значение функции потерь на валидации 1.492679481789217\n",
      "Новая лучшая модель!\n",
      "\n",
      "Эпоха 18\n",
      "Эпоха: 354 итераций, 3.90 сек\n",
      "Среднее значение функции потерь на обучении 0.038634655799842994\n",
      "Среднее значение функции потерь на валидации 1.4792499514454502\n",
      "Новая лучшая модель!\n",
      "\n",
      "Эпоха 19\n",
      "Эпоха: 354 итераций, 3.89 сек\n",
      "Среднее значение функции потерь на обучении 0.03371287476124063\n",
      "Среднее значение функции потерь на валидации 1.4477045493105711\n",
      "Новая лучшая модель!\n",
      "\n",
      "Эпоха 20\n",
      "Эпоха: 354 итераций, 4.00 сек\n",
      "Среднее значение функции потерь на обучении 0.029328824978553304\n",
      "Среднее значение функции потерь на валидации 1.4451771547733727\n",
      "Новая лучшая модель!\n",
      "\n",
      "Эпоха 21\n",
      "Эпоха: 354 итераций, 3.98 сек\n",
      "Среднее значение функции потерь на обучении 0.025699886005361286\n",
      "Среднее значение функции потерь на валидации 1.434211235177719\n",
      "Новая лучшая модель!\n",
      "\n",
      "Эпоха 22\n",
      "Эпоха: 354 итераций, 4.01 сек\n",
      "Среднее значение функции потерь на обучении 0.022790721692618424\n",
      "Среднее значение функции потерь на валидации 1.4255245338052005\n",
      "Новая лучшая модель!\n",
      "\n",
      "Эпоха 23\n",
      "Эпоха: 354 итераций, 3.90 сек\n",
      "Среднее значение функции потерь на обучении 0.020033520324113596\n",
      "Среднее значение функции потерь на валидации 1.4167119848021006\n",
      "Новая лучшая модель!\n",
      "\n",
      "Эпоха 24\n",
      "Эпоха: 354 итераций, 3.93 сек\n",
      "Среднее значение функции потерь на обучении 0.017907902057082682\n",
      "Среднее значение функции потерь на валидации 1.4017433107404385\n",
      "Новая лучшая модель!\n",
      "\n",
      "Эпоха 25\n",
      "Эпоха: 354 итераций, 4.01 сек\n",
      "Среднее значение функции потерь на обучении 0.015787809550509613\n",
      "Среднее значение функции потерь на валидации 1.393637197755151\n",
      "Новая лучшая модель!\n",
      "\n",
      "Эпоха 26\n",
      "Эпоха: 354 итераций, 4.06 сек\n",
      "Среднее значение функции потерь на обучении 0.014144193302145449\n",
      "Среднее значение функции потерь на валидации 1.3773573897147582\n",
      "Новая лучшая модель!\n",
      "\n",
      "Эпоха 27\n",
      "Эпоха: 354 итераций, 4.06 сек\n",
      "Среднее значение функции потерь на обучении 0.012617069267599429\n",
      "Среднее значение функции потерь на валидации 1.4064703437231354\n",
      "\n",
      "Эпоха 28\n",
      "Эпоха: 354 итераций, 3.94 сек\n",
      "Среднее значение функции потерь на обучении 0.011405644702888226\n",
      "Среднее значение функции потерь на валидации 1.3680325463666754\n",
      "Новая лучшая модель!\n",
      "\n",
      "Эпоха 29\n",
      "Эпоха: 354 итераций, 4.04 сек\n",
      "Среднее значение функции потерь на обучении 0.01021812536384079\n",
      "Среднее значение функции потерь на валидации 1.3830827300326298\n",
      "\n",
      "Эпоха 30\n",
      "Эпоха: 354 итераций, 4.04 сек\n",
      "Среднее значение функции потерь на обучении 0.009326599528789415\n",
      "Среднее значение функции потерь на валидации 1.3874382076121994\n",
      "\n",
      "Эпоха 31\n",
      "Эпоха: 354 итераций, 4.07 сек\n",
      "Среднее значение функции потерь на обучении 0.008527012425474823\n",
      "Среднее значение функции потерь на валидации 1.3729398535974955\n",
      "\n",
      "Эпоха 32\n",
      "Эпоха: 354 итераций, 3.98 сек\n",
      "Среднее значение функции потерь на обучении 0.0075795581543918085\n",
      "Среднее значение функции потерь на валидации 1.3985318910267392\n",
      "\n",
      "Эпоха 33\n",
      "Эпоха: 354 итераций, 3.99 сек\n",
      "Среднее значение функции потерь на обучении 0.0069189814638246465\n",
      "Среднее значение функции потерь на валидации 1.3631673205201909\n",
      "Новая лучшая модель!\n",
      "\n",
      "Эпоха 34\n",
      "Эпоха: 354 итераций, 4.04 сек\n",
      "Среднее значение функции потерь на обучении 0.006485434457867559\n",
      "Среднее значение функции потерь на валидации 1.3651526974419417\n",
      "\n",
      "Эпоха 35\n",
      "Эпоха: 354 итераций, 4.07 сек\n",
      "Среднее значение функции потерь на обучении 0.006024772401946455\n",
      "Среднее значение функции потерь на валидации 1.3908947678440708\n",
      "\n",
      "Эпоха 36\n",
      "Эпоха: 354 итераций, 4.10 сек\n",
      "Среднее значение функции потерь на обучении 0.005593223548408776\n",
      "Среднее значение функции потерь на валидации 1.3772783658262027\n",
      "\n",
      "Эпоха 37\n",
      "Эпоха: 354 итераций, 3.98 сек\n",
      "Среднее значение функции потерь на обучении 0.005086491239753073\n",
      "Среднее значение функции потерь на валидации 1.3514327520536165\n",
      "Новая лучшая модель!\n",
      "\n",
      "Эпоха 38\n",
      "Эпоха: 354 итераций, 3.93 сек\n",
      "Среднее значение функции потерь на обучении 0.00475500380563797\n",
      "Среднее значение функции потерь на валидации 1.374550186981589\n",
      "\n",
      "Эпоха 39\n",
      "Эпоха: 354 итераций, 3.99 сек\n",
      "Среднее значение функции потерь на обучении 0.004585813565046847\n",
      "Среднее значение функции потерь на валидации 1.3941911080126035\n",
      "\n",
      "Эпоха 40\n",
      "Эпоха: 354 итераций, 3.93 сек\n",
      "Среднее значение функции потерь на обучении 0.0038934098301773713\n",
      "Среднее значение функции потерь на валидации 1.3984564451848047\n",
      "\n",
      "Эпоха 41\n",
      "Эпоха: 354 итераций, 4.04 сек\n",
      "Среднее значение функции потерь на обучении 0.004410297590545326\n",
      "Среднее значение функции потерь на валидации 1.4196610763921576\n",
      "\n",
      "Эпоха 42\n",
      "Эпоха: 354 итераций, 3.99 сек\n",
      "Среднее значение функции потерь на обучении 0.0038291877652761805\n",
      "Среднее значение функции потерь на валидации 1.3994861134028032\n",
      "\n",
      "Эпоха 43\n",
      "Эпоха: 354 итераций, 4.10 сек\n",
      "Среднее значение функции потерь на обучении 0.0037887331594398644\n",
      "Среднее значение функции потерь на валидации 1.397355195829424\n",
      "Epoch    44: reducing learning rate of group 0 to 5.0000e-02.\n",
      "\n",
      "Эпоха 44\n",
      "Эпоха: 354 итераций, 4.01 сек\n",
      "Среднее значение функции потерь на обучении 0.0029512951609291832\n",
      "Среднее значение функции потерь на валидации 1.365548205325159\n",
      "\n",
      "Эпоха 45\n"
     ]
    },
    {
     "name": "stdout",
     "output_type": "stream",
     "text": [
      "Эпоха: 354 итераций, 3.93 сек\n",
      "Среднее значение функции потерь на обучении 0.002762670300609569\n",
      "Среднее значение функции потерь на валидации 1.3600596565816363\n",
      "\n",
      "Эпоха 46\n",
      "Эпоха: 354 итераций, 3.98 сек\n",
      "Среднее значение функции потерь на обучении 0.002651807410023596\n",
      "Среднее значение функции потерь на валидации 1.3711227110381854\n",
      "\n",
      "Эпоха 47\n",
      "Эпоха: 354 итераций, 3.96 сек\n",
      "Среднее значение функции потерь на обучении 0.002761485820832152\n",
      "Среднее значение функции потерь на валидации 1.3569533557204876\n",
      "\n",
      "Эпоха 48\n",
      "Эпоха: 354 итераций, 3.92 сек\n",
      "Среднее значение функции потерь на обучении 0.0025825689387761613\n",
      "Среднее значение функции потерь на валидации 1.3645213519112538\n",
      "Модель не улучшилась за последние 10 эпох, прекращаем обучение\n"
     ]
    }
   ],
   "source": [
    "model = nn.Linear(UNIQUE_WORDS_N, UNIQUE_LABELS_N)\n",
    "\n",
    "best_val_loss, best_model = train_eval_loop(model=model,\n",
    "                                            train_dataset=train_dataset,\n",
    "                                            val_dataset=test_dataset,\n",
    "                                            criterion=F.cross_entropy,\n",
    "                                            lr=1e-1,\n",
    "                                            epoch_n=200,\n",
    "                                            batch_size=32,\n",
    "                                            l2_reg_alpha=0,\n",
    "                                            lr_scheduler_ctor=lambda optim: torch.optim.lr_scheduler.ReduceLROnPlateau(optim,\n",
    "                                                                                                                       patience=5,\n",
    "                                                                                                                       factor=0.5,\n",
    "                                                                                                                 verbose=True))"
   ]
  },
  {
   "cell_type": "markdown",
   "metadata": {},
   "source": [
    "## Оценка качества"
   ]
  },
  {
   "cell_type": "code",
   "execution_count": 50,
   "metadata": {
    "ExecuteTime": {
     "end_time": "2019-09-12T12:46:25.105663Z",
     "start_time": "2019-09-12T12:46:22.373012Z"
    }
   },
   "outputs": [
    {
     "name": "stderr",
     "output_type": "stream",
     "text": [
      "354it [00:02, 143.46it/s]                              \n",
      "  6%|▋         | 15/235.375 [00:00<00:01, 148.34it/s]"
     ]
    },
    {
     "name": "stdout",
     "output_type": "stream",
     "text": [
      "Среднее значение функции потерь на обучении 0.0039345561526715755\n",
      "Доля верных ответов 0.9992929114371575\n",
      "\n"
     ]
    },
    {
     "name": "stderr",
     "output_type": "stream",
     "text": [
      "236it [00:01, 146.25it/s]                             "
     ]
    },
    {
     "name": "stdout",
     "output_type": "stream",
     "text": [
      "Среднее значение функции потерь на валидации 1.3493741750717163\n",
      "Доля верных ответов 0.6860063728093467\n"
     ]
    },
    {
     "name": "stderr",
     "output_type": "stream",
     "text": [
      "\n"
     ]
    }
   ],
   "source": [
    "train_pred = predict_with_model(best_model, train_dataset)\n",
    "train_loss = F.cross_entropy(torch.from_numpy(train_pred),\n",
    "                                        torch.from_numpy(train_source['target']))\n",
    "print('Среднее значение функции потерь на обучении', float(train_loss))\n",
    "print('Доля верных ответов', accuracy_score(train_source['target'], train_pred.argmax(-1)))\n",
    "print()\n",
    "\n",
    "test_pred = predict_with_model(best_model, test_dataset)\n",
    "test_loss = F.cross_entropy(torch.from_numpy(test_pred),\n",
    "                                        torch.from_numpy(test_source['target']))\n",
    "print('Среднее значение функции потерь на валидации', float(test_loss))\n",
    "print('Доля верных ответов', accuracy_score(test_source['target'], test_pred.argmax(-1)))"
   ]
  },
  {
   "cell_type": "markdown",
   "metadata": {},
   "source": [
    "# Альтернативная реализация на scikit-learn"
   ]
  },
  {
   "cell_type": "code",
   "execution_count": 12,
   "metadata": {
    "ExecuteTime": {
     "end_time": "2019-09-12T12:46:31.791405Z",
     "start_time": "2019-09-12T12:46:25.107897Z"
    },
    "scrolled": false
   },
   "outputs": [],
   "source": [
    "from sklearn.feature_extraction.text import TfidfVectorizer\n",
    "from sklearn.pipeline import Pipeline\n",
    "from sklearn.linear_model import LogisticRegression\n",
    "\n",
    "sklearn_pipeline = Pipeline((('vect', TfidfVectorizer(tokenizer=tokenize_text_simple_regex,\n",
    "                                                      max_df=MAX_DF,\n",
    "                                                      min_df=MIN_COUNT)),\n",
    "                             ('cls', LogisticRegression())))\n",
    "sklearn_pipeline.fit(train_source['data'], train_source['target']);"
   ]
  },
  {
   "cell_type": "markdown",
   "metadata": {},
   "source": [
    "## Оценка качества"
   ]
  },
  {
   "cell_type": "code",
   "execution_count": 13,
   "metadata": {
    "ExecuteTime": {
     "end_time": "2019-09-12T12:46:35.454567Z",
     "start_time": "2019-09-12T12:46:31.792832Z"
    }
   },
   "outputs": [
    {
     "name": "stdout",
     "output_type": "stream",
     "text": [
      "Среднее значение функции потерь на обучении 2.5707153146141617\n",
      "Доля верных ответов 0.9642036415060986\n",
      "\n",
      "Среднее значение функции потерь на валидации 2.6933316771751246\n",
      "Доля верных ответов 0.8177110993096123\n"
     ]
    }
   ],
   "source": [
    "sklearn_train_pred = sklearn_pipeline.predict_proba(train_source['data'])\n",
    "sklearn_train_loss = F.cross_entropy(torch.from_numpy(sklearn_train_pred),\n",
    "                                                 torch.from_numpy(train_source['target']))\n",
    "print('Среднее значение функции потерь на обучении', float(sklearn_train_loss))\n",
    "print('Доля верных ответов', accuracy_score(train_source['target'], sklearn_train_pred.argmax(-1)))\n",
    "print()\n",
    "\n",
    "sklearn_test_pred = sklearn_pipeline.predict_proba(test_source['data'])\n",
    "sklearn_test_loss = F.cross_entropy(torch.from_numpy(sklearn_test_pred),\n",
    "                                                torch.from_numpy(test_source['target']))\n",
    "print('Среднее значение функции потерь на валидации', float(sklearn_test_loss))\n",
    "print('Доля верных ответов', accuracy_score(test_source['target'], sklearn_test_pred.argmax(-1)))"
   ]
  },
  {
   "cell_type": "code",
   "execution_count": null,
   "metadata": {},
   "outputs": [],
   "source": []
  }
 ],
 "metadata": {
  "kernelspec": {
   "display_name": "Python 3",
   "language": "python",
   "name": "python3"
  },
  "language_info": {
   "codemirror_mode": {
    "name": "ipython",
    "version": 3
   },
   "file_extension": ".py",
   "mimetype": "text/x-python",
   "name": "python",
   "nbconvert_exporter": "python",
   "pygments_lexer": "ipython3",
   "version": "3.7.4"
  },
  "latex_envs": {
   "LaTeX_envs_menu_present": true,
   "autoclose": false,
   "autocomplete": true,
   "bibliofile": "biblio.bib",
   "cite_by": "apalike",
   "current_citInitial": 1,
   "eqLabelWithNumbers": true,
   "eqNumInitial": 1,
   "hotkeys": {
    "equation": "Ctrl-E",
    "itemize": "Ctrl-I"
   },
   "labels_anchors": false,
   "latex_user_defs": false,
   "report_style_numbering": false,
   "user_envs_cfg": false
  },
  "toc": {
   "base_numbering": 1,
   "nav_menu": {},
   "number_sections": true,
   "sideBar": true,
   "skip_h1_title": false,
   "title_cell": "Table of Contents",
   "title_sidebar": "Contents",
   "toc_cell": false,
   "toc_position": {},
   "toc_section_display": true,
   "toc_window_display": true
  }
 },
 "nbformat": 4,
 "nbformat_minor": 2
}
